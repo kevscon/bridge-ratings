{
 "cells": [
  {
   "cell_type": "code",
   "execution_count": 1,
   "metadata": {},
   "outputs": [],
   "source": [
    "import pandas as pd\n",
    "import numpy as np"
   ]
  },
  {
   "cell_type": "code",
   "execution_count": 2,
   "metadata": {},
   "outputs": [],
   "source": [
    "df = pd.read_csv('data/DE17.txt')"
   ]
  },
  {
   "cell_type": "code",
   "execution_count": 3,
   "metadata": {
    "scrolled": true
   },
   "outputs": [
    {
     "data": {
      "text/html": [
       "<div>\n",
       "<style scoped>\n",
       "    .dataframe tbody tr th:only-of-type {\n",
       "        vertical-align: middle;\n",
       "    }\n",
       "\n",
       "    .dataframe tbody tr th {\n",
       "        vertical-align: top;\n",
       "    }\n",
       "\n",
       "    .dataframe thead th {\n",
       "        text-align: right;\n",
       "    }\n",
       "</style>\n",
       "<table border=\"1\" class=\"dataframe\">\n",
       "  <thead>\n",
       "    <tr style=\"text-align: right;\">\n",
       "      <th></th>\n",
       "      <th>STATE_CODE_001</th>\n",
       "      <th>STRUCTURE_NUMBER_008</th>\n",
       "      <th>RECORD_TYPE_005A</th>\n",
       "      <th>ROUTE_PREFIX_005B</th>\n",
       "      <th>SERVICE_LEVEL_005C</th>\n",
       "      <th>ROUTE_NUMBER_005D</th>\n",
       "      <th>DIRECTION_005E</th>\n",
       "      <th>HIGHWAY_DISTRICT_002</th>\n",
       "      <th>COUNTY_CODE_003</th>\n",
       "      <th>PLACE_CODE_004</th>\n",
       "      <th>...</th>\n",
       "      <th>DTL_TYPE_OF_IMP</th>\n",
       "      <th>SPECIAL_CODE</th>\n",
       "      <th>STEP_CODE</th>\n",
       "      <th>STATUS_WITH_10YR_RULE</th>\n",
       "      <th>SUFFICIENCY_ASTERC</th>\n",
       "      <th>SUFFICIENCY_RATING</th>\n",
       "      <th>STATUS_NO_10YR_RULE</th>\n",
       "      <th>CAT10</th>\n",
       "      <th>CAT23</th>\n",
       "      <th>CAT29</th>\n",
       "    </tr>\n",
       "  </thead>\n",
       "  <tbody>\n",
       "    <tr>\n",
       "      <th>0</th>\n",
       "      <td>10</td>\n",
       "      <td>1001 279</td>\n",
       "      <td>1</td>\n",
       "      <td>4</td>\n",
       "      <td>1</td>\n",
       "      <td>00279</td>\n",
       "      <td>0</td>\n",
       "      <td>1</td>\n",
       "      <td>3</td>\n",
       "      <td>34030</td>\n",
       "      <td>...</td>\n",
       "      <td>14.0</td>\n",
       "      <td>NaN</td>\n",
       "      <td>NaN</td>\n",
       "      <td>2</td>\n",
       "      <td>NaN</td>\n",
       "      <td>69.2</td>\n",
       "      <td>2</td>\n",
       "      <td>F</td>\n",
       "      <td>6</td>\n",
       "      <td>322.26</td>\n",
       "    </tr>\n",
       "    <tr>\n",
       "      <th>1</th>\n",
       "      <td>10</td>\n",
       "      <td>1001A279</td>\n",
       "      <td>1</td>\n",
       "      <td>4</td>\n",
       "      <td>1</td>\n",
       "      <td>00279</td>\n",
       "      <td>0</td>\n",
       "      <td>1</td>\n",
       "      <td>3</td>\n",
       "      <td>34030</td>\n",
       "      <td>...</td>\n",
       "      <td>NaN</td>\n",
       "      <td>NaN</td>\n",
       "      <td>NaN</td>\n",
       "      <td>2</td>\n",
       "      <td>NaN</td>\n",
       "      <td>77.0</td>\n",
       "      <td>2</td>\n",
       "      <td>F</td>\n",
       "      <td>6</td>\n",
       "      <td>64.60</td>\n",
       "    </tr>\n",
       "    <tr>\n",
       "      <th>2</th>\n",
       "      <td>10</td>\n",
       "      <td>1001B009</td>\n",
       "      <td>1</td>\n",
       "      <td>3</td>\n",
       "      <td>1</td>\n",
       "      <td>00052</td>\n",
       "      <td>0</td>\n",
       "      <td>1</td>\n",
       "      <td>3</td>\n",
       "      <td>77580</td>\n",
       "      <td>...</td>\n",
       "      <td>11.0</td>\n",
       "      <td>NaN</td>\n",
       "      <td>NaN</td>\n",
       "      <td>0</td>\n",
       "      <td>NaN</td>\n",
       "      <td>96.4</td>\n",
       "      <td>0</td>\n",
       "      <td>G</td>\n",
       "      <td>7</td>\n",
       "      <td>150.57</td>\n",
       "    </tr>\n",
       "    <tr>\n",
       "      <th>3</th>\n",
       "      <td>10</td>\n",
       "      <td>1002 232</td>\n",
       "      <td>1</td>\n",
       "      <td>4</td>\n",
       "      <td>1</td>\n",
       "      <td>00232</td>\n",
       "      <td>0</td>\n",
       "      <td>1</td>\n",
       "      <td>3</td>\n",
       "      <td>61590</td>\n",
       "      <td>...</td>\n",
       "      <td>12.0</td>\n",
       "      <td>NaN</td>\n",
       "      <td>NaN</td>\n",
       "      <td>2</td>\n",
       "      <td>NaN</td>\n",
       "      <td>59.6</td>\n",
       "      <td>2</td>\n",
       "      <td>F</td>\n",
       "      <td>5</td>\n",
       "      <td>576.15</td>\n",
       "    </tr>\n",
       "    <tr>\n",
       "      <th>4</th>\n",
       "      <td>10</td>\n",
       "      <td>1003 225</td>\n",
       "      <td>1</td>\n",
       "      <td>3</td>\n",
       "      <td>1</td>\n",
       "      <td>00092</td>\n",
       "      <td>0</td>\n",
       "      <td>1</td>\n",
       "      <td>3</td>\n",
       "      <td>31950</td>\n",
       "      <td>...</td>\n",
       "      <td>NaN</td>\n",
       "      <td>NaN</td>\n",
       "      <td>NaN</td>\n",
       "      <td>0</td>\n",
       "      <td>NaN</td>\n",
       "      <td>95.4</td>\n",
       "      <td>0</td>\n",
       "      <td>F</td>\n",
       "      <td>6</td>\n",
       "      <td>846.56</td>\n",
       "    </tr>\n",
       "  </tbody>\n",
       "</table>\n",
       "<p>5 rows × 137 columns</p>\n",
       "</div>"
      ],
      "text/plain": [
       "   STATE_CODE_001 STRUCTURE_NUMBER_008  RECORD_TYPE_005A  ROUTE_PREFIX_005B  \\\n",
       "0              10            1001 279                  1                  4   \n",
       "1              10            1001A279                  1                  4   \n",
       "2              10            1001B009                  1                  3   \n",
       "3              10            1002 232                  1                  4   \n",
       "4              10            1003 225                  1                  3   \n",
       "\n",
       "   SERVICE_LEVEL_005C ROUTE_NUMBER_005D  DIRECTION_005E  HIGHWAY_DISTRICT_002  \\\n",
       "0                   1             00279               0                     1   \n",
       "1                   1             00279               0                     1   \n",
       "2                   1             00052               0                     1   \n",
       "3                   1             00232               0                     1   \n",
       "4                   1             00092               0                     1   \n",
       "\n",
       "   COUNTY_CODE_003  PLACE_CODE_004   ...   DTL_TYPE_OF_IMP  SPECIAL_CODE  \\\n",
       "0                3           34030   ...              14.0           NaN   \n",
       "1                3           34030   ...               NaN           NaN   \n",
       "2                3           77580   ...              11.0           NaN   \n",
       "3                3           61590   ...              12.0           NaN   \n",
       "4                3           31950   ...               NaN           NaN   \n",
       "\n",
       "  STEP_CODE STATUS_WITH_10YR_RULE  SUFFICIENCY_ASTERC  SUFFICIENCY_RATING  \\\n",
       "0       NaN                     2                 NaN                69.2   \n",
       "1       NaN                     2                 NaN                77.0   \n",
       "2       NaN                     0                 NaN                96.4   \n",
       "3       NaN                     2                 NaN                59.6   \n",
       "4       NaN                     0                 NaN                95.4   \n",
       "\n",
       "   STATUS_NO_10YR_RULE CAT10  CAT23   CAT29  \n",
       "0                    2     F      6  322.26  \n",
       "1                    2     F      6   64.60  \n",
       "2                    0     G      7  150.57  \n",
       "3                    2     F      5  576.15  \n",
       "4                    0     F      6  846.56  \n",
       "\n",
       "[5 rows x 137 columns]"
      ]
     },
     "execution_count": 3,
     "metadata": {},
     "output_type": "execute_result"
    }
   ],
   "source": [
    "df.head()"
   ]
  },
  {
   "cell_type": "markdown",
   "metadata": {},
   "source": [
    "# ID Parameters\n",
    "- 008\n",
    "    - struct number, 15-digit\n",
    "- 007\n",
    "    - facility carried, 18-digit\n",
    "- 006A\n",
    "    - feature intersected, 24-digit\n",
    "- 016\n",
    "    - latitude (XX deg XX min XX.XX sec), 8-digit\n",
    "- 017\n",
    "    - longitude (XXX deg XX min XX.XX sec), 9-digit\n",
    "- 001\n",
    "    - state code, 3-digit\n",
    "- 003\n",
    "    - county code, 3-digit\n",
    "- 026\n",
    "    - functional classification, 2-digit - rural/urban and use"
   ]
  },
  {
   "cell_type": "markdown",
   "metadata": {},
   "source": [
    "# Independent variables\n",
    "Filter dataset for desired features for analysis. Items:\n",
    "- 021\n",
    "    - maintenance responsibility - categorical\n",
    "- 027\n",
    "    - year, 4-digit - feature engineer age from year as numerical\n",
    "- 029\n",
    "    - ADT, 6-digit - use to feature engineer ADTT value\n",
    "- 109\n",
    "    - ADTT (%), 2-digit - feature engineer value as numerical\n",
    "- 028A\n",
    "    - lanes on struct, 2-digit - numerical\n",
    "- 041\n",
    "    - posting, 1-digit - categorical\n",
    "- 043A\n",
    "    - material, 1-digit - categorical\n",
    "- 043B\n",
    "    - design type, 1-digit - categorical\n",
    "- 045\n",
    "    - num spans, 3-digit - numerical\n",
    "- 048\n",
    "    - max span length (meters), 5-digit (1 decimal) - numerical\n",
    "- 049\n",
    "    - struct length (meters), 6-digit (1 decimal) - numerical\n",
    "- 052\n",
    "    - deck width (meters), 4-digit (1 decimal) - numerical\n",
    "- 054B\n",
    "    - min underclearance (meters), 4-digit (2 decimal) - numerical\n",
    "- 061\n",
    "    - channel, 1-digit - categorical\n",
    "- 107\n",
    "    - deck type, 1-digit - categorical\n",
    "- 108A\n",
    "    - wearing surface, 1-digit - categorical\n",
    "- 108B\n",
    "    - membrane, 1-digit - categorical\n",
    "- 108C\n",
    "    - deck protection, 1-digit - categorical"
   ]
  },
  {
   "cell_type": "markdown",
   "metadata": {},
   "source": [
    "# Dependent variables\n",
    "Bridge performance metrics. Items:\n",
    "- 058\n",
    "    - deck rating, 1-digit\n",
    "- 059\n",
    "    - super rating, 1-digit\n",
    "- 060\n",
    "    - sub rating, 1-digit"
   ]
  },
  {
   "cell_type": "markdown",
   "metadata": {},
   "source": [
    "# Data Filtering"
   ]
  },
  {
   "cell_type": "code",
   "execution_count": 4,
   "metadata": {},
   "outputs": [
    {
     "data": {
      "text/plain": [
       "(879, 137)"
      ]
     },
     "execution_count": 4,
     "metadata": {},
     "output_type": "execute_result"
    }
   ],
   "source": [
    "df.shape"
   ]
  },
  {
   "cell_type": "markdown",
   "metadata": {},
   "source": [
    "## Structure Types"
   ]
  },
  {
   "cell_type": "markdown",
   "metadata": {},
   "source": [
    "- 042A\n",
    "    - type of service, 1-digit  \n",
    "    \n",
    "Filter to return observations that are highway or interchange structures (codes = 1, 6, 7 and 8)"
   ]
  },
  {
   "cell_type": "code",
   "execution_count": 5,
   "metadata": {},
   "outputs": [],
   "source": [
    "df_filt = df[(df['SERVICE_ON_042A'] == 1) | (df['SERVICE_ON_042A'] == 6) | \n",
    "(df['SERVICE_ON_042A'] == 7) | (df['SERVICE_ON_042A'] == 8)]"
   ]
  },
  {
   "cell_type": "markdown",
   "metadata": {},
   "source": [
    "- 043B\n",
    "    - design type, 2-digit  \n",
    "\n",
    "Filter out all observations that are culverts (code = 19)"
   ]
  },
  {
   "cell_type": "code",
   "execution_count": 6,
   "metadata": {},
   "outputs": [],
   "source": [
    "df_filt = df_filt[df_filt['STRUCTURE_TYPE_043B'] != 19]"
   ]
  },
  {
   "cell_type": "code",
   "execution_count": 7,
   "metadata": {},
   "outputs": [
    {
     "data": {
      "text/plain": [
       "(478, 137)"
      ]
     },
     "execution_count": 7,
     "metadata": {},
     "output_type": "execute_result"
    }
   ],
   "source": [
    "df_filt.shape"
   ]
  },
  {
   "cell_type": "markdown",
   "metadata": {},
   "source": [
    "## Condition Ratings\n",
    "Remove observations with no structural condition ratings (code = 'N')"
   ]
  },
  {
   "cell_type": "code",
   "execution_count": 8,
   "metadata": {},
   "outputs": [
    {
     "data": {
      "text/plain": [
       "array(['6', '7', '8', 'N', '5', '4', '9', '3'], dtype=object)"
      ]
     },
     "execution_count": 8,
     "metadata": {},
     "output_type": "execute_result"
    }
   ],
   "source": [
    "# check deck ratings\n",
    "df_filt['DECK_COND_058'].unique()"
   ]
  },
  {
   "cell_type": "code",
   "execution_count": 9,
   "metadata": {},
   "outputs": [
    {
     "data": {
      "text/plain": [
       "7    244\n",
       "6    143\n",
       "5     44\n",
       "8     25\n",
       "N     12\n",
       "9      5\n",
       "4      4\n",
       "3      1\n",
       "Name: DECK_COND_058, dtype: int64"
      ]
     },
     "execution_count": 9,
     "metadata": {},
     "output_type": "execute_result"
    }
   ],
   "source": [
    "df_filt['DECK_COND_058'].value_counts()"
   ]
  },
  {
   "cell_type": "code",
   "execution_count": 10,
   "metadata": {},
   "outputs": [],
   "source": [
    "df_filt = df_filt[df_filt['DECK_COND_058'] != 'N']"
   ]
  },
  {
   "cell_type": "code",
   "execution_count": 11,
   "metadata": {},
   "outputs": [
    {
     "data": {
      "text/plain": [
       "array(['6', '7', '8', '5', '4', '9', '3'], dtype=object)"
      ]
     },
     "execution_count": 11,
     "metadata": {},
     "output_type": "execute_result"
    }
   ],
   "source": [
    "df_filt['DECK_COND_058'].unique()"
   ]
  },
  {
   "cell_type": "code",
   "execution_count": 12,
   "metadata": {},
   "outputs": [
    {
     "data": {
      "text/plain": [
       "array(['8', '7', '5', '6', '4', '9'], dtype=object)"
      ]
     },
     "execution_count": 12,
     "metadata": {},
     "output_type": "execute_result"
    }
   ],
   "source": [
    "# check superstructure ratings\n",
    "df_filt['SUPERSTRUCTURE_COND_059'].unique()"
   ]
  },
  {
   "cell_type": "code",
   "execution_count": 13,
   "metadata": {},
   "outputs": [
    {
     "data": {
      "text/plain": [
       "array(['6', '7', '5', '4', '9', '8'], dtype=object)"
      ]
     },
     "execution_count": 13,
     "metadata": {},
     "output_type": "execute_result"
    }
   ],
   "source": [
    "# check substructure ratings\n",
    "df_filt['SUBSTRUCTURE_COND_060'].unique()"
   ]
  },
  {
   "cell_type": "markdown",
   "metadata": {},
   "source": [
    "## Features\n",
    "Return only desired features from dataset"
   ]
  },
  {
   "cell_type": "code",
   "execution_count": 14,
   "metadata": {},
   "outputs": [],
   "source": [
    "col_id = [\n",
    "    'STRUCTURE_NUMBER_008',\n",
    "    'FACILITY_CARRIED_007',\n",
    "    'FEATURES_DESC_006A',\n",
    "    'LAT_016',\n",
    "    'LONG_017',\n",
    "    'STATE_CODE_001',\n",
    "    'COUNTY_CODE_003',\n",
    "    'FUNCTIONAL_CLASS_026'\n",
    "]"
   ]
  },
  {
   "cell_type": "code",
   "execution_count": 15,
   "metadata": {},
   "outputs": [],
   "source": [
    "col_indep = [\n",
    "    'MAINTENANCE_021',\n",
    "    'YEAR_BUILT_027',\n",
    "    'ADT_029',\n",
    "    'PERCENT_ADT_TRUCK_109',\n",
    "    'TRAFFIC_LANES_ON_028A',\n",
    "    'OPEN_CLOSED_POSTED_041',\n",
    "    'STRUCTURE_KIND_043A', \n",
    "    'STRUCTURE_TYPE_043B',\n",
    "    'MAIN_UNIT_SPANS_045',\n",
    "    'MAX_SPAN_LEN_MT_048',\n",
    "    'STRUCTURE_LEN_MT_049',\n",
    "    'DECK_WIDTH_MT_052',\n",
    "    'VERT_CLR_UND_054B',\n",
    "    'CHANNEL_COND_061',\n",
    "    'YEAR_RECONSTRUCTED_106',\n",
    "    'DECK_STRUCTURE_TYPE_107', \n",
    "    'SURFACE_TYPE_108A', \n",
    "    'MEMBRANE_TYPE_108B',\n",
    "    'DECK_PROTECTION_108C'\n",
    "]"
   ]
  },
  {
   "cell_type": "code",
   "execution_count": 16,
   "metadata": {},
   "outputs": [],
   "source": [
    "col_dep = [\n",
    "    'DECK_COND_058', \n",
    "    'SUPERSTRUCTURE_COND_059', \n",
    "    'SUBSTRUCTURE_COND_060'\n",
    "]"
   ]
  },
  {
   "cell_type": "code",
   "execution_count": 17,
   "metadata": {},
   "outputs": [],
   "source": [
    "cols = col_id + col_indep + col_dep\n",
    "df_filt = df_filt[cols]"
   ]
  },
  {
   "cell_type": "code",
   "execution_count": 18,
   "metadata": {},
   "outputs": [
    {
     "data": {
      "text/plain": [
       "(466, 30)"
      ]
     },
     "execution_count": 18,
     "metadata": {},
     "output_type": "execute_result"
    }
   ],
   "source": [
    "df_filt.shape"
   ]
  },
  {
   "cell_type": "markdown",
   "metadata": {},
   "source": [
    "## NaN Values"
   ]
  },
  {
   "cell_type": "code",
   "execution_count": 19,
   "metadata": {},
   "outputs": [
    {
     "name": "stdout",
     "output_type": "stream",
     "text": [
      "PERCENT_ADT_TRUCK_109\n",
      "1\n"
     ]
    }
   ],
   "source": [
    "# return column and number of NaN values\n",
    "for col in df_filt.columns:\n",
    "    if df_filt[col].isnull().values.any() == True:\n",
    "        print(col)\n",
    "        print(sum(df_filt[col].isnull()))\n",
    "    else:\n",
    "        pass"
   ]
  },
  {
   "cell_type": "code",
   "execution_count": 20,
   "metadata": {},
   "outputs": [],
   "source": [
    "# remove any observations with NaN values\n",
    "df_filt = df_filt.dropna()"
   ]
  },
  {
   "cell_type": "code",
   "execution_count": 21,
   "metadata": {},
   "outputs": [
    {
     "data": {
      "text/plain": [
       "(465, 30)"
      ]
     },
     "execution_count": 21,
     "metadata": {},
     "output_type": "execute_result"
    }
   ],
   "source": [
    "df_filt.shape"
   ]
  },
  {
   "cell_type": "code",
   "execution_count": 28,
   "metadata": {
    "scrolled": true
   },
   "outputs": [
    {
     "data": {
      "text/html": [
       "<div>\n",
       "<style scoped>\n",
       "    .dataframe tbody tr th:only-of-type {\n",
       "        vertical-align: middle;\n",
       "    }\n",
       "\n",
       "    .dataframe tbody tr th {\n",
       "        vertical-align: top;\n",
       "    }\n",
       "\n",
       "    .dataframe thead th {\n",
       "        text-align: right;\n",
       "    }\n",
       "</style>\n",
       "<table border=\"1\" class=\"dataframe\">\n",
       "  <thead>\n",
       "    <tr style=\"text-align: right;\">\n",
       "      <th></th>\n",
       "      <th>STRUCTURE_NUMBER_008</th>\n",
       "      <th>FACILITY_CARRIED_007</th>\n",
       "      <th>FEATURES_DESC_006A</th>\n",
       "      <th>LAT_016</th>\n",
       "      <th>LONG_017</th>\n",
       "      <th>STATE_CODE_001</th>\n",
       "      <th>COUNTY_CODE_003</th>\n",
       "      <th>FUNCTIONAL_CLASS_026</th>\n",
       "      <th>MAINTENANCE_021</th>\n",
       "      <th>YEAR_BUILT_027</th>\n",
       "      <th>...</th>\n",
       "      <th>VERT_CLR_UND_054B</th>\n",
       "      <th>CHANNEL_COND_061</th>\n",
       "      <th>YEAR_RECONSTRUCTED_106</th>\n",
       "      <th>DECK_STRUCTURE_TYPE_107</th>\n",
       "      <th>SURFACE_TYPE_108A</th>\n",
       "      <th>MEMBRANE_TYPE_108B</th>\n",
       "      <th>DECK_PROTECTION_108C</th>\n",
       "      <th>DECK_COND_058</th>\n",
       "      <th>SUPERSTRUCTURE_COND_059</th>\n",
       "      <th>SUBSTRUCTURE_COND_060</th>\n",
       "    </tr>\n",
       "  </thead>\n",
       "  <tbody>\n",
       "    <tr>\n",
       "      <th>4</th>\n",
       "      <td>1003 225</td>\n",
       "      <td>'THOMPSON BRIDGE RD'</td>\n",
       "      <td>'BRANDYWINE CREEK        '</td>\n",
       "      <td>39490118</td>\n",
       "      <td>75341160</td>\n",
       "      <td>10</td>\n",
       "      <td>3</td>\n",
       "      <td>7</td>\n",
       "      <td>1</td>\n",
       "      <td>1990</td>\n",
       "      <td>...</td>\n",
       "      <td>0.00</td>\n",
       "      <td>6</td>\n",
       "      <td>0</td>\n",
       "      <td>1</td>\n",
       "      <td>1</td>\n",
       "      <td>0</td>\n",
       "      <td>1</td>\n",
       "      <td>6</td>\n",
       "      <td>8</td>\n",
       "      <td>6</td>\n",
       "    </tr>\n",
       "    <tr>\n",
       "      <th>5</th>\n",
       "      <td>1008 221</td>\n",
       "      <td>'BRANDYWINE CREEK R'</td>\n",
       "      <td>'TRIB. TO BRANDYWINE     '</td>\n",
       "      <td>39500587</td>\n",
       "      <td>75343303</td>\n",
       "      <td>10</td>\n",
       "      <td>3</td>\n",
       "      <td>9</td>\n",
       "      <td>1</td>\n",
       "      <td>1960</td>\n",
       "      <td>...</td>\n",
       "      <td>0.00</td>\n",
       "      <td>6</td>\n",
       "      <td>0</td>\n",
       "      <td>1</td>\n",
       "      <td>6</td>\n",
       "      <td>0</td>\n",
       "      <td>0</td>\n",
       "      <td>7</td>\n",
       "      <td>7</td>\n",
       "      <td>7</td>\n",
       "    </tr>\n",
       "    <tr>\n",
       "      <th>6</th>\n",
       "      <td>1009 221</td>\n",
       "      <td>'SMITH BRIDGE RD   '</td>\n",
       "      <td>'BRANDYWINE CREEK        '</td>\n",
       "      <td>39501584</td>\n",
       "      <td>75344477</td>\n",
       "      <td>10</td>\n",
       "      <td>3</td>\n",
       "      <td>19</td>\n",
       "      <td>1</td>\n",
       "      <td>1839</td>\n",
       "      <td>...</td>\n",
       "      <td>0.00</td>\n",
       "      <td>7</td>\n",
       "      <td>2002</td>\n",
       "      <td>8</td>\n",
       "      <td>7</td>\n",
       "      <td>0</td>\n",
       "      <td>N</td>\n",
       "      <td>7</td>\n",
       "      <td>5</td>\n",
       "      <td>7</td>\n",
       "    </tr>\n",
       "    <tr>\n",
       "      <th>13</th>\n",
       "      <td>1020 232</td>\n",
       "      <td>'ROCKLAND RD       '</td>\n",
       "      <td>'HUSBANDS RUN            '</td>\n",
       "      <td>39471013</td>\n",
       "      <td>75334227</td>\n",
       "      <td>10</td>\n",
       "      <td>3</td>\n",
       "      <td>17</td>\n",
       "      <td>1</td>\n",
       "      <td>1932</td>\n",
       "      <td>...</td>\n",
       "      <td>0.00</td>\n",
       "      <td>7</td>\n",
       "      <td>1993</td>\n",
       "      <td>1</td>\n",
       "      <td>6</td>\n",
       "      <td>0</td>\n",
       "      <td>1</td>\n",
       "      <td>7</td>\n",
       "      <td>7</td>\n",
       "      <td>5</td>\n",
       "    </tr>\n",
       "    <tr>\n",
       "      <th>14</th>\n",
       "      <td>1023A231</td>\n",
       "      <td>'GUYENCOURT RD.    '</td>\n",
       "      <td>'READING RR              '</td>\n",
       "      <td>39485945</td>\n",
       "      <td>75350660</td>\n",
       "      <td>10</td>\n",
       "      <td>3</td>\n",
       "      <td>9</td>\n",
       "      <td>1</td>\n",
       "      <td>1918</td>\n",
       "      <td>...</td>\n",
       "      <td>6.59</td>\n",
       "      <td>N</td>\n",
       "      <td>1982</td>\n",
       "      <td>8</td>\n",
       "      <td>7</td>\n",
       "      <td>0</td>\n",
       "      <td>0</td>\n",
       "      <td>7</td>\n",
       "      <td>7</td>\n",
       "      <td>5</td>\n",
       "    </tr>\n",
       "  </tbody>\n",
       "</table>\n",
       "<p>5 rows × 30 columns</p>\n",
       "</div>"
      ],
      "text/plain": [
       "   STRUCTURE_NUMBER_008  FACILITY_CARRIED_007          FEATURES_DESC_006A  \\\n",
       "4             1003 225   'THOMPSON BRIDGE RD'  'BRANDYWINE CREEK        '   \n",
       "5             1008 221   'BRANDYWINE CREEK R'  'TRIB. TO BRANDYWINE     '   \n",
       "6             1009 221   'SMITH BRIDGE RD   '  'BRANDYWINE CREEK        '   \n",
       "13            1020 232   'ROCKLAND RD       '  'HUSBANDS RUN            '   \n",
       "14            1023A231   'GUYENCOURT RD.    '  'READING RR              '   \n",
       "\n",
       "     LAT_016  LONG_017  STATE_CODE_001  COUNTY_CODE_003  FUNCTIONAL_CLASS_026  \\\n",
       "4   39490118  75341160              10                3                     7   \n",
       "5   39500587  75343303              10                3                     9   \n",
       "6   39501584  75344477              10                3                    19   \n",
       "13  39471013  75334227              10                3                    17   \n",
       "14  39485945  75350660              10                3                     9   \n",
       "\n",
       "    MAINTENANCE_021  YEAR_BUILT_027          ...            VERT_CLR_UND_054B  \\\n",
       "4                 1            1990          ...                         0.00   \n",
       "5                 1            1960          ...                         0.00   \n",
       "6                 1            1839          ...                         0.00   \n",
       "13                1            1932          ...                         0.00   \n",
       "14                1            1918          ...                         6.59   \n",
       "\n",
       "    CHANNEL_COND_061  YEAR_RECONSTRUCTED_106 DECK_STRUCTURE_TYPE_107  \\\n",
       "4                  6                       0                       1   \n",
       "5                  6                       0                       1   \n",
       "6                  7                    2002                       8   \n",
       "13                 7                    1993                       1   \n",
       "14                 N                    1982                       8   \n",
       "\n",
       "    SURFACE_TYPE_108A  MEMBRANE_TYPE_108B  DECK_PROTECTION_108C  \\\n",
       "4                   1                   0                     1   \n",
       "5                   6                   0                     0   \n",
       "6                   7                   0                     N   \n",
       "13                  6                   0                     1   \n",
       "14                  7                   0                     0   \n",
       "\n",
       "    DECK_COND_058  SUPERSTRUCTURE_COND_059  SUBSTRUCTURE_COND_060  \n",
       "4               6                        8                      6  \n",
       "5               7                        7                      7  \n",
       "6               7                        5                      7  \n",
       "13              7                        7                      5  \n",
       "14              7                        7                      5  \n",
       "\n",
       "[5 rows x 30 columns]"
      ]
     },
     "execution_count": 28,
     "metadata": {},
     "output_type": "execute_result"
    }
   ],
   "source": [
    "df_filt.head()"
   ]
  },
  {
   "cell_type": "markdown",
   "metadata": {},
   "source": [
    "# Finalize Data"
   ]
  },
  {
   "cell_type": "code",
   "execution_count": 23,
   "metadata": {},
   "outputs": [],
   "source": [
    "df_fin = df_filt.copy()"
   ]
  },
  {
   "cell_type": "markdown",
   "metadata": {},
   "source": [
    "## Create ID"
   ]
  },
  {
   "cell_type": "code",
   "execution_count": 25,
   "metadata": {},
   "outputs": [],
   "source": [
    "# define identification tag for each structure\n",
    "ID = df_fin['STATE_CODE_001'].astype(str) + \"-\" + df_fin['STRUCTURE_NUMBER_008'].apply(lambda x: x.strip())"
   ]
  },
  {
   "cell_type": "code",
   "execution_count": 26,
   "metadata": {},
   "outputs": [],
   "source": [
    "df_fin.insert(0, 'ID', ID)"
   ]
  },
  {
   "cell_type": "markdown",
   "metadata": {},
   "source": [
    "## Numeric Datatypes"
   ]
  },
  {
   "cell_type": "code",
   "execution_count": 29,
   "metadata": {},
   "outputs": [],
   "source": [
    "col_num = [\n",
    "    'LAT_016',\n",
    "    'LONG_017',\n",
    "    'YEAR_BUILT_027',\n",
    "    'YEAR_RECONSTRUCTED_106',\n",
    "    'ADT_029',\n",
    "    'PERCENT_ADT_TRUCK_109',\n",
    "    'TRAFFIC_LANES_ON_028A',\n",
    "    'MAIN_UNIT_SPANS_045',\n",
    "    'MAX_SPAN_LEN_MT_048',\n",
    "    'STRUCTURE_LEN_MT_049',\n",
    "    'DECK_WIDTH_MT_052',\n",
    "    'VERT_CLR_UND_054B',\n",
    "    'DECK_COND_058', \n",
    "    'SUPERSTRUCTURE_COND_059', \n",
    "    'SUBSTRUCTURE_COND_060'\n",
    "]"
   ]
  },
  {
   "cell_type": "code",
   "execution_count": 30,
   "metadata": {
    "scrolled": true
   },
   "outputs": [
    {
     "name": "stdout",
     "output_type": "stream",
     "text": [
      "int64\n",
      "int64\n",
      "int64\n",
      "int64\n",
      "int64\n",
      "float64\n",
      "int64\n",
      "int64\n",
      "float64\n",
      "float64\n",
      "float64\n",
      "float64\n",
      "object\n",
      "object\n",
      "object\n"
     ]
    }
   ],
   "source": [
    "for col in col_num:\n",
    "    print(df_fin[col].dtype)"
   ]
  },
  {
   "cell_type": "code",
   "execution_count": 31,
   "metadata": {},
   "outputs": [],
   "source": [
    "# convert object types to int\n",
    "df_fin['DECK_COND_058'] = pd.to_numeric(df_fin['DECK_COND_058'])\n",
    "df_fin['SUPERSTRUCTURE_COND_059'] = pd.to_numeric(df_fin['SUPERSTRUCTURE_COND_059'])\n",
    "df_fin['SUBSTRUCTURE_COND_060'] = pd.to_numeric(df_fin['SUBSTRUCTURE_COND_060'])"
   ]
  },
  {
   "cell_type": "markdown",
   "metadata": {},
   "source": [
    "## Feature Engineering"
   ]
  },
  {
   "cell_type": "markdown",
   "metadata": {},
   "source": [
    "### Age and Reconstruction\n",
    "Replace year built and year reconstructed with years since"
   ]
  },
  {
   "cell_type": "code",
   "execution_count": 32,
   "metadata": {},
   "outputs": [],
   "source": [
    "year_base = 2018"
   ]
  },
  {
   "cell_type": "code",
   "execution_count": 51,
   "metadata": {},
   "outputs": [],
   "source": [
    "df_fin['YEAR_BUILT_027'] = year_base - df_fin['YEAR_BUILT_027']\n",
    "df_fin.rename(columns={'YEAR_BUILT_027': 'AGE'}, inplace=True)"
   ]
  },
  {
   "cell_type": "code",
   "execution_count": 54,
   "metadata": {},
   "outputs": [],
   "source": [
    "df_fin['YEARS_SINCE_RECON'] = df_fin.apply(lambda x: x['AGE'] \n",
    "             if x['YEAR_RECONSTRUCTED_106'] == 0 else year_base - x['YEAR_RECONSTRUCTED_106'], axis=1);"
   ]
  },
  {
   "cell_type": "markdown",
   "metadata": {},
   "source": [
    "### ADTT\n",
    "Replace percentage of ADT trucks with ADTT value"
   ]
  },
  {
   "cell_type": "code",
   "execution_count": 55,
   "metadata": {},
   "outputs": [],
   "source": [
    "df_fin['PERCENT_ADT_TRUCK_109'] = df_fin['PERCENT_ADT_TRUCK_109'] * df_fin['ADT_029']\n",
    "df_fin.rename(columns={'PERCENT_ADT_TRUCK_109': 'ADTT'}, inplace=True)"
   ]
  },
  {
   "cell_type": "markdown",
   "metadata": {},
   "source": [
    "### Location"
   ]
  },
  {
   "cell_type": "code",
   "execution_count": 29,
   "metadata": {},
   "outputs": [],
   "source": [
    "# may use later\n",
    "# calc distance using Lat and Long values"
   ]
  },
  {
   "cell_type": "markdown",
   "metadata": {},
   "source": [
    "## Define numerical feature dataframe"
   ]
  },
  {
   "cell_type": "code",
   "execution_count": 56,
   "metadata": {},
   "outputs": [],
   "source": [
    "df_num = df_fin[[\n",
    "    'ID',\n",
    "    'AGE',\n",
    "    'YEARS_SINCE_RECON',\n",
    "    'ADT_029',\n",
    "    'ADTT',\n",
    "    'TRAFFIC_LANES_ON_028A',\n",
    "    'MAIN_UNIT_SPANS_045',\n",
    "    'MAX_SPAN_LEN_MT_048',\n",
    "    'STRUCTURE_LEN_MT_049',\n",
    "    'DECK_WIDTH_MT_052',\n",
    "    'VERT_CLR_UND_054B'\n",
    "]]"
   ]
  },
  {
   "cell_type": "code",
   "execution_count": 57,
   "metadata": {},
   "outputs": [
    {
     "data": {
      "text/plain": [
       "(465, 11)"
      ]
     },
     "execution_count": 57,
     "metadata": {},
     "output_type": "execute_result"
    }
   ],
   "source": [
    "df_num.shape"
   ]
  },
  {
   "cell_type": "code",
   "execution_count": 58,
   "metadata": {},
   "outputs": [
    {
     "data": {
      "text/html": [
       "<div>\n",
       "<style scoped>\n",
       "    .dataframe tbody tr th:only-of-type {\n",
       "        vertical-align: middle;\n",
       "    }\n",
       "\n",
       "    .dataframe tbody tr th {\n",
       "        vertical-align: top;\n",
       "    }\n",
       "\n",
       "    .dataframe thead th {\n",
       "        text-align: right;\n",
       "    }\n",
       "</style>\n",
       "<table border=\"1\" class=\"dataframe\">\n",
       "  <thead>\n",
       "    <tr style=\"text-align: right;\">\n",
       "      <th></th>\n",
       "      <th>ID</th>\n",
       "      <th>AGE</th>\n",
       "      <th>YEARS_SINCE_RECON</th>\n",
       "      <th>ADT_029</th>\n",
       "      <th>ADTT</th>\n",
       "      <th>TRAFFIC_LANES_ON_028A</th>\n",
       "      <th>MAIN_UNIT_SPANS_045</th>\n",
       "      <th>MAX_SPAN_LEN_MT_048</th>\n",
       "      <th>STRUCTURE_LEN_MT_049</th>\n",
       "      <th>DECK_WIDTH_MT_052</th>\n",
       "      <th>VERT_CLR_UND_054B</th>\n",
       "    </tr>\n",
       "  </thead>\n",
       "  <tbody>\n",
       "    <tr>\n",
       "      <th>4</th>\n",
       "      <td>10-1003 225</td>\n",
       "      <td>28</td>\n",
       "      <td>28</td>\n",
       "      <td>6814</td>\n",
       "      <td>34070.0</td>\n",
       "      <td>2</td>\n",
       "      <td>2</td>\n",
       "      <td>28.4</td>\n",
       "      <td>59.2</td>\n",
       "      <td>14.3</td>\n",
       "      <td>0.00</td>\n",
       "    </tr>\n",
       "    <tr>\n",
       "      <th>5</th>\n",
       "      <td>10-1008 221</td>\n",
       "      <td>58</td>\n",
       "      <td>58</td>\n",
       "      <td>2473</td>\n",
       "      <td>22257.0</td>\n",
       "      <td>2</td>\n",
       "      <td>1</td>\n",
       "      <td>12.5</td>\n",
       "      <td>13.3</td>\n",
       "      <td>9.1</td>\n",
       "      <td>0.00</td>\n",
       "    </tr>\n",
       "    <tr>\n",
       "      <th>6</th>\n",
       "      <td>10-1009 221</td>\n",
       "      <td>179</td>\n",
       "      <td>16</td>\n",
       "      <td>2029</td>\n",
       "      <td>22319.0</td>\n",
       "      <td>1</td>\n",
       "      <td>3</td>\n",
       "      <td>13.7</td>\n",
       "      <td>43.6</td>\n",
       "      <td>5.2</td>\n",
       "      <td>0.00</td>\n",
       "    </tr>\n",
       "    <tr>\n",
       "      <th>13</th>\n",
       "      <td>10-1020 232</td>\n",
       "      <td>86</td>\n",
       "      <td>25</td>\n",
       "      <td>3712</td>\n",
       "      <td>22272.0</td>\n",
       "      <td>2</td>\n",
       "      <td>1</td>\n",
       "      <td>7.7</td>\n",
       "      <td>8.4</td>\n",
       "      <td>8.3</td>\n",
       "      <td>0.00</td>\n",
       "    </tr>\n",
       "    <tr>\n",
       "      <th>14</th>\n",
       "      <td>10-1023A231</td>\n",
       "      <td>100</td>\n",
       "      <td>36</td>\n",
       "      <td>364</td>\n",
       "      <td>4368.0</td>\n",
       "      <td>2</td>\n",
       "      <td>3</td>\n",
       "      <td>7.3</td>\n",
       "      <td>20.4</td>\n",
       "      <td>6.3</td>\n",
       "      <td>6.59</td>\n",
       "    </tr>\n",
       "  </tbody>\n",
       "</table>\n",
       "</div>"
      ],
      "text/plain": [
       "             ID  AGE  YEARS_SINCE_RECON  ADT_029     ADTT  \\\n",
       "4   10-1003 225   28                 28     6814  34070.0   \n",
       "5   10-1008 221   58                 58     2473  22257.0   \n",
       "6   10-1009 221  179                 16     2029  22319.0   \n",
       "13  10-1020 232   86                 25     3712  22272.0   \n",
       "14  10-1023A231  100                 36      364   4368.0   \n",
       "\n",
       "    TRAFFIC_LANES_ON_028A  MAIN_UNIT_SPANS_045  MAX_SPAN_LEN_MT_048  \\\n",
       "4                       2                    2                 28.4   \n",
       "5                       2                    1                 12.5   \n",
       "6                       1                    3                 13.7   \n",
       "13                      2                    1                  7.7   \n",
       "14                      2                    3                  7.3   \n",
       "\n",
       "    STRUCTURE_LEN_MT_049  DECK_WIDTH_MT_052  VERT_CLR_UND_054B  \n",
       "4                   59.2               14.3               0.00  \n",
       "5                   13.3                9.1               0.00  \n",
       "6                   43.6                5.2               0.00  \n",
       "13                   8.4                8.3               0.00  \n",
       "14                  20.4                6.3               6.59  "
      ]
     },
     "execution_count": 58,
     "metadata": {},
     "output_type": "execute_result"
    }
   ],
   "source": [
    "df_num.head()"
   ]
  },
  {
   "cell_type": "markdown",
   "metadata": {},
   "source": [
    "## Categorical Values"
   ]
  },
  {
   "cell_type": "code",
   "execution_count": 59,
   "metadata": {},
   "outputs": [],
   "source": [
    "col_cat = [\n",
    "    'MAINTENANCE_021',\n",
    "    'OPEN_CLOSED_POSTED_041',\n",
    "    'STRUCTURE_KIND_043A', \n",
    "    'STRUCTURE_TYPE_043B',\n",
    "    'CHANNEL_COND_061',\n",
    "    'DECK_STRUCTURE_TYPE_107', \n",
    "    'SURFACE_TYPE_108A', \n",
    "    'MEMBRANE_TYPE_108B',\n",
    "    'DECK_PROTECTION_108C'\n",
    "]"
   ]
  },
  {
   "cell_type": "code",
   "execution_count": 60,
   "metadata": {},
   "outputs": [
    {
     "name": "stdout",
     "output_type": "stream",
     "text": [
      "MAINTENANCE_021\n",
      "[ 1 11  4 32 70]\n",
      "OPEN_CLOSED_POSTED_041\n",
      "['A' 'P' 'K']\n",
      "STRUCTURE_KIND_043A\n",
      "[5 3 4 1 7 6 2 0]\n",
      "STRUCTURE_TYPE_043B\n",
      "[ 5  2  1  6  3 10  4 13 15 14 17 12]\n",
      "CHANNEL_COND_061\n",
      "['6' '7' 'N' '8' '4' '5' '9']\n",
      "DECK_STRUCTURE_TYPE_107\n",
      "['1' '8' '9' '2' 'N' '3']\n",
      "SURFACE_TYPE_108A\n",
      "['1' '6' '7' '0' '5' '3' '2' '9' 'N']\n",
      "MEMBRANE_TYPE_108B\n",
      "['0' '9' '3' 'N' '1' '2']\n",
      "DECK_PROTECTION_108C\n",
      "['1' '0' 'N' '3' '9' '2']\n"
     ]
    }
   ],
   "source": [
    "# examine categorical values\n",
    "for col in col_cat:\n",
    "    print(col)\n",
    "    print(df_fin[col].unique())"
   ]
  },
  {
   "cell_type": "code",
   "execution_count": 61,
   "metadata": {},
   "outputs": [],
   "source": [
    "df_cat = df_fin[col_cat]"
   ]
  },
  {
   "cell_type": "code",
   "execution_count": 62,
   "metadata": {},
   "outputs": [
    {
     "data": {
      "text/plain": [
       "(465, 9)"
      ]
     },
     "execution_count": 62,
     "metadata": {},
     "output_type": "execute_result"
    }
   ],
   "source": [
    "df_cat.shape"
   ]
  },
  {
   "cell_type": "code",
   "execution_count": 63,
   "metadata": {},
   "outputs": [
    {
     "data": {
      "text/html": [
       "<div>\n",
       "<style scoped>\n",
       "    .dataframe tbody tr th:only-of-type {\n",
       "        vertical-align: middle;\n",
       "    }\n",
       "\n",
       "    .dataframe tbody tr th {\n",
       "        vertical-align: top;\n",
       "    }\n",
       "\n",
       "    .dataframe thead th {\n",
       "        text-align: right;\n",
       "    }\n",
       "</style>\n",
       "<table border=\"1\" class=\"dataframe\">\n",
       "  <thead>\n",
       "    <tr style=\"text-align: right;\">\n",
       "      <th></th>\n",
       "      <th>MAINTENANCE_021</th>\n",
       "      <th>OPEN_CLOSED_POSTED_041</th>\n",
       "      <th>STRUCTURE_KIND_043A</th>\n",
       "      <th>STRUCTURE_TYPE_043B</th>\n",
       "      <th>CHANNEL_COND_061</th>\n",
       "      <th>DECK_STRUCTURE_TYPE_107</th>\n",
       "      <th>SURFACE_TYPE_108A</th>\n",
       "      <th>MEMBRANE_TYPE_108B</th>\n",
       "      <th>DECK_PROTECTION_108C</th>\n",
       "    </tr>\n",
       "  </thead>\n",
       "  <tbody>\n",
       "    <tr>\n",
       "      <th>4</th>\n",
       "      <td>1</td>\n",
       "      <td>A</td>\n",
       "      <td>5</td>\n",
       "      <td>5</td>\n",
       "      <td>6</td>\n",
       "      <td>1</td>\n",
       "      <td>1</td>\n",
       "      <td>0</td>\n",
       "      <td>1</td>\n",
       "    </tr>\n",
       "    <tr>\n",
       "      <th>5</th>\n",
       "      <td>1</td>\n",
       "      <td>A</td>\n",
       "      <td>3</td>\n",
       "      <td>2</td>\n",
       "      <td>6</td>\n",
       "      <td>1</td>\n",
       "      <td>6</td>\n",
       "      <td>0</td>\n",
       "      <td>0</td>\n",
       "    </tr>\n",
       "    <tr>\n",
       "      <th>6</th>\n",
       "      <td>1</td>\n",
       "      <td>A</td>\n",
       "      <td>4</td>\n",
       "      <td>2</td>\n",
       "      <td>7</td>\n",
       "      <td>8</td>\n",
       "      <td>7</td>\n",
       "      <td>0</td>\n",
       "      <td>N</td>\n",
       "    </tr>\n",
       "    <tr>\n",
       "      <th>13</th>\n",
       "      <td>1</td>\n",
       "      <td>A</td>\n",
       "      <td>1</td>\n",
       "      <td>1</td>\n",
       "      <td>7</td>\n",
       "      <td>1</td>\n",
       "      <td>6</td>\n",
       "      <td>0</td>\n",
       "      <td>1</td>\n",
       "    </tr>\n",
       "    <tr>\n",
       "      <th>14</th>\n",
       "      <td>1</td>\n",
       "      <td>P</td>\n",
       "      <td>7</td>\n",
       "      <td>2</td>\n",
       "      <td>N</td>\n",
       "      <td>8</td>\n",
       "      <td>7</td>\n",
       "      <td>0</td>\n",
       "      <td>0</td>\n",
       "    </tr>\n",
       "  </tbody>\n",
       "</table>\n",
       "</div>"
      ],
      "text/plain": [
       "    MAINTENANCE_021 OPEN_CLOSED_POSTED_041  STRUCTURE_KIND_043A  \\\n",
       "4                 1                      A                    5   \n",
       "5                 1                      A                    3   \n",
       "6                 1                      A                    4   \n",
       "13                1                      A                    1   \n",
       "14                1                      P                    7   \n",
       "\n",
       "    STRUCTURE_TYPE_043B CHANNEL_COND_061 DECK_STRUCTURE_TYPE_107  \\\n",
       "4                     5                6                       1   \n",
       "5                     2                6                       1   \n",
       "6                     2                7                       8   \n",
       "13                    1                7                       1   \n",
       "14                    2                N                       8   \n",
       "\n",
       "   SURFACE_TYPE_108A MEMBRANE_TYPE_108B DECK_PROTECTION_108C  \n",
       "4                  1                  0                    1  \n",
       "5                  6                  0                    0  \n",
       "6                  7                  0                    N  \n",
       "13                 6                  0                    1  \n",
       "14                 7                  0                    0  "
      ]
     },
     "execution_count": 63,
     "metadata": {},
     "output_type": "execute_result"
    }
   ],
   "source": [
    "df_cat.head()"
   ]
  },
  {
   "cell_type": "markdown",
   "metadata": {},
   "source": [
    "## Define categorical feature dataframe"
   ]
  },
  {
   "cell_type": "code",
   "execution_count": 64,
   "metadata": {},
   "outputs": [],
   "source": [
    "# create sparse matrix for categorical values and add to feature matrix\n",
    "for col in col_cat:\n",
    "    cat_df = pd.get_dummies(df_cat[col], prefix=col)\n",
    "    df_cat = df_cat.join(cat_df)\n",
    "\n",
    "df_cat = df_cat.iloc[:, 9:]"
   ]
  },
  {
   "cell_type": "code",
   "execution_count": 65,
   "metadata": {},
   "outputs": [],
   "source": [
    "df_cat.insert(0, 'ID', ID)"
   ]
  },
  {
   "cell_type": "code",
   "execution_count": 66,
   "metadata": {},
   "outputs": [
    {
     "data": {
      "text/html": [
       "<div>\n",
       "<style scoped>\n",
       "    .dataframe tbody tr th:only-of-type {\n",
       "        vertical-align: middle;\n",
       "    }\n",
       "\n",
       "    .dataframe tbody tr th {\n",
       "        vertical-align: top;\n",
       "    }\n",
       "\n",
       "    .dataframe thead th {\n",
       "        text-align: right;\n",
       "    }\n",
       "</style>\n",
       "<table border=\"1\" class=\"dataframe\">\n",
       "  <thead>\n",
       "    <tr style=\"text-align: right;\">\n",
       "      <th></th>\n",
       "      <th>ID</th>\n",
       "      <th>MAINTENANCE_021_1</th>\n",
       "      <th>MAINTENANCE_021_4</th>\n",
       "      <th>MAINTENANCE_021_11</th>\n",
       "      <th>MAINTENANCE_021_32</th>\n",
       "      <th>MAINTENANCE_021_70</th>\n",
       "      <th>OPEN_CLOSED_POSTED_041_A</th>\n",
       "      <th>OPEN_CLOSED_POSTED_041_K</th>\n",
       "      <th>OPEN_CLOSED_POSTED_041_P</th>\n",
       "      <th>STRUCTURE_KIND_043A_0</th>\n",
       "      <th>...</th>\n",
       "      <th>MEMBRANE_TYPE_108B_2</th>\n",
       "      <th>MEMBRANE_TYPE_108B_3</th>\n",
       "      <th>MEMBRANE_TYPE_108B_9</th>\n",
       "      <th>MEMBRANE_TYPE_108B_N</th>\n",
       "      <th>DECK_PROTECTION_108C_0</th>\n",
       "      <th>DECK_PROTECTION_108C_1</th>\n",
       "      <th>DECK_PROTECTION_108C_2</th>\n",
       "      <th>DECK_PROTECTION_108C_3</th>\n",
       "      <th>DECK_PROTECTION_108C_9</th>\n",
       "      <th>DECK_PROTECTION_108C_N</th>\n",
       "    </tr>\n",
       "  </thead>\n",
       "  <tbody>\n",
       "    <tr>\n",
       "      <th>4</th>\n",
       "      <td>10-1003 225</td>\n",
       "      <td>1</td>\n",
       "      <td>0</td>\n",
       "      <td>0</td>\n",
       "      <td>0</td>\n",
       "      <td>0</td>\n",
       "      <td>1</td>\n",
       "      <td>0</td>\n",
       "      <td>0</td>\n",
       "      <td>0</td>\n",
       "      <td>...</td>\n",
       "      <td>0</td>\n",
       "      <td>0</td>\n",
       "      <td>0</td>\n",
       "      <td>0</td>\n",
       "      <td>0</td>\n",
       "      <td>1</td>\n",
       "      <td>0</td>\n",
       "      <td>0</td>\n",
       "      <td>0</td>\n",
       "      <td>0</td>\n",
       "    </tr>\n",
       "    <tr>\n",
       "      <th>5</th>\n",
       "      <td>10-1008 221</td>\n",
       "      <td>1</td>\n",
       "      <td>0</td>\n",
       "      <td>0</td>\n",
       "      <td>0</td>\n",
       "      <td>0</td>\n",
       "      <td>1</td>\n",
       "      <td>0</td>\n",
       "      <td>0</td>\n",
       "      <td>0</td>\n",
       "      <td>...</td>\n",
       "      <td>0</td>\n",
       "      <td>0</td>\n",
       "      <td>0</td>\n",
       "      <td>0</td>\n",
       "      <td>1</td>\n",
       "      <td>0</td>\n",
       "      <td>0</td>\n",
       "      <td>0</td>\n",
       "      <td>0</td>\n",
       "      <td>0</td>\n",
       "    </tr>\n",
       "    <tr>\n",
       "      <th>6</th>\n",
       "      <td>10-1009 221</td>\n",
       "      <td>1</td>\n",
       "      <td>0</td>\n",
       "      <td>0</td>\n",
       "      <td>0</td>\n",
       "      <td>0</td>\n",
       "      <td>1</td>\n",
       "      <td>0</td>\n",
       "      <td>0</td>\n",
       "      <td>0</td>\n",
       "      <td>...</td>\n",
       "      <td>0</td>\n",
       "      <td>0</td>\n",
       "      <td>0</td>\n",
       "      <td>0</td>\n",
       "      <td>0</td>\n",
       "      <td>0</td>\n",
       "      <td>0</td>\n",
       "      <td>0</td>\n",
       "      <td>0</td>\n",
       "      <td>1</td>\n",
       "    </tr>\n",
       "    <tr>\n",
       "      <th>13</th>\n",
       "      <td>10-1020 232</td>\n",
       "      <td>1</td>\n",
       "      <td>0</td>\n",
       "      <td>0</td>\n",
       "      <td>0</td>\n",
       "      <td>0</td>\n",
       "      <td>1</td>\n",
       "      <td>0</td>\n",
       "      <td>0</td>\n",
       "      <td>0</td>\n",
       "      <td>...</td>\n",
       "      <td>0</td>\n",
       "      <td>0</td>\n",
       "      <td>0</td>\n",
       "      <td>0</td>\n",
       "      <td>0</td>\n",
       "      <td>1</td>\n",
       "      <td>0</td>\n",
       "      <td>0</td>\n",
       "      <td>0</td>\n",
       "      <td>0</td>\n",
       "    </tr>\n",
       "    <tr>\n",
       "      <th>14</th>\n",
       "      <td>10-1023A231</td>\n",
       "      <td>1</td>\n",
       "      <td>0</td>\n",
       "      <td>0</td>\n",
       "      <td>0</td>\n",
       "      <td>0</td>\n",
       "      <td>0</td>\n",
       "      <td>0</td>\n",
       "      <td>1</td>\n",
       "      <td>0</td>\n",
       "      <td>...</td>\n",
       "      <td>0</td>\n",
       "      <td>0</td>\n",
       "      <td>0</td>\n",
       "      <td>0</td>\n",
       "      <td>1</td>\n",
       "      <td>0</td>\n",
       "      <td>0</td>\n",
       "      <td>0</td>\n",
       "      <td>0</td>\n",
       "      <td>0</td>\n",
       "    </tr>\n",
       "  </tbody>\n",
       "</table>\n",
       "<p>5 rows × 63 columns</p>\n",
       "</div>"
      ],
      "text/plain": [
       "             ID  MAINTENANCE_021_1  MAINTENANCE_021_4  MAINTENANCE_021_11  \\\n",
       "4   10-1003 225                  1                  0                   0   \n",
       "5   10-1008 221                  1                  0                   0   \n",
       "6   10-1009 221                  1                  0                   0   \n",
       "13  10-1020 232                  1                  0                   0   \n",
       "14  10-1023A231                  1                  0                   0   \n",
       "\n",
       "    MAINTENANCE_021_32  MAINTENANCE_021_70  OPEN_CLOSED_POSTED_041_A  \\\n",
       "4                    0                   0                         1   \n",
       "5                    0                   0                         1   \n",
       "6                    0                   0                         1   \n",
       "13                   0                   0                         1   \n",
       "14                   0                   0                         0   \n",
       "\n",
       "    OPEN_CLOSED_POSTED_041_K  OPEN_CLOSED_POSTED_041_P  STRUCTURE_KIND_043A_0  \\\n",
       "4                          0                         0                      0   \n",
       "5                          0                         0                      0   \n",
       "6                          0                         0                      0   \n",
       "13                         0                         0                      0   \n",
       "14                         0                         1                      0   \n",
       "\n",
       "             ...            MEMBRANE_TYPE_108B_2  MEMBRANE_TYPE_108B_3  \\\n",
       "4            ...                               0                     0   \n",
       "5            ...                               0                     0   \n",
       "6            ...                               0                     0   \n",
       "13           ...                               0                     0   \n",
       "14           ...                               0                     0   \n",
       "\n",
       "    MEMBRANE_TYPE_108B_9  MEMBRANE_TYPE_108B_N  DECK_PROTECTION_108C_0  \\\n",
       "4                      0                     0                       0   \n",
       "5                      0                     0                       1   \n",
       "6                      0                     0                       0   \n",
       "13                     0                     0                       0   \n",
       "14                     0                     0                       1   \n",
       "\n",
       "    DECK_PROTECTION_108C_1  DECK_PROTECTION_108C_2  DECK_PROTECTION_108C_3  \\\n",
       "4                        1                       0                       0   \n",
       "5                        0                       0                       0   \n",
       "6                        0                       0                       0   \n",
       "13                       1                       0                       0   \n",
       "14                       0                       0                       0   \n",
       "\n",
       "    DECK_PROTECTION_108C_9  DECK_PROTECTION_108C_N  \n",
       "4                        0                       0  \n",
       "5                        0                       0  \n",
       "6                        0                       1  \n",
       "13                       0                       0  \n",
       "14                       0                       0  \n",
       "\n",
       "[5 rows x 63 columns]"
      ]
     },
     "execution_count": 66,
     "metadata": {},
     "output_type": "execute_result"
    }
   ],
   "source": [
    "df_cat.head()"
   ]
  },
  {
   "cell_type": "markdown",
   "metadata": {},
   "source": [
    "## Define target feature dataframe"
   ]
  },
  {
   "cell_type": "code",
   "execution_count": 67,
   "metadata": {},
   "outputs": [],
   "source": [
    "Y = df_fin[[    \n",
    "    'DECK_COND_058', \n",
    "    'SUPERSTRUCTURE_COND_059', \n",
    "    'SUBSTRUCTURE_COND_060'\n",
    "]]"
   ]
  },
  {
   "cell_type": "code",
   "execution_count": 68,
   "metadata": {},
   "outputs": [],
   "source": [
    "Y.insert(0, 'ID', ID)"
   ]
  },
  {
   "cell_type": "code",
   "execution_count": 69,
   "metadata": {},
   "outputs": [
    {
     "data": {
      "text/html": [
       "<div>\n",
       "<style scoped>\n",
       "    .dataframe tbody tr th:only-of-type {\n",
       "        vertical-align: middle;\n",
       "    }\n",
       "\n",
       "    .dataframe tbody tr th {\n",
       "        vertical-align: top;\n",
       "    }\n",
       "\n",
       "    .dataframe thead th {\n",
       "        text-align: right;\n",
       "    }\n",
       "</style>\n",
       "<table border=\"1\" class=\"dataframe\">\n",
       "  <thead>\n",
       "    <tr style=\"text-align: right;\">\n",
       "      <th></th>\n",
       "      <th>ID</th>\n",
       "      <th>DECK_COND_058</th>\n",
       "      <th>SUPERSTRUCTURE_COND_059</th>\n",
       "      <th>SUBSTRUCTURE_COND_060</th>\n",
       "    </tr>\n",
       "  </thead>\n",
       "  <tbody>\n",
       "    <tr>\n",
       "      <th>4</th>\n",
       "      <td>10-1003 225</td>\n",
       "      <td>6</td>\n",
       "      <td>8</td>\n",
       "      <td>6</td>\n",
       "    </tr>\n",
       "    <tr>\n",
       "      <th>5</th>\n",
       "      <td>10-1008 221</td>\n",
       "      <td>7</td>\n",
       "      <td>7</td>\n",
       "      <td>7</td>\n",
       "    </tr>\n",
       "    <tr>\n",
       "      <th>6</th>\n",
       "      <td>10-1009 221</td>\n",
       "      <td>7</td>\n",
       "      <td>5</td>\n",
       "      <td>7</td>\n",
       "    </tr>\n",
       "    <tr>\n",
       "      <th>13</th>\n",
       "      <td>10-1020 232</td>\n",
       "      <td>7</td>\n",
       "      <td>7</td>\n",
       "      <td>5</td>\n",
       "    </tr>\n",
       "    <tr>\n",
       "      <th>14</th>\n",
       "      <td>10-1023A231</td>\n",
       "      <td>7</td>\n",
       "      <td>7</td>\n",
       "      <td>5</td>\n",
       "    </tr>\n",
       "  </tbody>\n",
       "</table>\n",
       "</div>"
      ],
      "text/plain": [
       "             ID  DECK_COND_058  SUPERSTRUCTURE_COND_059  SUBSTRUCTURE_COND_060\n",
       "4   10-1003 225              6                        8                      6\n",
       "5   10-1008 221              7                        7                      7\n",
       "6   10-1009 221              7                        5                      7\n",
       "13  10-1020 232              7                        7                      5\n",
       "14  10-1023A231              7                        7                      5"
      ]
     },
     "execution_count": 69,
     "metadata": {},
     "output_type": "execute_result"
    }
   ],
   "source": [
    "Y.head()"
   ]
  },
  {
   "cell_type": "markdown",
   "metadata": {},
   "source": [
    "# Output data to file"
   ]
  },
  {
   "cell_type": "code",
   "execution_count": 70,
   "metadata": {},
   "outputs": [],
   "source": [
    "# ouput numeric data\n",
    "df_num.to_csv('data_numeric.csv', index=False)"
   ]
  },
  {
   "cell_type": "code",
   "execution_count": 71,
   "metadata": {},
   "outputs": [],
   "source": [
    "# output categorical data\n",
    "df_cat.to_csv('data_categorical.csv', index=False)"
   ]
  },
  {
   "cell_type": "code",
   "execution_count": 72,
   "metadata": {},
   "outputs": [],
   "source": [
    "# output target varialbes\n",
    "Y.to_csv('data_targets.csv', index=False)"
   ]
  },
  {
   "cell_type": "code",
   "execution_count": null,
   "metadata": {},
   "outputs": [],
   "source": []
  }
 ],
 "metadata": {
  "kernelspec": {
   "display_name": "Python 3",
   "language": "python",
   "name": "python3"
  },
  "language_info": {
   "codemirror_mode": {
    "name": "ipython",
    "version": 3
   },
   "file_extension": ".py",
   "mimetype": "text/x-python",
   "name": "python",
   "nbconvert_exporter": "python",
   "pygments_lexer": "ipython3",
   "version": "3.6.5"
  }
 },
 "nbformat": 4,
 "nbformat_minor": 2
}
