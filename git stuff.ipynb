{
 "cells": [
  {
   "cell_type": "markdown",
   "metadata": {},
   "source": [
    "# Setup git \n",
    "1. Create local project directory/files\n",
    "2. Create project repository on Github\n",
    "3. Open terminal and go to project directory\n",
    "4. type `git init`\n",
    "5. add local file to repo:\n",
    "```\n",
    "git add .\n",
    "```\n",
    "6. commit changes:\n",
    "```\n",
    "git commit -m 'some text'\n",
    "```\n",
    "7. Copy Github URL\n",
    "8. In terminal, type:\n",
    "```\n",
    "git remote add origin (URL)\n",
    "```\n",
    "then, to check:\n",
    "```\n",
    "git remote -v\n",
    "```\n",
    "10. Push changes from local (master) to Github (origin):\n",
    "```\n",
    "git push origin master\n",
    "```"
   ]
  },
  {
   "cell_type": "code",
   "execution_count": null,
   "metadata": {},
   "outputs": [],
   "source": []
  }
 ],
 "metadata": {
  "kernelspec": {
   "display_name": "Python 3",
   "language": "python",
   "name": "python3"
  },
  "language_info": {
   "codemirror_mode": {
    "name": "ipython",
    "version": 3
   },
   "file_extension": ".py",
   "mimetype": "text/x-python",
   "name": "python",
   "nbconvert_exporter": "python",
   "pygments_lexer": "ipython3",
   "version": "3.6.5"
  }
 },
 "nbformat": 4,
 "nbformat_minor": 2
}
