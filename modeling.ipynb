{
 "cells": [
  {
   "cell_type": "markdown",
   "metadata": {},
   "source": [
    "# Summary\n",
    "This notebook develops a Logistic Regression classification model based on processed NBI data. The final model predicts whether a bridge falls into one of two classes after a fixed time period. \n",
    "- Classes:\n",
    "    - Not Poor (Sufficiency Rating >= 50%)\n",
    "    - Poor (Sufficiency Rating < 50%)"
   ]
  },
  {
   "cell_type": "markdown",
   "metadata": {},
   "source": [
    "# Imports"
   ]
  },
  {
   "cell_type": "code",
   "execution_count": 1,
   "metadata": {},
   "outputs": [],
   "source": [
    "import numpy as np\n",
    "import pandas as pd\n",
    "import matplotlib.pyplot as plt\n",
    "import seaborn as sns"
   ]
  },
  {
   "cell_type": "markdown",
   "metadata": {},
   "source": [
    "## sklearn"
   ]
  },
  {
   "cell_type": "code",
   "execution_count": 2,
   "metadata": {},
   "outputs": [],
   "source": [
    "from sklearn.model_selection import train_test_split\n",
    "from sklearn import preprocessing\n",
    "from sklearn.pipeline import Pipeline\n",
    "from sklearn import metrics\n",
    "# model\n",
    "from sklearn.linear_model import LogisticRegression\n",
    "# tuning\n",
    "from sklearn.model_selection import GridSearchCV\n",
    "# model save\n",
    "from sklearn.externals import joblib"
   ]
  },
  {
   "cell_type": "markdown",
   "metadata": {},
   "source": [
    "# Plot Settings"
   ]
  },
  {
   "cell_type": "code",
   "execution_count": 3,
   "metadata": {},
   "outputs": [],
   "source": [
    "# format style\n",
    "plt.style.use('fivethirtyeight')\n",
    "# lineweight\n",
    "plt.rc('lines', linewidth=3)\n",
    "# figure size\n",
    "plt.rc('figure', figsize=(12, 7))\n",
    "# title fontsize\n",
    "plt.rc('axes', titlesize=33) \n",
    "# axes label fontsize\n",
    "plt.rc('axes', labelsize=28)\n",
    "# axes values fontsize\n",
    "plt.rc('xtick', labelsize=18)\n",
    "plt.rc('ytick', labelsize=18)\n",
    "# legend fontsize\n",
    "plt.rc('legend', fontsize=18)"
   ]
  },
  {
   "cell_type": "markdown",
   "metadata": {},
   "source": [
    "# Custom Functions"
   ]
  },
  {
   "cell_type": "markdown",
   "metadata": {},
   "source": [
    "## Rating Conversion\n",
    "Function to convert numerical ratings to classes"
   ]
  },
  {
   "cell_type": "code",
   "execution_count": 4,
   "metadata": {},
   "outputs": [],
   "source": [
    "def rat_conv(rating):\n",
    "    if rating < 50:\n",
    "        return('poor')\n",
    "    else:\n",
    "        return ('not poor')"
   ]
  },
  {
   "cell_type": "markdown",
   "metadata": {},
   "source": [
    "# Data\n",
    "Load dataframes from data processing"
   ]
  },
  {
   "cell_type": "code",
   "execution_count": 5,
   "metadata": {},
   "outputs": [
    {
     "data": {
      "text/html": [
       "<div>\n",
       "<style scoped>\n",
       "    .dataframe tbody tr th:only-of-type {\n",
       "        vertical-align: middle;\n",
       "    }\n",
       "\n",
       "    .dataframe tbody tr th {\n",
       "        vertical-align: top;\n",
       "    }\n",
       "\n",
       "    .dataframe thead th {\n",
       "        text-align: right;\n",
       "    }\n",
       "</style>\n",
       "<table border=\"1\" class=\"dataframe\">\n",
       "  <thead>\n",
       "    <tr style=\"text-align: right;\">\n",
       "      <th></th>\n",
       "      <th>COUNTY_CODE_003</th>\n",
       "      <th>FEATURES_DESC_006A</th>\n",
       "      <th>FACILITY_CARRIED_007</th>\n",
       "      <th>LOCATION_009</th>\n",
       "    </tr>\n",
       "  </thead>\n",
       "  <tbody>\n",
       "    <tr>\n",
       "      <th>51-1VA3701</th>\n",
       "      <td>810.0</td>\n",
       "      <td>'Lake Smith Outlet       '</td>\n",
       "      <td>'Amphibious Drive  '</td>\n",
       "      <td>'0.KM NE of SR-166        '</td>\n",
       "    </tr>\n",
       "    <tr>\n",
       "      <th>51-1VA591A</th>\n",
       "      <td>810.0</td>\n",
       "      <td>'Canal                   '</td>\n",
       "      <td>'Golf Course Maint '</td>\n",
       "      <td>'Near 18th Hole           '</td>\n",
       "    </tr>\n",
       "    <tr>\n",
       "      <th>51-2VA00AA</th>\n",
       "      <td>179.0</td>\n",
       "      <td>'Aquia Creek             '</td>\n",
       "      <td>'MCB-3             '</td>\n",
       "      <td>'1.0KM SE of Camp Barrett '</td>\n",
       "    </tr>\n",
       "    <tr>\n",
       "      <th>51-2VA00CC</th>\n",
       "      <td>179.0</td>\n",
       "      <td>'Beaver Dam Run Spillway '</td>\n",
       "      <td>'MCB-4             '</td>\n",
       "      <td>'1.0KM North of MCB-3     '</td>\n",
       "    </tr>\n",
       "    <tr>\n",
       "      <th>51-2VA00DD</th>\n",
       "      <td>153.0</td>\n",
       "      <td>'Lucky Run               '</td>\n",
       "      <td>'MCB-8             '</td>\n",
       "      <td>'10M West of MCB-1        '</td>\n",
       "    </tr>\n",
       "  </tbody>\n",
       "</table>\n",
       "</div>"
      ],
      "text/plain": [
       "            COUNTY_CODE_003          FEATURES_DESC_006A  FACILITY_CARRIED_007  \\\n",
       "51-1VA3701            810.0  'Lake Smith Outlet       '  'Amphibious Drive  '   \n",
       "51-1VA591A            810.0  'Canal                   '  'Golf Course Maint '   \n",
       "51-2VA00AA            179.0  'Aquia Creek             '  'MCB-3             '   \n",
       "51-2VA00CC            179.0  'Beaver Dam Run Spillway '  'MCB-4             '   \n",
       "51-2VA00DD            153.0  'Lucky Run               '  'MCB-8             '   \n",
       "\n",
       "                           LOCATION_009  \n",
       "51-1VA3701  '0.KM NE of SR-166        '  \n",
       "51-1VA591A  'Near 18th Hole           '  \n",
       "51-2VA00AA  '1.0KM SE of Camp Barrett '  \n",
       "51-2VA00CC  '1.0KM North of MCB-3     '  \n",
       "51-2VA00DD  '10M West of MCB-1        '  "
      ]
     },
     "execution_count": 5,
     "metadata": {},
     "output_type": "execute_result"
    }
   ],
   "source": [
    "df_id = pd.read_csv('data/bridges_id.csv', index_col=0)\n",
    "df_id.head()"
   ]
  },
  {
   "cell_type": "code",
   "execution_count": 6,
   "metadata": {},
   "outputs": [
    {
     "data": {
      "text/html": [
       "<div>\n",
       "<style scoped>\n",
       "    .dataframe tbody tr th:only-of-type {\n",
       "        vertical-align: middle;\n",
       "    }\n",
       "\n",
       "    .dataframe tbody tr th {\n",
       "        vertical-align: top;\n",
       "    }\n",
       "\n",
       "    .dataframe thead th {\n",
       "        text-align: right;\n",
       "    }\n",
       "</style>\n",
       "<table border=\"1\" class=\"dataframe\">\n",
       "  <thead>\n",
       "    <tr style=\"text-align: right;\">\n",
       "      <th></th>\n",
       "      <th>MIN_VERT_CLR_010</th>\n",
       "      <th>DETOUR_KILOS_019</th>\n",
       "      <th>AGE</th>\n",
       "      <th>TRAFFIC_LANES_ON_028A</th>\n",
       "      <th>TRAFFIC_LANES_UND_028B</th>\n",
       "      <th>ADT_029</th>\n",
       "      <th>APPR_WIDTH_MT_032</th>\n",
       "      <th>DEGREES_SKEW_034</th>\n",
       "      <th>NAV_VERT_CLR_MT_039</th>\n",
       "      <th>NAV_HORR_CLR_MT_040</th>\n",
       "      <th>...</th>\n",
       "      <th>RIGHT_CURB_MT_050B</th>\n",
       "      <th>ROADWAY_WIDTH_MT_051</th>\n",
       "      <th>DECK_WIDTH_MT_052</th>\n",
       "      <th>VERT_CLR_OVER_MT_053</th>\n",
       "      <th>VERT_CLR_UND_054B</th>\n",
       "      <th>LAT_UND_MT_055B</th>\n",
       "      <th>LEFT_LAT_UND_MT_056</th>\n",
       "      <th>RECON_AGE</th>\n",
       "      <th>PERCENT_ADT_TRUCK_109</th>\n",
       "      <th>SUFFICIENCY_RATING_feat_yr</th>\n",
       "    </tr>\n",
       "  </thead>\n",
       "  <tbody>\n",
       "    <tr>\n",
       "      <th>51-1VA3701</th>\n",
       "      <td>99.99</td>\n",
       "      <td>2.0</td>\n",
       "      <td>53.0</td>\n",
       "      <td>2.0</td>\n",
       "      <td>0</td>\n",
       "      <td>2000.0</td>\n",
       "      <td>7.9</td>\n",
       "      <td>45.0</td>\n",
       "      <td>0.0</td>\n",
       "      <td>0.0</td>\n",
       "      <td>...</td>\n",
       "      <td>0.0</td>\n",
       "      <td>8.2</td>\n",
       "      <td>8.8</td>\n",
       "      <td>99.99</td>\n",
       "      <td>0.0</td>\n",
       "      <td>0.0</td>\n",
       "      <td>0.0</td>\n",
       "      <td>53.0</td>\n",
       "      <td>5.0</td>\n",
       "      <td>72.7</td>\n",
       "    </tr>\n",
       "    <tr>\n",
       "      <th>51-1VA591A</th>\n",
       "      <td>99.99</td>\n",
       "      <td>4.0</td>\n",
       "      <td>42.0</td>\n",
       "      <td>2.0</td>\n",
       "      <td>0</td>\n",
       "      <td>50.0</td>\n",
       "      <td>6.5</td>\n",
       "      <td>0.0</td>\n",
       "      <td>0.0</td>\n",
       "      <td>0.0</td>\n",
       "      <td>...</td>\n",
       "      <td>0.0</td>\n",
       "      <td>6.5</td>\n",
       "      <td>6.7</td>\n",
       "      <td>99.99</td>\n",
       "      <td>0.0</td>\n",
       "      <td>0.0</td>\n",
       "      <td>0.0</td>\n",
       "      <td>42.0</td>\n",
       "      <td>0.0</td>\n",
       "      <td>53.0</td>\n",
       "    </tr>\n",
       "    <tr>\n",
       "      <th>51-2VA00AA</th>\n",
       "      <td>99.99</td>\n",
       "      <td>22.0</td>\n",
       "      <td>60.0</td>\n",
       "      <td>2.0</td>\n",
       "      <td>0</td>\n",
       "      <td>2000.0</td>\n",
       "      <td>6.1</td>\n",
       "      <td>0.0</td>\n",
       "      <td>0.0</td>\n",
       "      <td>0.0</td>\n",
       "      <td>...</td>\n",
       "      <td>0.0</td>\n",
       "      <td>7.5</td>\n",
       "      <td>8.5</td>\n",
       "      <td>99.99</td>\n",
       "      <td>0.0</td>\n",
       "      <td>0.0</td>\n",
       "      <td>0.0</td>\n",
       "      <td>14.0</td>\n",
       "      <td>10.0</td>\n",
       "      <td>69.2</td>\n",
       "    </tr>\n",
       "    <tr>\n",
       "      <th>51-2VA00CC</th>\n",
       "      <td>99.99</td>\n",
       "      <td>6.0</td>\n",
       "      <td>60.0</td>\n",
       "      <td>2.0</td>\n",
       "      <td>0</td>\n",
       "      <td>1000.0</td>\n",
       "      <td>7.3</td>\n",
       "      <td>0.0</td>\n",
       "      <td>0.0</td>\n",
       "      <td>0.0</td>\n",
       "      <td>...</td>\n",
       "      <td>0.6</td>\n",
       "      <td>7.3</td>\n",
       "      <td>8.5</td>\n",
       "      <td>99.99</td>\n",
       "      <td>0.0</td>\n",
       "      <td>0.0</td>\n",
       "      <td>0.0</td>\n",
       "      <td>13.0</td>\n",
       "      <td>10.0</td>\n",
       "      <td>73.7</td>\n",
       "    </tr>\n",
       "    <tr>\n",
       "      <th>51-2VA00DD</th>\n",
       "      <td>99.99</td>\n",
       "      <td>12.0</td>\n",
       "      <td>60.0</td>\n",
       "      <td>2.0</td>\n",
       "      <td>0</td>\n",
       "      <td>500.0</td>\n",
       "      <td>6.1</td>\n",
       "      <td>0.0</td>\n",
       "      <td>0.0</td>\n",
       "      <td>0.0</td>\n",
       "      <td>...</td>\n",
       "      <td>0.0</td>\n",
       "      <td>7.5</td>\n",
       "      <td>8.5</td>\n",
       "      <td>99.99</td>\n",
       "      <td>0.0</td>\n",
       "      <td>0.0</td>\n",
       "      <td>0.0</td>\n",
       "      <td>13.0</td>\n",
       "      <td>10.0</td>\n",
       "      <td>79.1</td>\n",
       "    </tr>\n",
       "  </tbody>\n",
       "</table>\n",
       "<p>5 rows × 26 columns</p>\n",
       "</div>"
      ],
      "text/plain": [
       "            MIN_VERT_CLR_010  DETOUR_KILOS_019   AGE  TRAFFIC_LANES_ON_028A  \\\n",
       "51-1VA3701             99.99               2.0  53.0                    2.0   \n",
       "51-1VA591A             99.99               4.0  42.0                    2.0   \n",
       "51-2VA00AA             99.99              22.0  60.0                    2.0   \n",
       "51-2VA00CC             99.99               6.0  60.0                    2.0   \n",
       "51-2VA00DD             99.99              12.0  60.0                    2.0   \n",
       "\n",
       "            TRAFFIC_LANES_UND_028B  ADT_029  APPR_WIDTH_MT_032  \\\n",
       "51-1VA3701                       0   2000.0                7.9   \n",
       "51-1VA591A                       0     50.0                6.5   \n",
       "51-2VA00AA                       0   2000.0                6.1   \n",
       "51-2VA00CC                       0   1000.0                7.3   \n",
       "51-2VA00DD                       0    500.0                6.1   \n",
       "\n",
       "            DEGREES_SKEW_034  NAV_VERT_CLR_MT_039  NAV_HORR_CLR_MT_040  \\\n",
       "51-1VA3701              45.0                  0.0                  0.0   \n",
       "51-1VA591A               0.0                  0.0                  0.0   \n",
       "51-2VA00AA               0.0                  0.0                  0.0   \n",
       "51-2VA00CC               0.0                  0.0                  0.0   \n",
       "51-2VA00DD               0.0                  0.0                  0.0   \n",
       "\n",
       "                       ...              RIGHT_CURB_MT_050B  \\\n",
       "51-1VA3701             ...                             0.0   \n",
       "51-1VA591A             ...                             0.0   \n",
       "51-2VA00AA             ...                             0.0   \n",
       "51-2VA00CC             ...                             0.6   \n",
       "51-2VA00DD             ...                             0.0   \n",
       "\n",
       "            ROADWAY_WIDTH_MT_051  DECK_WIDTH_MT_052  VERT_CLR_OVER_MT_053  \\\n",
       "51-1VA3701                   8.2                8.8                 99.99   \n",
       "51-1VA591A                   6.5                6.7                 99.99   \n",
       "51-2VA00AA                   7.5                8.5                 99.99   \n",
       "51-2VA00CC                   7.3                8.5                 99.99   \n",
       "51-2VA00DD                   7.5                8.5                 99.99   \n",
       "\n",
       "            VERT_CLR_UND_054B  LAT_UND_MT_055B  LEFT_LAT_UND_MT_056  \\\n",
       "51-1VA3701                0.0              0.0                  0.0   \n",
       "51-1VA591A                0.0              0.0                  0.0   \n",
       "51-2VA00AA                0.0              0.0                  0.0   \n",
       "51-2VA00CC                0.0              0.0                  0.0   \n",
       "51-2VA00DD                0.0              0.0                  0.0   \n",
       "\n",
       "            RECON_AGE  PERCENT_ADT_TRUCK_109  SUFFICIENCY_RATING_feat_yr  \n",
       "51-1VA3701       53.0                    5.0                        72.7  \n",
       "51-1VA591A       42.0                    0.0                        53.0  \n",
       "51-2VA00AA       14.0                   10.0                        69.2  \n",
       "51-2VA00CC       13.0                   10.0                        73.7  \n",
       "51-2VA00DD       13.0                   10.0                        79.1  \n",
       "\n",
       "[5 rows x 26 columns]"
      ]
     },
     "execution_count": 6,
     "metadata": {},
     "output_type": "execute_result"
    }
   ],
   "source": [
    "df_num = pd.read_csv('data/bridges_num.csv', index_col=0)\n",
    "df_num.head()"
   ]
  },
  {
   "cell_type": "code",
   "execution_count": 7,
   "metadata": {},
   "outputs": [
    {
     "data": {
      "text/html": [
       "<div>\n",
       "<style scoped>\n",
       "    .dataframe tbody tr th:only-of-type {\n",
       "        vertical-align: middle;\n",
       "    }\n",
       "\n",
       "    .dataframe tbody tr th {\n",
       "        vertical-align: top;\n",
       "    }\n",
       "\n",
       "    .dataframe thead th {\n",
       "        text-align: right;\n",
       "    }\n",
       "</style>\n",
       "<table border=\"1\" class=\"dataframe\">\n",
       "  <thead>\n",
       "    <tr style=\"text-align: right;\">\n",
       "      <th></th>\n",
       "      <th>TOLL_020</th>\n",
       "      <th>MAINTENANCE_021</th>\n",
       "      <th>FUNCTIONAL_CLASS_026</th>\n",
       "      <th>DESIGN_LOAD_031</th>\n",
       "      <th>MEDIAN_CODE_033</th>\n",
       "      <th>STRUCTURE_FLARED_035</th>\n",
       "      <th>RAILINGS_036A</th>\n",
       "      <th>TRANSITIONS_036B</th>\n",
       "      <th>APPR_RAIL_036C</th>\n",
       "      <th>APPR_RAIL_END_036D</th>\n",
       "      <th>...</th>\n",
       "      <th>STRUCTURE_TYPE_043B</th>\n",
       "      <th>APPR_KIND_044A</th>\n",
       "      <th>APPR_TYPE_044B</th>\n",
       "      <th>DECK_STRUCTURE_TYPE_107</th>\n",
       "      <th>SURFACE_TYPE_108A</th>\n",
       "      <th>MEMBRANE_TYPE_108B</th>\n",
       "      <th>DECK_PROTECTION_108C</th>\n",
       "      <th>DECK_COND_058</th>\n",
       "      <th>SUPERSTRUCTURE_COND_059</th>\n",
       "      <th>SUBSTRUCTURE_COND_060</th>\n",
       "    </tr>\n",
       "  </thead>\n",
       "  <tbody>\n",
       "    <tr>\n",
       "      <th>51-1VA3701</th>\n",
       "      <td>3.0</td>\n",
       "      <td>73.0</td>\n",
       "      <td>19.0</td>\n",
       "      <td>5.0</td>\n",
       "      <td>0.0</td>\n",
       "      <td>0.0</td>\n",
       "      <td>0</td>\n",
       "      <td>0</td>\n",
       "      <td>0</td>\n",
       "      <td>0</td>\n",
       "      <td>...</td>\n",
       "      <td>2</td>\n",
       "      <td>0.0</td>\n",
       "      <td>0.0</td>\n",
       "      <td>3</td>\n",
       "      <td>0</td>\n",
       "      <td>0</td>\n",
       "      <td>0</td>\n",
       "      <td>5</td>\n",
       "      <td>5</td>\n",
       "      <td>5</td>\n",
       "    </tr>\n",
       "    <tr>\n",
       "      <th>51-1VA591A</th>\n",
       "      <td>3.0</td>\n",
       "      <td>73.0</td>\n",
       "      <td>19.0</td>\n",
       "      <td>0.0</td>\n",
       "      <td>0.0</td>\n",
       "      <td>0.0</td>\n",
       "      <td>0</td>\n",
       "      <td>0</td>\n",
       "      <td>0</td>\n",
       "      <td>0</td>\n",
       "      <td>...</td>\n",
       "      <td>9</td>\n",
       "      <td>0.0</td>\n",
       "      <td>0.0</td>\n",
       "      <td>1</td>\n",
       "      <td>0</td>\n",
       "      <td>0</td>\n",
       "      <td>0</td>\n",
       "      <td>5</td>\n",
       "      <td>5</td>\n",
       "      <td>6</td>\n",
       "    </tr>\n",
       "    <tr>\n",
       "      <th>51-2VA00AA</th>\n",
       "      <td>3.0</td>\n",
       "      <td>73.0</td>\n",
       "      <td>9.0</td>\n",
       "      <td>6.0</td>\n",
       "      <td>0.0</td>\n",
       "      <td>0.0</td>\n",
       "      <td>1</td>\n",
       "      <td>1</td>\n",
       "      <td>1</td>\n",
       "      <td>1</td>\n",
       "      <td>...</td>\n",
       "      <td>5</td>\n",
       "      <td>0.0</td>\n",
       "      <td>0.0</td>\n",
       "      <td>2</td>\n",
       "      <td>3</td>\n",
       "      <td>0</td>\n",
       "      <td>0</td>\n",
       "      <td>5</td>\n",
       "      <td>7</td>\n",
       "      <td>5</td>\n",
       "    </tr>\n",
       "    <tr>\n",
       "      <th>51-2VA00CC</th>\n",
       "      <td>3.0</td>\n",
       "      <td>73.0</td>\n",
       "      <td>9.0</td>\n",
       "      <td>0.0</td>\n",
       "      <td>0.0</td>\n",
       "      <td>0.0</td>\n",
       "      <td>0</td>\n",
       "      <td>0</td>\n",
       "      <td>0</td>\n",
       "      <td>0</td>\n",
       "      <td>...</td>\n",
       "      <td>1</td>\n",
       "      <td>0.0</td>\n",
       "      <td>0.0</td>\n",
       "      <td>1</td>\n",
       "      <td>6</td>\n",
       "      <td>0</td>\n",
       "      <td>0</td>\n",
       "      <td>5</td>\n",
       "      <td>6</td>\n",
       "      <td>6</td>\n",
       "    </tr>\n",
       "    <tr>\n",
       "      <th>51-2VA00DD</th>\n",
       "      <td>3.0</td>\n",
       "      <td>73.0</td>\n",
       "      <td>9.0</td>\n",
       "      <td>6.0</td>\n",
       "      <td>0.0</td>\n",
       "      <td>0.0</td>\n",
       "      <td>1</td>\n",
       "      <td>1</td>\n",
       "      <td>1</td>\n",
       "      <td>1</td>\n",
       "      <td>...</td>\n",
       "      <td>1</td>\n",
       "      <td>0.0</td>\n",
       "      <td>0.0</td>\n",
       "      <td>2</td>\n",
       "      <td>6</td>\n",
       "      <td>0</td>\n",
       "      <td>0</td>\n",
       "      <td>7</td>\n",
       "      <td>6</td>\n",
       "      <td>5</td>\n",
       "    </tr>\n",
       "  </tbody>\n",
       "</table>\n",
       "<p>5 rows × 26 columns</p>\n",
       "</div>"
      ],
      "text/plain": [
       "            TOLL_020  MAINTENANCE_021  FUNCTIONAL_CLASS_026  DESIGN_LOAD_031  \\\n",
       "51-1VA3701       3.0             73.0                  19.0              5.0   \n",
       "51-1VA591A       3.0             73.0                  19.0              0.0   \n",
       "51-2VA00AA       3.0             73.0                   9.0              6.0   \n",
       "51-2VA00CC       3.0             73.0                   9.0              0.0   \n",
       "51-2VA00DD       3.0             73.0                   9.0              6.0   \n",
       "\n",
       "            MEDIAN_CODE_033  STRUCTURE_FLARED_035 RAILINGS_036A  \\\n",
       "51-1VA3701              0.0                   0.0             0   \n",
       "51-1VA591A              0.0                   0.0             0   \n",
       "51-2VA00AA              0.0                   0.0             1   \n",
       "51-2VA00CC              0.0                   0.0             0   \n",
       "51-2VA00DD              0.0                   0.0             1   \n",
       "\n",
       "           TRANSITIONS_036B APPR_RAIL_036C APPR_RAIL_END_036D  \\\n",
       "51-1VA3701                0              0                  0   \n",
       "51-1VA591A                0              0                  0   \n",
       "51-2VA00AA                1              1                  1   \n",
       "51-2VA00CC                0              0                  0   \n",
       "51-2VA00DD                1              1                  1   \n",
       "\n",
       "                    ...           STRUCTURE_TYPE_043B APPR_KIND_044A  \\\n",
       "51-1VA3701          ...                             2            0.0   \n",
       "51-1VA591A          ...                             9            0.0   \n",
       "51-2VA00AA          ...                             5            0.0   \n",
       "51-2VA00CC          ...                             1            0.0   \n",
       "51-2VA00DD          ...                             1            0.0   \n",
       "\n",
       "           APPR_TYPE_044B  DECK_STRUCTURE_TYPE_107  SURFACE_TYPE_108A  \\\n",
       "51-1VA3701            0.0                        3                  0   \n",
       "51-1VA591A            0.0                        1                  0   \n",
       "51-2VA00AA            0.0                        2                  3   \n",
       "51-2VA00CC            0.0                        1                  6   \n",
       "51-2VA00DD            0.0                        2                  6   \n",
       "\n",
       "            MEMBRANE_TYPE_108B  DECK_PROTECTION_108C  DECK_COND_058  \\\n",
       "51-1VA3701                   0                     0              5   \n",
       "51-1VA591A                   0                     0              5   \n",
       "51-2VA00AA                   0                     0              5   \n",
       "51-2VA00CC                   0                     0              5   \n",
       "51-2VA00DD                   0                     0              7   \n",
       "\n",
       "            SUPERSTRUCTURE_COND_059 SUBSTRUCTURE_COND_060  \n",
       "51-1VA3701                        5                     5  \n",
       "51-1VA591A                        5                     6  \n",
       "51-2VA00AA                        7                     5  \n",
       "51-2VA00CC                        6                     6  \n",
       "51-2VA00DD                        6                     5  \n",
       "\n",
       "[5 rows x 26 columns]"
      ]
     },
     "execution_count": 7,
     "metadata": {},
     "output_type": "execute_result"
    }
   ],
   "source": [
    "df_cat = pd.read_csv('data/bridges_cat.csv', index_col=0)\n",
    "df_cat.head()"
   ]
  },
  {
   "cell_type": "code",
   "execution_count": 8,
   "metadata": {},
   "outputs": [
    {
     "data": {
      "text/html": [
       "<div>\n",
       "<style scoped>\n",
       "    .dataframe tbody tr th:only-of-type {\n",
       "        vertical-align: middle;\n",
       "    }\n",
       "\n",
       "    .dataframe tbody tr th {\n",
       "        vertical-align: top;\n",
       "    }\n",
       "\n",
       "    .dataframe thead th {\n",
       "        text-align: right;\n",
       "    }\n",
       "</style>\n",
       "<table border=\"1\" class=\"dataframe\">\n",
       "  <thead>\n",
       "    <tr style=\"text-align: right;\">\n",
       "      <th></th>\n",
       "      <th>suff_rating</th>\n",
       "    </tr>\n",
       "  </thead>\n",
       "  <tbody>\n",
       "    <tr>\n",
       "      <th>51-1VA3701</th>\n",
       "      <td>72.7</td>\n",
       "    </tr>\n",
       "    <tr>\n",
       "      <th>51-1VA591A</th>\n",
       "      <td>52.3</td>\n",
       "    </tr>\n",
       "    <tr>\n",
       "      <th>51-2VA00AA</th>\n",
       "      <td>69.2</td>\n",
       "    </tr>\n",
       "    <tr>\n",
       "      <th>51-2VA00CC</th>\n",
       "      <td>63.6</td>\n",
       "    </tr>\n",
       "    <tr>\n",
       "      <th>51-2VA00DD</th>\n",
       "      <td>79.1</td>\n",
       "    </tr>\n",
       "  </tbody>\n",
       "</table>\n",
       "</div>"
      ],
      "text/plain": [
       "            suff_rating\n",
       "51-1VA3701         72.7\n",
       "51-1VA591A         52.3\n",
       "51-2VA00AA         69.2\n",
       "51-2VA00CC         63.6\n",
       "51-2VA00DD         79.1"
      ]
     },
     "execution_count": 8,
     "metadata": {},
     "output_type": "execute_result"
    }
   ],
   "source": [
    "tar = pd.read_csv('data/bridges_tar.csv', index_col=0, header=None, names=['suff_rating'])\n",
    "tar.head()"
   ]
  },
  {
   "cell_type": "code",
   "execution_count": 9,
   "metadata": {},
   "outputs": [
    {
     "data": {
      "text/plain": [
       "1639"
      ]
     },
     "execution_count": 9,
     "metadata": {},
     "output_type": "execute_result"
    }
   ],
   "source": [
    "# number of observations\n",
    "len(tar)"
   ]
  },
  {
   "cell_type": "markdown",
   "metadata": {},
   "source": [
    "# Pre-processing"
   ]
  },
  {
   "cell_type": "markdown",
   "metadata": {},
   "source": [
    "## Categorical Data"
   ]
  },
  {
   "cell_type": "code",
   "execution_count": 10,
   "metadata": {},
   "outputs": [
    {
     "data": {
      "text/html": [
       "<div>\n",
       "<style scoped>\n",
       "    .dataframe tbody tr th:only-of-type {\n",
       "        vertical-align: middle;\n",
       "    }\n",
       "\n",
       "    .dataframe tbody tr th {\n",
       "        vertical-align: top;\n",
       "    }\n",
       "\n",
       "    .dataframe thead th {\n",
       "        text-align: right;\n",
       "    }\n",
       "</style>\n",
       "<table border=\"1\" class=\"dataframe\">\n",
       "  <thead>\n",
       "    <tr style=\"text-align: right;\">\n",
       "      <th></th>\n",
       "      <th>TOLL_020_1.0</th>\n",
       "      <th>TOLL_020_2.0</th>\n",
       "      <th>TOLL_020_3.0</th>\n",
       "      <th>MAINTENANCE_021_1.0</th>\n",
       "      <th>MAINTENANCE_021_2.0</th>\n",
       "      <th>MAINTENANCE_021_26.0</th>\n",
       "      <th>MAINTENANCE_021_27.0</th>\n",
       "      <th>MAINTENANCE_021_3.0</th>\n",
       "      <th>MAINTENANCE_021_31.0</th>\n",
       "      <th>MAINTENANCE_021_32.0</th>\n",
       "      <th>...</th>\n",
       "      <th>SUPERSTRUCTURE_COND_059_6</th>\n",
       "      <th>SUPERSTRUCTURE_COND_059_7</th>\n",
       "      <th>SUPERSTRUCTURE_COND_059_8</th>\n",
       "      <th>SUPERSTRUCTURE_COND_059_9</th>\n",
       "      <th>SUPERSTRUCTURE_COND_059_N</th>\n",
       "      <th>SUBSTRUCTURE_COND_060_4</th>\n",
       "      <th>SUBSTRUCTURE_COND_060_5</th>\n",
       "      <th>SUBSTRUCTURE_COND_060_6</th>\n",
       "      <th>SUBSTRUCTURE_COND_060_7</th>\n",
       "      <th>SUBSTRUCTURE_COND_060_8</th>\n",
       "    </tr>\n",
       "  </thead>\n",
       "  <tbody>\n",
       "    <tr>\n",
       "      <th>51-1VA3701</th>\n",
       "      <td>0</td>\n",
       "      <td>0</td>\n",
       "      <td>1</td>\n",
       "      <td>0</td>\n",
       "      <td>0</td>\n",
       "      <td>0</td>\n",
       "      <td>0</td>\n",
       "      <td>0</td>\n",
       "      <td>0</td>\n",
       "      <td>0</td>\n",
       "      <td>...</td>\n",
       "      <td>0</td>\n",
       "      <td>0</td>\n",
       "      <td>0</td>\n",
       "      <td>0</td>\n",
       "      <td>0</td>\n",
       "      <td>0</td>\n",
       "      <td>1</td>\n",
       "      <td>0</td>\n",
       "      <td>0</td>\n",
       "      <td>0</td>\n",
       "    </tr>\n",
       "    <tr>\n",
       "      <th>51-1VA591A</th>\n",
       "      <td>0</td>\n",
       "      <td>0</td>\n",
       "      <td>1</td>\n",
       "      <td>0</td>\n",
       "      <td>0</td>\n",
       "      <td>0</td>\n",
       "      <td>0</td>\n",
       "      <td>0</td>\n",
       "      <td>0</td>\n",
       "      <td>0</td>\n",
       "      <td>...</td>\n",
       "      <td>0</td>\n",
       "      <td>0</td>\n",
       "      <td>0</td>\n",
       "      <td>0</td>\n",
       "      <td>0</td>\n",
       "      <td>0</td>\n",
       "      <td>0</td>\n",
       "      <td>1</td>\n",
       "      <td>0</td>\n",
       "      <td>0</td>\n",
       "    </tr>\n",
       "    <tr>\n",
       "      <th>51-2VA00AA</th>\n",
       "      <td>0</td>\n",
       "      <td>0</td>\n",
       "      <td>1</td>\n",
       "      <td>0</td>\n",
       "      <td>0</td>\n",
       "      <td>0</td>\n",
       "      <td>0</td>\n",
       "      <td>0</td>\n",
       "      <td>0</td>\n",
       "      <td>0</td>\n",
       "      <td>...</td>\n",
       "      <td>0</td>\n",
       "      <td>1</td>\n",
       "      <td>0</td>\n",
       "      <td>0</td>\n",
       "      <td>0</td>\n",
       "      <td>0</td>\n",
       "      <td>1</td>\n",
       "      <td>0</td>\n",
       "      <td>0</td>\n",
       "      <td>0</td>\n",
       "    </tr>\n",
       "    <tr>\n",
       "      <th>51-2VA00CC</th>\n",
       "      <td>0</td>\n",
       "      <td>0</td>\n",
       "      <td>1</td>\n",
       "      <td>0</td>\n",
       "      <td>0</td>\n",
       "      <td>0</td>\n",
       "      <td>0</td>\n",
       "      <td>0</td>\n",
       "      <td>0</td>\n",
       "      <td>0</td>\n",
       "      <td>...</td>\n",
       "      <td>1</td>\n",
       "      <td>0</td>\n",
       "      <td>0</td>\n",
       "      <td>0</td>\n",
       "      <td>0</td>\n",
       "      <td>0</td>\n",
       "      <td>0</td>\n",
       "      <td>1</td>\n",
       "      <td>0</td>\n",
       "      <td>0</td>\n",
       "    </tr>\n",
       "    <tr>\n",
       "      <th>51-2VA00DD</th>\n",
       "      <td>0</td>\n",
       "      <td>0</td>\n",
       "      <td>1</td>\n",
       "      <td>0</td>\n",
       "      <td>0</td>\n",
       "      <td>0</td>\n",
       "      <td>0</td>\n",
       "      <td>0</td>\n",
       "      <td>0</td>\n",
       "      <td>0</td>\n",
       "      <td>...</td>\n",
       "      <td>1</td>\n",
       "      <td>0</td>\n",
       "      <td>0</td>\n",
       "      <td>0</td>\n",
       "      <td>0</td>\n",
       "      <td>0</td>\n",
       "      <td>1</td>\n",
       "      <td>0</td>\n",
       "      <td>0</td>\n",
       "      <td>0</td>\n",
       "    </tr>\n",
       "  </tbody>\n",
       "</table>\n",
       "<p>5 rows × 165 columns</p>\n",
       "</div>"
      ],
      "text/plain": [
       "            TOLL_020_1.0  TOLL_020_2.0  TOLL_020_3.0  MAINTENANCE_021_1.0  \\\n",
       "51-1VA3701             0             0             1                    0   \n",
       "51-1VA591A             0             0             1                    0   \n",
       "51-2VA00AA             0             0             1                    0   \n",
       "51-2VA00CC             0             0             1                    0   \n",
       "51-2VA00DD             0             0             1                    0   \n",
       "\n",
       "            MAINTENANCE_021_2.0  MAINTENANCE_021_26.0  MAINTENANCE_021_27.0  \\\n",
       "51-1VA3701                    0                     0                     0   \n",
       "51-1VA591A                    0                     0                     0   \n",
       "51-2VA00AA                    0                     0                     0   \n",
       "51-2VA00CC                    0                     0                     0   \n",
       "51-2VA00DD                    0                     0                     0   \n",
       "\n",
       "            MAINTENANCE_021_3.0  MAINTENANCE_021_31.0  MAINTENANCE_021_32.0  \\\n",
       "51-1VA3701                    0                     0                     0   \n",
       "51-1VA591A                    0                     0                     0   \n",
       "51-2VA00AA                    0                     0                     0   \n",
       "51-2VA00CC                    0                     0                     0   \n",
       "51-2VA00DD                    0                     0                     0   \n",
       "\n",
       "                     ...             SUPERSTRUCTURE_COND_059_6  \\\n",
       "51-1VA3701           ...                                     0   \n",
       "51-1VA591A           ...                                     0   \n",
       "51-2VA00AA           ...                                     0   \n",
       "51-2VA00CC           ...                                     1   \n",
       "51-2VA00DD           ...                                     1   \n",
       "\n",
       "            SUPERSTRUCTURE_COND_059_7  SUPERSTRUCTURE_COND_059_8  \\\n",
       "51-1VA3701                          0                          0   \n",
       "51-1VA591A                          0                          0   \n",
       "51-2VA00AA                          1                          0   \n",
       "51-2VA00CC                          0                          0   \n",
       "51-2VA00DD                          0                          0   \n",
       "\n",
       "            SUPERSTRUCTURE_COND_059_9  SUPERSTRUCTURE_COND_059_N  \\\n",
       "51-1VA3701                          0                          0   \n",
       "51-1VA591A                          0                          0   \n",
       "51-2VA00AA                          0                          0   \n",
       "51-2VA00CC                          0                          0   \n",
       "51-2VA00DD                          0                          0   \n",
       "\n",
       "            SUBSTRUCTURE_COND_060_4  SUBSTRUCTURE_COND_060_5  \\\n",
       "51-1VA3701                        0                        1   \n",
       "51-1VA591A                        0                        0   \n",
       "51-2VA00AA                        0                        1   \n",
       "51-2VA00CC                        0                        0   \n",
       "51-2VA00DD                        0                        1   \n",
       "\n",
       "            SUBSTRUCTURE_COND_060_6  SUBSTRUCTURE_COND_060_7  \\\n",
       "51-1VA3701                        0                        0   \n",
       "51-1VA591A                        1                        0   \n",
       "51-2VA00AA                        0                        0   \n",
       "51-2VA00CC                        1                        0   \n",
       "51-2VA00DD                        0                        0   \n",
       "\n",
       "            SUBSTRUCTURE_COND_060_8  \n",
       "51-1VA3701                        0  \n",
       "51-1VA591A                        0  \n",
       "51-2VA00AA                        0  \n",
       "51-2VA00CC                        0  \n",
       "51-2VA00DD                        0  \n",
       "\n",
       "[5 rows x 165 columns]"
      ]
     },
     "execution_count": 10,
     "metadata": {},
     "output_type": "execute_result"
    }
   ],
   "source": [
    "# one-hot encode categorical data as strings\n",
    "cat_enc = pd.get_dummies(df_cat.astype(str))\n",
    "cat_enc.head()"
   ]
  },
  {
   "cell_type": "markdown",
   "metadata": {},
   "source": [
    "## Combine Categorical and Numeric Data"
   ]
  },
  {
   "cell_type": "code",
   "execution_count": 11,
   "metadata": {},
   "outputs": [
    {
     "data": {
      "text/html": [
       "<div>\n",
       "<style scoped>\n",
       "    .dataframe tbody tr th:only-of-type {\n",
       "        vertical-align: middle;\n",
       "    }\n",
       "\n",
       "    .dataframe tbody tr th {\n",
       "        vertical-align: top;\n",
       "    }\n",
       "\n",
       "    .dataframe thead th {\n",
       "        text-align: right;\n",
       "    }\n",
       "</style>\n",
       "<table border=\"1\" class=\"dataframe\">\n",
       "  <thead>\n",
       "    <tr style=\"text-align: right;\">\n",
       "      <th></th>\n",
       "      <th>MIN_VERT_CLR_010</th>\n",
       "      <th>DETOUR_KILOS_019</th>\n",
       "      <th>AGE</th>\n",
       "      <th>TRAFFIC_LANES_ON_028A</th>\n",
       "      <th>TRAFFIC_LANES_UND_028B</th>\n",
       "      <th>ADT_029</th>\n",
       "      <th>APPR_WIDTH_MT_032</th>\n",
       "      <th>DEGREES_SKEW_034</th>\n",
       "      <th>NAV_VERT_CLR_MT_039</th>\n",
       "      <th>NAV_HORR_CLR_MT_040</th>\n",
       "      <th>...</th>\n",
       "      <th>SUPERSTRUCTURE_COND_059_6</th>\n",
       "      <th>SUPERSTRUCTURE_COND_059_7</th>\n",
       "      <th>SUPERSTRUCTURE_COND_059_8</th>\n",
       "      <th>SUPERSTRUCTURE_COND_059_9</th>\n",
       "      <th>SUPERSTRUCTURE_COND_059_N</th>\n",
       "      <th>SUBSTRUCTURE_COND_060_4</th>\n",
       "      <th>SUBSTRUCTURE_COND_060_5</th>\n",
       "      <th>SUBSTRUCTURE_COND_060_6</th>\n",
       "      <th>SUBSTRUCTURE_COND_060_7</th>\n",
       "      <th>SUBSTRUCTURE_COND_060_8</th>\n",
       "    </tr>\n",
       "  </thead>\n",
       "  <tbody>\n",
       "    <tr>\n",
       "      <th>51-1VA3701</th>\n",
       "      <td>99.99</td>\n",
       "      <td>2.0</td>\n",
       "      <td>53.0</td>\n",
       "      <td>2.0</td>\n",
       "      <td>0</td>\n",
       "      <td>2000.0</td>\n",
       "      <td>7.9</td>\n",
       "      <td>45.0</td>\n",
       "      <td>0.0</td>\n",
       "      <td>0.0</td>\n",
       "      <td>...</td>\n",
       "      <td>0</td>\n",
       "      <td>0</td>\n",
       "      <td>0</td>\n",
       "      <td>0</td>\n",
       "      <td>0</td>\n",
       "      <td>0</td>\n",
       "      <td>1</td>\n",
       "      <td>0</td>\n",
       "      <td>0</td>\n",
       "      <td>0</td>\n",
       "    </tr>\n",
       "    <tr>\n",
       "      <th>51-1VA591A</th>\n",
       "      <td>99.99</td>\n",
       "      <td>4.0</td>\n",
       "      <td>42.0</td>\n",
       "      <td>2.0</td>\n",
       "      <td>0</td>\n",
       "      <td>50.0</td>\n",
       "      <td>6.5</td>\n",
       "      <td>0.0</td>\n",
       "      <td>0.0</td>\n",
       "      <td>0.0</td>\n",
       "      <td>...</td>\n",
       "      <td>0</td>\n",
       "      <td>0</td>\n",
       "      <td>0</td>\n",
       "      <td>0</td>\n",
       "      <td>0</td>\n",
       "      <td>0</td>\n",
       "      <td>0</td>\n",
       "      <td>1</td>\n",
       "      <td>0</td>\n",
       "      <td>0</td>\n",
       "    </tr>\n",
       "    <tr>\n",
       "      <th>51-2VA00AA</th>\n",
       "      <td>99.99</td>\n",
       "      <td>22.0</td>\n",
       "      <td>60.0</td>\n",
       "      <td>2.0</td>\n",
       "      <td>0</td>\n",
       "      <td>2000.0</td>\n",
       "      <td>6.1</td>\n",
       "      <td>0.0</td>\n",
       "      <td>0.0</td>\n",
       "      <td>0.0</td>\n",
       "      <td>...</td>\n",
       "      <td>0</td>\n",
       "      <td>1</td>\n",
       "      <td>0</td>\n",
       "      <td>0</td>\n",
       "      <td>0</td>\n",
       "      <td>0</td>\n",
       "      <td>1</td>\n",
       "      <td>0</td>\n",
       "      <td>0</td>\n",
       "      <td>0</td>\n",
       "    </tr>\n",
       "    <tr>\n",
       "      <th>51-2VA00CC</th>\n",
       "      <td>99.99</td>\n",
       "      <td>6.0</td>\n",
       "      <td>60.0</td>\n",
       "      <td>2.0</td>\n",
       "      <td>0</td>\n",
       "      <td>1000.0</td>\n",
       "      <td>7.3</td>\n",
       "      <td>0.0</td>\n",
       "      <td>0.0</td>\n",
       "      <td>0.0</td>\n",
       "      <td>...</td>\n",
       "      <td>1</td>\n",
       "      <td>0</td>\n",
       "      <td>0</td>\n",
       "      <td>0</td>\n",
       "      <td>0</td>\n",
       "      <td>0</td>\n",
       "      <td>0</td>\n",
       "      <td>1</td>\n",
       "      <td>0</td>\n",
       "      <td>0</td>\n",
       "    </tr>\n",
       "    <tr>\n",
       "      <th>51-2VA00DD</th>\n",
       "      <td>99.99</td>\n",
       "      <td>12.0</td>\n",
       "      <td>60.0</td>\n",
       "      <td>2.0</td>\n",
       "      <td>0</td>\n",
       "      <td>500.0</td>\n",
       "      <td>6.1</td>\n",
       "      <td>0.0</td>\n",
       "      <td>0.0</td>\n",
       "      <td>0.0</td>\n",
       "      <td>...</td>\n",
       "      <td>1</td>\n",
       "      <td>0</td>\n",
       "      <td>0</td>\n",
       "      <td>0</td>\n",
       "      <td>0</td>\n",
       "      <td>0</td>\n",
       "      <td>1</td>\n",
       "      <td>0</td>\n",
       "      <td>0</td>\n",
       "      <td>0</td>\n",
       "    </tr>\n",
       "  </tbody>\n",
       "</table>\n",
       "<p>5 rows × 191 columns</p>\n",
       "</div>"
      ],
      "text/plain": [
       "            MIN_VERT_CLR_010  DETOUR_KILOS_019   AGE  TRAFFIC_LANES_ON_028A  \\\n",
       "51-1VA3701             99.99               2.0  53.0                    2.0   \n",
       "51-1VA591A             99.99               4.0  42.0                    2.0   \n",
       "51-2VA00AA             99.99              22.0  60.0                    2.0   \n",
       "51-2VA00CC             99.99               6.0  60.0                    2.0   \n",
       "51-2VA00DD             99.99              12.0  60.0                    2.0   \n",
       "\n",
       "            TRAFFIC_LANES_UND_028B  ADT_029  APPR_WIDTH_MT_032  \\\n",
       "51-1VA3701                       0   2000.0                7.9   \n",
       "51-1VA591A                       0     50.0                6.5   \n",
       "51-2VA00AA                       0   2000.0                6.1   \n",
       "51-2VA00CC                       0   1000.0                7.3   \n",
       "51-2VA00DD                       0    500.0                6.1   \n",
       "\n",
       "            DEGREES_SKEW_034  NAV_VERT_CLR_MT_039  NAV_HORR_CLR_MT_040  \\\n",
       "51-1VA3701              45.0                  0.0                  0.0   \n",
       "51-1VA591A               0.0                  0.0                  0.0   \n",
       "51-2VA00AA               0.0                  0.0                  0.0   \n",
       "51-2VA00CC               0.0                  0.0                  0.0   \n",
       "51-2VA00DD               0.0                  0.0                  0.0   \n",
       "\n",
       "                     ...             SUPERSTRUCTURE_COND_059_6  \\\n",
       "51-1VA3701           ...                                     0   \n",
       "51-1VA591A           ...                                     0   \n",
       "51-2VA00AA           ...                                     0   \n",
       "51-2VA00CC           ...                                     1   \n",
       "51-2VA00DD           ...                                     1   \n",
       "\n",
       "            SUPERSTRUCTURE_COND_059_7  SUPERSTRUCTURE_COND_059_8  \\\n",
       "51-1VA3701                          0                          0   \n",
       "51-1VA591A                          0                          0   \n",
       "51-2VA00AA                          1                          0   \n",
       "51-2VA00CC                          0                          0   \n",
       "51-2VA00DD                          0                          0   \n",
       "\n",
       "            SUPERSTRUCTURE_COND_059_9  SUPERSTRUCTURE_COND_059_N  \\\n",
       "51-1VA3701                          0                          0   \n",
       "51-1VA591A                          0                          0   \n",
       "51-2VA00AA                          0                          0   \n",
       "51-2VA00CC                          0                          0   \n",
       "51-2VA00DD                          0                          0   \n",
       "\n",
       "            SUBSTRUCTURE_COND_060_4  SUBSTRUCTURE_COND_060_5  \\\n",
       "51-1VA3701                        0                        1   \n",
       "51-1VA591A                        0                        0   \n",
       "51-2VA00AA                        0                        1   \n",
       "51-2VA00CC                        0                        0   \n",
       "51-2VA00DD                        0                        1   \n",
       "\n",
       "            SUBSTRUCTURE_COND_060_6  SUBSTRUCTURE_COND_060_7  \\\n",
       "51-1VA3701                        0                        0   \n",
       "51-1VA591A                        1                        0   \n",
       "51-2VA00AA                        0                        0   \n",
       "51-2VA00CC                        1                        0   \n",
       "51-2VA00DD                        0                        0   \n",
       "\n",
       "            SUBSTRUCTURE_COND_060_8  \n",
       "51-1VA3701                        0  \n",
       "51-1VA591A                        0  \n",
       "51-2VA00AA                        0  \n",
       "51-2VA00CC                        0  \n",
       "51-2VA00DD                        0  \n",
       "\n",
       "[5 rows x 191 columns]"
      ]
     },
     "execution_count": 11,
     "metadata": {},
     "output_type": "execute_result"
    }
   ],
   "source": [
    "# combine numeric and encoded categorical features on index\n",
    "X = df_num.join(cat_enc)\n",
    "# save as file\n",
    "# X.to_csv('data/feat_df.csv')\n",
    "X.head()"
   ]
  },
  {
   "cell_type": "markdown",
   "metadata": {},
   "source": [
    "## Target Data"
   ]
  },
  {
   "cell_type": "code",
   "execution_count": 13,
   "metadata": {},
   "outputs": [],
   "source": [
    "# set target column values to categories\n",
    "y = tar['suff_rating'].apply(rat_conv)\n",
    "# save as file\n",
    "# y.to_csv('data/tru_cls.csv')"
   ]
  },
  {
   "cell_type": "code",
   "execution_count": 14,
   "metadata": {},
   "outputs": [
    {
     "data": {
      "text/plain": [
       "not poor    1266\n",
       "poor         373\n",
       "Name: suff_rating, dtype: int64"
      ]
     },
     "execution_count": 14,
     "metadata": {},
     "output_type": "execute_result"
    }
   ],
   "source": [
    "# number in each class\n",
    "y.value_counts()"
   ]
  },
  {
   "cell_type": "code",
   "execution_count": 15,
   "metadata": {},
   "outputs": [
    {
     "data": {
      "text/plain": [
       "0.7724222086638194"
      ]
     },
     "execution_count": 15,
     "metadata": {},
     "output_type": "execute_result"
    }
   ],
   "source": [
    "# ratio of classes\n",
    "y.value_counts()[0] / (y.value_counts()[0] + y.value_counts()[1])"
   ]
  },
  {
   "cell_type": "markdown",
   "metadata": {},
   "source": [
    "## Train/Test Split\n",
    "Split data into one group for training the model and another for model evaluation (testing)"
   ]
  },
  {
   "cell_type": "code",
   "execution_count": 15,
   "metadata": {},
   "outputs": [],
   "source": [
    "X_train, X_test, y_train, y_test = train_test_split(X, y, test_size=0.20, random_state=0)"
   ]
  },
  {
   "cell_type": "markdown",
   "metadata": {},
   "source": [
    "# Initial Model\n",
    "Logistic Regression model with balanced weights to account for class imbalance"
   ]
  },
  {
   "cell_type": "code",
   "execution_count": 16,
   "metadata": {},
   "outputs": [],
   "source": [
    "# logistic regression model pipeline\n",
    "log_pipe = Pipeline([\n",
    "    ('scaler', preprocessing.StandardScaler()),\n",
    "    ('model', LogisticRegression(class_weight='balanced'))\n",
    "])\n",
    "\n",
    "# fit model to training data\n",
    "log_pipe.fit(X_train, y_train)\n",
    "# predict class based on test feature input\n",
    "log_pred = log_pipe.predict(X_test)"
   ]
  },
  {
   "cell_type": "code",
   "execution_count": 17,
   "metadata": {},
   "outputs": [
    {
     "data": {
      "text/plain": [
       "array(['not poor', 'poor'], dtype=object)"
      ]
     },
     "execution_count": 17,
     "metadata": {},
     "output_type": "execute_result"
    }
   ],
   "source": [
    "# output classes\n",
    "log_pipe.classes_"
   ]
  },
  {
   "cell_type": "code",
   "execution_count": 18,
   "metadata": {},
   "outputs": [
    {
     "name": "stdout",
     "output_type": "stream",
     "text": [
      "             precision    recall  f1-score   support\n",
      "\n",
      "   not poor       0.93      0.78      0.85       247\n",
      "       poor       0.55      0.83      0.66        81\n",
      "\n",
      "avg / total       0.84      0.79      0.80       328\n",
      "\n"
     ]
    }
   ],
   "source": [
    "# model's classification results\n",
    "print(metrics.classification_report(y_test, log_pred))"
   ]
  },
  {
   "cell_type": "code",
   "execution_count": 19,
   "metadata": {},
   "outputs": [
    {
     "data": {
      "text/plain": [
       "array([[193,  54],\n",
       "       [ 14,  67]])"
      ]
     },
     "execution_count": 19,
     "metadata": {},
     "output_type": "execute_result"
    }
   ],
   "source": [
    "# model's confusion matrix\n",
    "metrics.confusion_matrix(y_test, log_pred)"
   ]
  },
  {
   "cell_type": "markdown",
   "metadata": {},
   "source": [
    "# Refine Model\n",
    "Use a range of hyperparameters to optimize model performance"
   ]
  },
  {
   "cell_type": "code",
   "execution_count": 20,
   "metadata": {},
   "outputs": [],
   "source": [
    "# try range of values for C and penalty hyperparameters\n",
    "hyperparams = {'model__penalty':['l1', 'l2'], 'model__C': np.linspace(0.05, 0.2, 15)}\n",
    "# optimize initial model using range of hyperparameter values\n",
    "log_tune = GridSearchCV(log_pipe, hyperparams, cv=5)\n",
    "# fit optimized model to training data\n",
    "log_tune.fit(X_train, y_train)\n",
    "# predict class based on test feature input\n",
    "log_tune_pred = log_tune.predict(X_test)"
   ]
  },
  {
   "cell_type": "code",
   "execution_count": 21,
   "metadata": {},
   "outputs": [],
   "source": [
    "# assign best hyperparameter values from tuned models\n",
    "best_penalty = log_tune.best_params_['model__penalty']\n",
    "best_C = log_tune.best_params_['model__C']"
   ]
  },
  {
   "cell_type": "code",
   "execution_count": 22,
   "metadata": {},
   "outputs": [
    {
     "data": {
      "text/plain": [
       "'l1'"
      ]
     },
     "execution_count": 22,
     "metadata": {},
     "output_type": "execute_result"
    }
   ],
   "source": [
    "best_penalty"
   ]
  },
  {
   "cell_type": "code",
   "execution_count": 23,
   "metadata": {},
   "outputs": [
    {
     "data": {
      "text/plain": [
       "0.1785714285714286"
      ]
     },
     "execution_count": 23,
     "metadata": {},
     "output_type": "execute_result"
    }
   ],
   "source": [
    "best_C"
   ]
  },
  {
   "cell_type": "code",
   "execution_count": 24,
   "metadata": {},
   "outputs": [
    {
     "name": "stdout",
     "output_type": "stream",
     "text": [
      "             precision    recall  f1-score   support\n",
      "\n",
      "   not poor       0.94      0.80      0.87       247\n",
      "       poor       0.58      0.85      0.69        81\n",
      "\n",
      "avg / total       0.85      0.81      0.82       328\n",
      "\n"
     ]
    }
   ],
   "source": [
    "# optimized model's classification results\n",
    "print(metrics.classification_report(y_test, log_tune_pred))"
   ]
  },
  {
   "cell_type": "code",
   "execution_count": 25,
   "metadata": {},
   "outputs": [
    {
     "data": {
      "text/plain": [
       "array([[198,  49],\n",
       "       [ 12,  69]])"
      ]
     },
     "execution_count": 25,
     "metadata": {},
     "output_type": "execute_result"
    }
   ],
   "source": [
    "# optimized model's confusion matrix\n",
    "metrics.confusion_matrix(y_test, log_tune_pred)"
   ]
  },
  {
   "cell_type": "markdown",
   "metadata": {},
   "source": [
    "# Final Model\n",
    "Use the optimal hyperparameters in final model"
   ]
  },
  {
   "cell_type": "code",
   "execution_count": 26,
   "metadata": {},
   "outputs": [],
   "source": [
    "# model pipeline with optimal hyperparameters\n",
    "log_pipe = Pipeline([\n",
    "    ('scaler', preprocessing.StandardScaler()),\n",
    "    ('model', LogisticRegression(penalty=best_penalty, C=best_C, class_weight='balanced'))\n",
    "])\n",
    "\n",
    "# fit final model to training data\n",
    "log_pipe.fit(X_train, y_train)\n",
    "# predict class based on test feature input\n",
    "log_pred = log_pipe.predict(X_test)"
   ]
  },
  {
   "cell_type": "markdown",
   "metadata": {},
   "source": [
    "## Save Final Model"
   ]
  },
  {
   "cell_type": "code",
   "execution_count": 27,
   "metadata": {},
   "outputs": [],
   "source": [
    "# save model with joblib\n",
    "# filename = 'model_output/model.sav'\n",
    "# joblib.dump(log_pipe, filename)"
   ]
  },
  {
   "cell_type": "markdown",
   "metadata": {},
   "source": [
    "## Overall Accuracy"
   ]
  },
  {
   "cell_type": "code",
   "execution_count": 28,
   "metadata": {},
   "outputs": [
    {
     "data": {
      "text/plain": [
       "0.8140243902439024"
      ]
     },
     "execution_count": 28,
     "metadata": {},
     "output_type": "execute_result"
    }
   ],
   "source": [
    "(log_pred == y_test).sum() / len(y_test)"
   ]
  },
  {
   "cell_type": "markdown",
   "metadata": {},
   "source": [
    "## Confusion Matrix"
   ]
  },
  {
   "cell_type": "code",
   "execution_count": 29,
   "metadata": {},
   "outputs": [
    {
     "data": {
      "text/html": [
       "<div>\n",
       "<style scoped>\n",
       "    .dataframe tbody tr th:only-of-type {\n",
       "        vertical-align: middle;\n",
       "    }\n",
       "\n",
       "    .dataframe tbody tr th {\n",
       "        vertical-align: top;\n",
       "    }\n",
       "\n",
       "    .dataframe thead th {\n",
       "        text-align: right;\n",
       "    }\n",
       "</style>\n",
       "<table border=\"1\" class=\"dataframe\">\n",
       "  <thead>\n",
       "    <tr style=\"text-align: right;\">\n",
       "      <th></th>\n",
       "      <th>0</th>\n",
       "      <th>1</th>\n",
       "    </tr>\n",
       "  </thead>\n",
       "  <tbody>\n",
       "    <tr>\n",
       "      <th>0</th>\n",
       "      <td>198</td>\n",
       "      <td>49</td>\n",
       "    </tr>\n",
       "    <tr>\n",
       "      <th>1</th>\n",
       "      <td>12</td>\n",
       "      <td>69</td>\n",
       "    </tr>\n",
       "  </tbody>\n",
       "</table>\n",
       "</div>"
      ],
      "text/plain": [
       "     0   1\n",
       "0  198  49\n",
       "1   12  69"
      ]
     },
     "execution_count": 29,
     "metadata": {},
     "output_type": "execute_result"
    }
   ],
   "source": [
    "# TN, FP, FN, TP model results\n",
    "df_cm = pd.DataFrame(metrics.confusion_matrix(y_test, log_pred))\n",
    "df_cm"
   ]
  },
  {
   "cell_type": "code",
   "execution_count": 30,
   "metadata": {},
   "outputs": [
    {
     "data": {
      "text/html": [
       "<div>\n",
       "<style scoped>\n",
       "    .dataframe tbody tr th:only-of-type {\n",
       "        vertical-align: middle;\n",
       "    }\n",
       "\n",
       "    .dataframe tbody tr th {\n",
       "        vertical-align: top;\n",
       "    }\n",
       "\n",
       "    .dataframe thead th {\n",
       "        text-align: right;\n",
       "    }\n",
       "</style>\n",
       "<table border=\"1\" class=\"dataframe\">\n",
       "  <thead>\n",
       "    <tr style=\"text-align: right;\">\n",
       "      <th></th>\n",
       "      <th>0</th>\n",
       "      <th>1</th>\n",
       "    </tr>\n",
       "  </thead>\n",
       "  <tbody>\n",
       "    <tr>\n",
       "      <th>0</th>\n",
       "      <td>80.0</td>\n",
       "      <td>20.0</td>\n",
       "    </tr>\n",
       "    <tr>\n",
       "      <th>1</th>\n",
       "      <td>15.0</td>\n",
       "      <td>85.0</td>\n",
       "    </tr>\n",
       "  </tbody>\n",
       "</table>\n",
       "</div>"
      ],
      "text/plain": [
       "      0     1\n",
       "0  80.0  20.0\n",
       "1  15.0  85.0"
      ]
     },
     "execution_count": 30,
     "metadata": {},
     "output_type": "execute_result"
    }
   ],
   "source": [
    "# normalize by class totals - returns percentages\n",
    "df_cm = round(df_cm.div(df_cm.sum(axis=1), axis='rows')*100, 0)\n",
    "df_cm"
   ]
  },
  {
   "cell_type": "code",
   "execution_count": 31,
   "metadata": {},
   "outputs": [
    {
     "data": {
      "image/png": "[encoded data removed]",
      "text/plain": [
       "<Figure size 864x504 with 2 Axes>"
      ]
     },
     "metadata": {},
     "output_type": "display_data"
    }
   ],
   "source": [
    "# plot confusion matrix as heatmap\n",
    "sns.set(font_scale=2.6)\n",
    "sns_ax = sns.heatmap(\n",
    "    df_cm, \n",
    "    vmin=0, \n",
    "    vmax=100, \n",
    "    annot=True, \n",
    "    cmap=sns.cm.rocket_r, \n",
    "    fmt='g'\n",
    ")\n",
    "sns_ax.set(\n",
    "    title='Confusion Matrix', \n",
    "    xticklabels=(['Not Poor', 'Poor']), \n",
    "    yticklabels=(['Not Poor', 'Poor']),\n",
    "    xlabel='Model Prediction', \n",
    "    ylabel='Actual'\n",
    ")\n",
    "for t in sns_ax.texts: t.set_text(t.get_text() + \"%\");\n",
    "# plt.savefig('model_output/conf_mat.png', bbox_inches='tight', facecolor='w')"
   ]
  },
  {
   "cell_type": "code",
   "execution_count": 32,
   "metadata": {},
   "outputs": [
    {
     "data": {
      "image/png": "[encoded data removed]",
      "text/plain": [
       "<Figure size 864x504 with 2 Axes>"
      ]
     },
     "metadata": {},
     "output_type": "display_data"
    }
   ],
   "source": [
    "# plot confusion matrix definition\n",
    "ex_cm = pd.DataFrame({0: [50, 50], 1: [50, 50]})\n",
    "\n",
    "sns.set(font_scale=2.6)\n",
    "sns_ax = sns.heatmap(\n",
    "    ex_cm, \n",
    "    vmin=0, \n",
    "    vmax=100, \n",
    "    annot=True, \n",
    "    cmap=sns.cm.rocket_r, \n",
    "    fmt='g'\n",
    ")\n",
    "sns_ax.set(\n",
    "    title='Confusion Matrix', \n",
    "    xticklabels=(['Not Poor', 'Poor']), \n",
    "    yticklabels=(['Not Poor', 'Poor']),\n",
    "    xlabel='Model Prediction', \n",
    "    ylabel='Actual'\n",
    ")\n",
    "sns_ax.hlines(1, *sns_ax.get_xlim())\n",
    "sns_ax.vlines(1, *sns_ax.get_ylim())\n",
    "# set box descriptions\n",
    "sns_ax.texts[0].set_text(\n",
    "    'True Negatives: \\n \\\n",
    "    Model $\\Rightarrow$ Not Poor \\\n",
    "    \\n Actual $\\Rightarrow$ Not Poor'\n",
    ")\n",
    "sns_ax.texts[1].set_text(\n",
    "    'False Positives: \\n \\\n",
    "    Model $\\Rightarrow$ Poor \\\n",
    "    \\n Actual $\\Rightarrow$ Not Poor'\n",
    ")\n",
    "sns_ax.texts[2].set_text(\n",
    "    'False Negatives: \\n \\\n",
    "    Model $\\Rightarrow$ Not Poor \\\n",
    "    \\n Actual $\\Rightarrow$ Poor'\n",
    ")\n",
    "sns_ax.texts[3].set_text(\n",
    "    'True Positives: \\n \\\n",
    "    Model $\\Rightarrow$ Poor \\\n",
    "    \\n Actual $\\Rightarrow$ Poor'\n",
    ")\n",
    "# plt.savefig('model_output/ex_cm.png', bbox_inches='tight', facecolor='w')"
   ]
  },
  {
   "cell_type": "code",
   "execution_count": null,
   "metadata": {},
   "outputs": [],
   "source": []
  }
 ],
 "metadata": {
  "kernelspec": {
   "display_name": "Python 3",
   "language": "python",
   "name": "python3"
  },
  "language_info": {
   "codemirror_mode": {
    "name": "ipython",
    "version": 3
   },
   "file_extension": ".py",
   "mimetype": "text/x-python",
   "name": "python",
   "nbconvert_exporter": "python",
   "pygments_lexer": "ipython3",
   "version": "3.6.5"
  }
 },
 "nbformat": 4,
 "nbformat_minor": 2
}
