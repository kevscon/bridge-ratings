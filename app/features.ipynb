{
 "cells": [
  {
   "cell_type": "markdown",
   "metadata": {},
   "source": [
    "This notebook is used to help set up default and input options for the bridge rating flask app."
   ]
  },
  {
   "cell_type": "code",
   "execution_count": 1,
   "metadata": {},
   "outputs": [],
   "source": [
    "import numpy as np\n",
    "import pandas as pd\n",
    "from sklearn.externals import joblib"
   ]
  },
  {
   "cell_type": "code",
   "execution_count": 2,
   "metadata": {},
   "outputs": [],
   "source": [
    "df_num = pd.read_csv('../data/bridges_num.csv', index_col=0)\n",
    "df_cat = pd.read_csv('../data/bridges_cat.csv', index_col=0)\n",
    "feat_df = pd.read_csv('../data/feat_df.csv', index_col=0)"
   ]
  },
  {
   "cell_type": "code",
   "execution_count": 3,
   "metadata": {},
   "outputs": [
    {
     "data": {
      "text/html": [
       "<div>\n",
       "<style scoped>\n",
       "    .dataframe tbody tr th:only-of-type {\n",
       "        vertical-align: middle;\n",
       "    }\n",
       "\n",
       "    .dataframe tbody tr th {\n",
       "        vertical-align: top;\n",
       "    }\n",
       "\n",
       "    .dataframe thead th {\n",
       "        text-align: right;\n",
       "    }\n",
       "</style>\n",
       "<table border=\"1\" class=\"dataframe\">\n",
       "  <thead>\n",
       "    <tr style=\"text-align: right;\">\n",
       "      <th></th>\n",
       "      <th>MIN_VERT_CLR_010</th>\n",
       "      <th>DETOUR_KILOS_019</th>\n",
       "      <th>AGE</th>\n",
       "      <th>TRAFFIC_LANES_ON_028A</th>\n",
       "      <th>TRAFFIC_LANES_UND_028B</th>\n",
       "      <th>ADT_029</th>\n",
       "      <th>APPR_WIDTH_MT_032</th>\n",
       "      <th>DEGREES_SKEW_034</th>\n",
       "      <th>NAV_VERT_CLR_MT_039</th>\n",
       "      <th>NAV_HORR_CLR_MT_040</th>\n",
       "      <th>...</th>\n",
       "      <th>SUPERSTRUCTURE_COND_059_6</th>\n",
       "      <th>SUPERSTRUCTURE_COND_059_7</th>\n",
       "      <th>SUPERSTRUCTURE_COND_059_8</th>\n",
       "      <th>SUPERSTRUCTURE_COND_059_9</th>\n",
       "      <th>SUPERSTRUCTURE_COND_059_N</th>\n",
       "      <th>SUBSTRUCTURE_COND_060_4</th>\n",
       "      <th>SUBSTRUCTURE_COND_060_5</th>\n",
       "      <th>SUBSTRUCTURE_COND_060_6</th>\n",
       "      <th>SUBSTRUCTURE_COND_060_7</th>\n",
       "      <th>SUBSTRUCTURE_COND_060_8</th>\n",
       "    </tr>\n",
       "  </thead>\n",
       "  <tbody>\n",
       "    <tr>\n",
       "      <th>51-1VA3701</th>\n",
       "      <td>99.99</td>\n",
       "      <td>2.0</td>\n",
       "      <td>53.0</td>\n",
       "      <td>2.0</td>\n",
       "      <td>0</td>\n",
       "      <td>2000.0</td>\n",
       "      <td>7.9</td>\n",
       "      <td>45.0</td>\n",
       "      <td>0.0</td>\n",
       "      <td>0.0</td>\n",
       "      <td>...</td>\n",
       "      <td>0</td>\n",
       "      <td>0</td>\n",
       "      <td>0</td>\n",
       "      <td>0</td>\n",
       "      <td>0</td>\n",
       "      <td>0</td>\n",
       "      <td>1</td>\n",
       "      <td>0</td>\n",
       "      <td>0</td>\n",
       "      <td>0</td>\n",
       "    </tr>\n",
       "    <tr>\n",
       "      <th>51-1VA591A</th>\n",
       "      <td>99.99</td>\n",
       "      <td>4.0</td>\n",
       "      <td>42.0</td>\n",
       "      <td>2.0</td>\n",
       "      <td>0</td>\n",
       "      <td>50.0</td>\n",
       "      <td>6.5</td>\n",
       "      <td>0.0</td>\n",
       "      <td>0.0</td>\n",
       "      <td>0.0</td>\n",
       "      <td>...</td>\n",
       "      <td>0</td>\n",
       "      <td>0</td>\n",
       "      <td>0</td>\n",
       "      <td>0</td>\n",
       "      <td>0</td>\n",
       "      <td>0</td>\n",
       "      <td>0</td>\n",
       "      <td>1</td>\n",
       "      <td>0</td>\n",
       "      <td>0</td>\n",
       "    </tr>\n",
       "    <tr>\n",
       "      <th>51-2VA00AA</th>\n",
       "      <td>99.99</td>\n",
       "      <td>22.0</td>\n",
       "      <td>60.0</td>\n",
       "      <td>2.0</td>\n",
       "      <td>0</td>\n",
       "      <td>2000.0</td>\n",
       "      <td>6.1</td>\n",
       "      <td>0.0</td>\n",
       "      <td>0.0</td>\n",
       "      <td>0.0</td>\n",
       "      <td>...</td>\n",
       "      <td>0</td>\n",
       "      <td>1</td>\n",
       "      <td>0</td>\n",
       "      <td>0</td>\n",
       "      <td>0</td>\n",
       "      <td>0</td>\n",
       "      <td>1</td>\n",
       "      <td>0</td>\n",
       "      <td>0</td>\n",
       "      <td>0</td>\n",
       "    </tr>\n",
       "    <tr>\n",
       "      <th>51-2VA00CC</th>\n",
       "      <td>99.99</td>\n",
       "      <td>6.0</td>\n",
       "      <td>60.0</td>\n",
       "      <td>2.0</td>\n",
       "      <td>0</td>\n",
       "      <td>1000.0</td>\n",
       "      <td>7.3</td>\n",
       "      <td>0.0</td>\n",
       "      <td>0.0</td>\n",
       "      <td>0.0</td>\n",
       "      <td>...</td>\n",
       "      <td>1</td>\n",
       "      <td>0</td>\n",
       "      <td>0</td>\n",
       "      <td>0</td>\n",
       "      <td>0</td>\n",
       "      <td>0</td>\n",
       "      <td>0</td>\n",
       "      <td>1</td>\n",
       "      <td>0</td>\n",
       "      <td>0</td>\n",
       "    </tr>\n",
       "    <tr>\n",
       "      <th>51-2VA00DD</th>\n",
       "      <td>99.99</td>\n",
       "      <td>12.0</td>\n",
       "      <td>60.0</td>\n",
       "      <td>2.0</td>\n",
       "      <td>0</td>\n",
       "      <td>500.0</td>\n",
       "      <td>6.1</td>\n",
       "      <td>0.0</td>\n",
       "      <td>0.0</td>\n",
       "      <td>0.0</td>\n",
       "      <td>...</td>\n",
       "      <td>1</td>\n",
       "      <td>0</td>\n",
       "      <td>0</td>\n",
       "      <td>0</td>\n",
       "      <td>0</td>\n",
       "      <td>0</td>\n",
       "      <td>1</td>\n",
       "      <td>0</td>\n",
       "      <td>0</td>\n",
       "      <td>0</td>\n",
       "    </tr>\n",
       "  </tbody>\n",
       "</table>\n",
       "<p>5 rows × 191 columns</p>\n",
       "</div>"
      ],
      "text/plain": [
       "            MIN_VERT_CLR_010  DETOUR_KILOS_019   AGE  TRAFFIC_LANES_ON_028A  \\\n",
       "51-1VA3701             99.99               2.0  53.0                    2.0   \n",
       "51-1VA591A             99.99               4.0  42.0                    2.0   \n",
       "51-2VA00AA             99.99              22.0  60.0                    2.0   \n",
       "51-2VA00CC             99.99               6.0  60.0                    2.0   \n",
       "51-2VA00DD             99.99              12.0  60.0                    2.0   \n",
       "\n",
       "            TRAFFIC_LANES_UND_028B  ADT_029  APPR_WIDTH_MT_032  \\\n",
       "51-1VA3701                       0   2000.0                7.9   \n",
       "51-1VA591A                       0     50.0                6.5   \n",
       "51-2VA00AA                       0   2000.0                6.1   \n",
       "51-2VA00CC                       0   1000.0                7.3   \n",
       "51-2VA00DD                       0    500.0                6.1   \n",
       "\n",
       "            DEGREES_SKEW_034  NAV_VERT_CLR_MT_039  NAV_HORR_CLR_MT_040  \\\n",
       "51-1VA3701              45.0                  0.0                  0.0   \n",
       "51-1VA591A               0.0                  0.0                  0.0   \n",
       "51-2VA00AA               0.0                  0.0                  0.0   \n",
       "51-2VA00CC               0.0                  0.0                  0.0   \n",
       "51-2VA00DD               0.0                  0.0                  0.0   \n",
       "\n",
       "                     ...             SUPERSTRUCTURE_COND_059_6  \\\n",
       "51-1VA3701           ...                                     0   \n",
       "51-1VA591A           ...                                     0   \n",
       "51-2VA00AA           ...                                     0   \n",
       "51-2VA00CC           ...                                     1   \n",
       "51-2VA00DD           ...                                     1   \n",
       "\n",
       "            SUPERSTRUCTURE_COND_059_7  SUPERSTRUCTURE_COND_059_8  \\\n",
       "51-1VA3701                          0                          0   \n",
       "51-1VA591A                          0                          0   \n",
       "51-2VA00AA                          1                          0   \n",
       "51-2VA00CC                          0                          0   \n",
       "51-2VA00DD                          0                          0   \n",
       "\n",
       "            SUPERSTRUCTURE_COND_059_9  SUPERSTRUCTURE_COND_059_N  \\\n",
       "51-1VA3701                          0                          0   \n",
       "51-1VA591A                          0                          0   \n",
       "51-2VA00AA                          0                          0   \n",
       "51-2VA00CC                          0                          0   \n",
       "51-2VA00DD                          0                          0   \n",
       "\n",
       "            SUBSTRUCTURE_COND_060_4  SUBSTRUCTURE_COND_060_5  \\\n",
       "51-1VA3701                        0                        1   \n",
       "51-1VA591A                        0                        0   \n",
       "51-2VA00AA                        0                        1   \n",
       "51-2VA00CC                        0                        0   \n",
       "51-2VA00DD                        0                        1   \n",
       "\n",
       "            SUBSTRUCTURE_COND_060_6  SUBSTRUCTURE_COND_060_7  \\\n",
       "51-1VA3701                        0                        0   \n",
       "51-1VA591A                        1                        0   \n",
       "51-2VA00AA                        0                        0   \n",
       "51-2VA00CC                        1                        0   \n",
       "51-2VA00DD                        0                        0   \n",
       "\n",
       "            SUBSTRUCTURE_COND_060_8  \n",
       "51-1VA3701                        0  \n",
       "51-1VA591A                        0  \n",
       "51-2VA00AA                        0  \n",
       "51-2VA00CC                        0  \n",
       "51-2VA00DD                        0  \n",
       "\n",
       "[5 rows x 191 columns]"
      ]
     },
     "execution_count": 3,
     "metadata": {},
     "output_type": "execute_result"
    }
   ],
   "source": [
    "feat_df.head()"
   ]
  },
  {
   "cell_type": "code",
   "execution_count": 4,
   "metadata": {},
   "outputs": [],
   "source": [
    "# numerical values reserved for input\n",
    "num_items = [\n",
    "    'SUFFICIENCY_RATING_feat_yr'\n",
    "]"
   ]
  },
  {
   "cell_type": "code",
   "execution_count": 5,
   "metadata": {},
   "outputs": [],
   "source": [
    "# categorical values reserved for app input\n",
    "cat_items = [\n",
    "    'SUPERSTRUCTURE_COND_059',\n",
    "    'DECK_STRUCTURE_TYPE_107', \n",
    "    'STRUCTURE_KIND_043A', \n",
    "    'SURFACE_TYPE_108A', \n",
    "    'HISTORY_037',\n",
    "    'FUNCTIONAL_CLASS_026', \n",
    "    'OPEN_CLOSED_POSTED_041',\n",
    "    'SERVICE_UND_042B',\n",
    "    'DECK_PROTECTION_108C', \n",
    "    'MEMBRANE_TYPE_108B'\n",
    "]"
   ]
  },
  {
   "cell_type": "markdown",
   "metadata": {},
   "source": [
    "# Default Values"
   ]
  },
  {
   "cell_type": "code",
   "execution_count": 6,
   "metadata": {},
   "outputs": [
    {
     "data": {
      "text/plain": [
       "MIN_VERT_CLR_010              0\n",
       "DETOUR_KILOS_019              0\n",
       "AGE                           0\n",
       "TRAFFIC_LANES_ON_028A         0\n",
       "TRAFFIC_LANES_UND_028B        0\n",
       "ADT_029                       0\n",
       "APPR_WIDTH_MT_032             0\n",
       "DEGREES_SKEW_034              0\n",
       "NAV_VERT_CLR_MT_039           0\n",
       "NAV_HORR_CLR_MT_040           0\n",
       "MAIN_UNIT_SPANS_045           0\n",
       "APPR_SPANS_046                0\n",
       "HORR_CLR_MT_047               0\n",
       "MAX_SPAN_LEN_MT_048           0\n",
       "STRUCTURE_LEN_MT_049          0\n",
       "LEFT_CURB_MT_050A             0\n",
       "RIGHT_CURB_MT_050B            0\n",
       "ROADWAY_WIDTH_MT_051          0\n",
       "DECK_WIDTH_MT_052             0\n",
       "VERT_CLR_OVER_MT_053          0\n",
       "VERT_CLR_UND_054B             0\n",
       "LAT_UND_MT_055B               0\n",
       "LEFT_LAT_UND_MT_056           0\n",
       "RECON_AGE                     0\n",
       "PERCENT_ADT_TRUCK_109         0\n",
       "SUFFICIENCY_RATING_feat_yr    0\n",
       "TOLL_020_1.0                  0\n",
       "TOLL_020_2.0                  0\n",
       "TOLL_020_3.0                  0\n",
       "MAINTENANCE_021_1.0           0\n",
       "                             ..\n",
       "MEMBRANE_TYPE_108B_3          0\n",
       "MEMBRANE_TYPE_108B_8          0\n",
       "MEMBRANE_TYPE_108B_9          0\n",
       "MEMBRANE_TYPE_108B_N          0\n",
       "DECK_PROTECTION_108C_0        0\n",
       "DECK_PROTECTION_108C_1        0\n",
       "DECK_PROTECTION_108C_3        0\n",
       "DECK_PROTECTION_108C_8        0\n",
       "DECK_PROTECTION_108C_9        0\n",
       "DECK_PROTECTION_108C_N        0\n",
       "DECK_COND_058_3               0\n",
       "DECK_COND_058_4               0\n",
       "DECK_COND_058_5               0\n",
       "DECK_COND_058_6               0\n",
       "DECK_COND_058_7               0\n",
       "DECK_COND_058_8               0\n",
       "DECK_COND_058_9               0\n",
       "DECK_COND_058_N               0\n",
       "SUPERSTRUCTURE_COND_059_4     0\n",
       "SUPERSTRUCTURE_COND_059_5     0\n",
       "SUPERSTRUCTURE_COND_059_6     0\n",
       "SUPERSTRUCTURE_COND_059_7     0\n",
       "SUPERSTRUCTURE_COND_059_8     0\n",
       "SUPERSTRUCTURE_COND_059_9     0\n",
       "SUPERSTRUCTURE_COND_059_N     0\n",
       "SUBSTRUCTURE_COND_060_4       0\n",
       "SUBSTRUCTURE_COND_060_5       0\n",
       "SUBSTRUCTURE_COND_060_6       0\n",
       "SUBSTRUCTURE_COND_060_7       0\n",
       "SUBSTRUCTURE_COND_060_8       0\n",
       "Length: 191, dtype: int64"
      ]
     },
     "execution_count": 6,
     "metadata": {},
     "output_type": "execute_result"
    }
   ],
   "source": [
    "# initiate default series data\n",
    "defaults = pd.Series(data=[0]*len(feat_df.columns), index=feat_df.columns)\n",
    "defaults"
   ]
  },
  {
   "cell_type": "markdown",
   "metadata": {},
   "source": [
    "## Numerical"
   ]
  },
  {
   "cell_type": "code",
   "execution_count": 7,
   "metadata": {},
   "outputs": [
    {
     "data": {
      "text/plain": [
       "MIN_VERT_CLR_010            98.647907\n",
       "DETOUR_KILOS_019            27.702257\n",
       "AGE                         52.727883\n",
       "TRAFFIC_LANES_ON_028A        2.178157\n",
       "TRAFFIC_LANES_UND_028B       0.782184\n",
       "ADT_029                   8298.545455\n",
       "APPR_WIDTH_MT_032            8.782001\n",
       "DEGREES_SKEW_034            13.001220\n",
       "NAV_VERT_CLR_MT_039          0.156681\n",
       "NAV_HORR_CLR_MT_040          0.437157\n",
       "MAIN_UNIT_SPANS_045          2.597926\n",
       "APPR_SPANS_046               0.342892\n",
       "HORR_CLR_MT_047              8.366626\n",
       "MAX_SPAN_LEN_MT_048         15.430506\n",
       "STRUCTURE_LEN_MT_049        51.870897\n",
       "LEFT_CURB_MT_050A            0.335937\n",
       "RIGHT_CURB_MT_050B           0.345149\n",
       "ROADWAY_WIDTH_MT_051         8.642099\n",
       "DECK_WIDTH_MT_052            9.885906\n",
       "VERT_CLR_OVER_MT_053        98.916571\n",
       "VERT_CLR_UND_054B            1.377322\n",
       "LAT_UND_MT_055B              1.128920\n",
       "LEFT_LAT_UND_MT_056          2.551556\n",
       "RECON_AGE                   49.061623\n",
       "PERCENT_ADT_TRUCK_109        4.114598\n",
       "dtype: float64"
      ]
     },
     "execution_count": 7,
     "metadata": {},
     "output_type": "execute_result"
    }
   ],
   "source": [
    "# specify columns needed for default numerical values\n",
    "num_col_def = ~df_num.columns.isin(num_items)\n",
    "# use average numerical values for default input\n",
    "num_def = df_num.iloc[:, num_col_def].mean()\n",
    "num_def"
   ]
  },
  {
   "cell_type": "code",
   "execution_count": 8,
   "metadata": {},
   "outputs": [],
   "source": [
    "# fill default series with numerical defaults\n",
    "defaults[num_def.index] = num_def"
   ]
  },
  {
   "cell_type": "markdown",
   "metadata": {},
   "source": [
    "## Categorical"
   ]
  },
  {
   "cell_type": "code",
   "execution_count": 9,
   "metadata": {},
   "outputs": [
    {
     "data": {
      "text/plain": [
       "TOLL_020_3.0                1\n",
       "MAINTENANCE_021_1.0         1\n",
       "DESIGN_LOAD_031_6.0         1\n",
       "MEDIAN_CODE_033_0.0         1\n",
       "STRUCTURE_FLARED_035_0.0    1\n",
       "RAILINGS_036A_0             1\n",
       "TRANSITIONS_036B_0          1\n",
       "APPR_RAIL_036C_1            1\n",
       "APPR_RAIL_END_036D_0        1\n",
       "NAVIGATION_038_0            1\n",
       "SERVICE_ON_042A_1           1\n",
       "STRUCTURE_TYPE_043B_2       1\n",
       "APPR_KIND_044A_0.0          1\n",
       "APPR_TYPE_044B_0.0          1\n",
       "DECK_COND_058_6             1\n",
       "SUBSTRUCTURE_COND_060_6     1\n",
       "dtype: uint8"
      ]
     },
     "execution_count": 9,
     "metadata": {},
     "output_type": "execute_result"
    }
   ],
   "source": [
    "# specify columns needed for default categorical values\n",
    "cat_col_def = ~df_cat.columns.isin(cat_items)\n",
    "# use most frequent categorical values as default input\n",
    "cat_def = df_cat.loc[:, cat_col_def].mode()\n",
    "# one-hot encode categorical data as strings\n",
    "cat_def = pd.get_dummies(cat_def.astype(str))\n",
    "# convert to series\n",
    "cat_def = pd.Series(cat_def.values[0], index=cat_def.columns)\n",
    "cat_def"
   ]
  },
  {
   "cell_type": "code",
   "execution_count": 10,
   "metadata": {},
   "outputs": [],
   "source": [
    "# fill default series with categorical defaults\n",
    "defaults[cat_def.index] = cat_def"
   ]
  },
  {
   "cell_type": "code",
   "execution_count": 11,
   "metadata": {},
   "outputs": [],
   "source": [
    "# export default series\n",
    "defaults.to_csv('default_feats.csv')"
   ]
  },
  {
   "cell_type": "markdown",
   "metadata": {},
   "source": [
    "# Input Value Options"
   ]
  },
  {
   "cell_type": "code",
   "execution_count": 12,
   "metadata": {},
   "outputs": [],
   "source": [
    "input_options = {}"
   ]
  },
  {
   "cell_type": "markdown",
   "metadata": {},
   "source": [
    "## Sufficiency Rating"
   ]
  },
  {
   "cell_type": "code",
   "execution_count": 13,
   "metadata": {},
   "outputs": [],
   "source": [
    "suff_rtg = {\n",
    "    'min': df_num['SUFFICIENCY_RATING_feat_yr'].min(),\n",
    "    'max': df_num['SUFFICIENCY_RATING_feat_yr'].max()\n",
    "}"
   ]
  },
  {
   "cell_type": "code",
   "execution_count": 14,
   "metadata": {},
   "outputs": [],
   "source": [
    "input_options['Sufficiency Rating'] = suff_rtg"
   ]
  },
  {
   "cell_type": "markdown",
   "metadata": {},
   "source": [
    "## 59 - Superstructure Condition Rating"
   ]
  },
  {
   "cell_type": "code",
   "execution_count": 15,
   "metadata": {},
   "outputs": [
    {
     "data": {
      "text/plain": [
       "['4', '5', '6', '7', '8', '9', 'N']"
      ]
     },
     "execution_count": 15,
     "metadata": {},
     "output_type": "execute_result"
    }
   ],
   "source": [
    "sorted(df_cat['SUPERSTRUCTURE_COND_059'].unique())"
   ]
  },
  {
   "cell_type": "code",
   "execution_count": 16,
   "metadata": {},
   "outputs": [],
   "source": [
    "sup_rtg = {\n",
    "    '4 - Poor': 4,\n",
    "    '5 - Fair': 5,\n",
    "    '6 - Satisfactory': 6,\n",
    "    '7 - Good': 7,\n",
    "    '8 - Very Good': 8,\n",
    "    '9 - Excellent': 9,\n",
    "    'Not Applicable': 'N'\n",
    "}"
   ]
  },
  {
   "cell_type": "code",
   "execution_count": 17,
   "metadata": {},
   "outputs": [],
   "source": [
    "input_options['Item 59: Superstructure Condition Rating'] = sup_rtg"
   ]
  },
  {
   "cell_type": "markdown",
   "metadata": {},
   "source": [
    "## 107 - Deck Structure Type"
   ]
  },
  {
   "cell_type": "code",
   "execution_count": 18,
   "metadata": {},
   "outputs": [
    {
     "data": {
      "text/plain": [
       "['1', '2', '3', '5', '6', '8', '9', 'N']"
      ]
     },
     "execution_count": 18,
     "metadata": {},
     "output_type": "execute_result"
    }
   ],
   "source": [
    "sorted(df_cat['DECK_STRUCTURE_TYPE_107'].unique())"
   ]
  },
  {
   "cell_type": "code",
   "execution_count": 19,
   "metadata": {},
   "outputs": [],
   "source": [
    "deck_type = {\n",
    "    'Concrete Cast-in-Place': 1,\n",
    "    'Concrete Precast Panels': 2,\n",
    "    'Open Grating': 3,\n",
    "    'Steel plate': 5,\n",
    "    'Corrugated Steel': 6,\n",
    "    'Wood or Timber': 8,\n",
    "    'Other': 9,\n",
    "    'Not applicable': 'N'\n",
    "}"
   ]
  },
  {
   "cell_type": "code",
   "execution_count": 20,
   "metadata": {},
   "outputs": [],
   "source": [
    "input_options['Item 107: Deck Type']= deck_type"
   ]
  },
  {
   "cell_type": "markdown",
   "metadata": {},
   "source": [
    "## 43A - Structure Type"
   ]
  },
  {
   "cell_type": "code",
   "execution_count": 21,
   "metadata": {},
   "outputs": [
    {
     "data": {
      "text/plain": [
       "[1, 2, 3, 4, 5, 6, 7, 8, 9]"
      ]
     },
     "execution_count": 21,
     "metadata": {},
     "output_type": "execute_result"
    }
   ],
   "source": [
    "sorted(df_cat['STRUCTURE_KIND_043A'].unique())"
   ]
  },
  {
   "cell_type": "code",
   "execution_count": 22,
   "metadata": {},
   "outputs": [],
   "source": [
    "struct_type = {\n",
    "    'Concrete': 1,\n",
    "    'Concrete continuous': 2,\n",
    "    'Steel': 3,\n",
    "    'Steel continuous': 4,\n",
    "    'Prestressed concrete': 5,\n",
    "    'Prestressed concrete continuous': 6,\n",
    "    'Wood or Timber': 7,\n",
    "    'Masonry': 8,\n",
    "    'Aluminum or Iron': 9\n",
    "}"
   ]
  },
  {
   "cell_type": "code",
   "execution_count": 23,
   "metadata": {},
   "outputs": [],
   "source": [
    "input_options['Item 43A: Structure Type'] = struct_type"
   ]
  },
  {
   "cell_type": "markdown",
   "metadata": {},
   "source": [
    "## 108A - Surface Type"
   ]
  },
  {
   "cell_type": "code",
   "execution_count": 24,
   "metadata": {},
   "outputs": [
    {
     "data": {
      "text/plain": [
       "['0', '1', '2', '3', '5', '6', '7', '8', '9', 'N']"
      ]
     },
     "execution_count": 24,
     "metadata": {},
     "output_type": "execute_result"
    }
   ],
   "source": [
    "sorted(df_cat['SURFACE_TYPE_108A'].unique())"
   ]
  },
  {
   "cell_type": "code",
   "execution_count": 25,
   "metadata": {},
   "outputs": [],
   "source": [
    "surf_type = {\n",
    "    'None': 0,\n",
    "    'Monolithic Concrete': 1,\n",
    "    'Integral Concrete': 2,\n",
    "    'Latex Concrete': 3,\n",
    "    'Epoxy Overlay': 5,\n",
    "    'Bituminous': 6,\n",
    "    'Wood or Timber': 7,\n",
    "    'Gravel': 8,\n",
    "    'Other': 9,\n",
    "    'Not applicable': 'N'\n",
    "}"
   ]
  },
  {
   "cell_type": "code",
   "execution_count": 26,
   "metadata": {},
   "outputs": [],
   "source": [
    "input_options['Item 108A: Surface Type'] = surf_type"
   ]
  },
  {
   "cell_type": "markdown",
   "metadata": {},
   "source": [
    "## 37 - History"
   ]
  },
  {
   "cell_type": "code",
   "execution_count": 27,
   "metadata": {},
   "outputs": [
    {
     "data": {
      "text/plain": [
       "[1.0, 2.0, 3.0, 4.0, 5.0]"
      ]
     },
     "execution_count": 27,
     "metadata": {},
     "output_type": "execute_result"
    }
   ],
   "source": [
    "sorted(df_cat['HISTORY_037'].unique())"
   ]
  },
  {
   "cell_type": "code",
   "execution_count": 28,
   "metadata": {},
   "outputs": [],
   "source": [
    "hist = {\n",
    "    'Registered as historic': 1,\n",
    "    'Eligible to register': 2,\n",
    "    'Possibly eligible': 3,\n",
    "    'Significance indeterminable': 4,\n",
    "    'Not eligible': 5\n",
    "}"
   ]
  },
  {
   "cell_type": "code",
   "execution_count": 29,
   "metadata": {},
   "outputs": [],
   "source": [
    "input_options['Item 37: History'] = hist"
   ]
  },
  {
   "cell_type": "markdown",
   "metadata": {},
   "source": [
    "## 26 - Functional Class"
   ]
  },
  {
   "cell_type": "code",
   "execution_count": 30,
   "metadata": {},
   "outputs": [
    {
     "data": {
      "text/plain": [
       "[1.0, 2.0, 6.0, 7.0, 8.0, 9.0, 11.0, 12.0, 14.0, 16.0, 17.0, 19.0]"
      ]
     },
     "execution_count": 30,
     "metadata": {},
     "output_type": "execute_result"
    }
   ],
   "source": [
    "sorted(df_cat['FUNCTIONAL_CLASS_026'].unique())"
   ]
  },
  {
   "cell_type": "code",
   "execution_count": 31,
   "metadata": {},
   "outputs": [],
   "source": [
    "fun_class = {\n",
    "    'Rural Intrst. Arterial': 1,\n",
    "    'Rural Other Arterial': 2,\n",
    "    'Rural Minor Arterial': 6,\n",
    "    'Rural Major Collector': 7,\n",
    "    'Rural Minor Collector': 8,\n",
    "    'Rural Local': 9,\n",
    "    'Urban Intrst. Arterial': 11,\n",
    "    'Urban Exprswy. Arterial': 12,\n",
    "    'Urban Other Arterial': 14,\n",
    "    'Urban Minor Arterial': 16,\n",
    "    'Urban Collector': 17,\n",
    "    'Urban Local': 19\n",
    "}"
   ]
  },
  {
   "cell_type": "code",
   "execution_count": 32,
   "metadata": {},
   "outputs": [],
   "source": [
    "input_options['Item 26: Functional Class'] = fun_class"
   ]
  },
  {
   "cell_type": "markdown",
   "metadata": {},
   "source": [
    "## 41 - Load Posting"
   ]
  },
  {
   "cell_type": "code",
   "execution_count": 33,
   "metadata": {},
   "outputs": [
    {
     "data": {
      "text/plain": [
       "['A', 'D', 'P', 'R']"
      ]
     },
     "execution_count": 33,
     "metadata": {},
     "output_type": "execute_result"
    }
   ],
   "source": [
    "sorted(df_cat['OPEN_CLOSED_POSTED_041'].unique())"
   ]
  },
  {
   "cell_type": "code",
   "execution_count": 34,
   "metadata": {},
   "outputs": [],
   "source": [
    "post = {\n",
    "    'Open': 'A',\n",
    "    'Open, with shoring': 'D',\n",
    "    'Posted for load': 'P',\n",
    "    'Posted for other': 'R'\n",
    "}"
   ]
  },
  {
   "cell_type": "code",
   "execution_count": 35,
   "metadata": {},
   "outputs": [],
   "source": [
    "input_options['Item 41: Load Posting'] = post"
   ]
  },
  {
   "cell_type": "markdown",
   "metadata": {},
   "source": [
    "## 42B - Service under Bridge"
   ]
  },
  {
   "cell_type": "code",
   "execution_count": 36,
   "metadata": {},
   "outputs": [
    {
     "data": {
      "text/plain": [
       "[0, 1, 2, 3, 4, 5, 6, 7, 8]"
      ]
     },
     "execution_count": 36,
     "metadata": {},
     "output_type": "execute_result"
    }
   ],
   "source": [
    "sorted(df_cat['SERVICE_UND_042B'].unique())"
   ]
  },
  {
   "cell_type": "code",
   "execution_count": 37,
   "metadata": {},
   "outputs": [],
   "source": [
    "serv_und = {\n",
    "    'Other': 0,\n",
    "    'Highway': 1,\n",
    "    'Railroad': 2,\n",
    "    'Pedestrian-bicycle': 3,\n",
    "    'Highway-railroad': 4,\n",
    "    'Waterway': 5,\n",
    "    'Highway-waterway': 6,\n",
    "    'Railroad-waterway': 7,\n",
    "    'Highway-waterway-railroad': 8\n",
    "}"
   ]
  },
  {
   "cell_type": "code",
   "execution_count": 38,
   "metadata": {},
   "outputs": [],
   "source": [
    "input_options['Item 42B: Service under Bridge'] = serv_und"
   ]
  },
  {
   "cell_type": "markdown",
   "metadata": {},
   "source": [
    "## 108B - Membrane Type"
   ]
  },
  {
   "cell_type": "code",
   "execution_count": 39,
   "metadata": {},
   "outputs": [
    {
     "data": {
      "text/plain": [
       "['0', '1', '2', '3', '8', '9', 'N']"
      ]
     },
     "execution_count": 39,
     "metadata": {},
     "output_type": "execute_result"
    }
   ],
   "source": [
    "sorted(df_cat['MEMBRANE_TYPE_108B'].unique())"
   ]
  },
  {
   "cell_type": "code",
   "execution_count": 40,
   "metadata": {},
   "outputs": [],
   "source": [
    "mem_type = {\n",
    "    'None': 0,\n",
    "    'Built-up': 1,\n",
    "    'Preformed Fabric': 2,\n",
    "    'Epoxy': 3,\n",
    "    'Unknown': 8,\n",
    "    'Other': 9,\n",
    "    'Not Applicable': 'N'\n",
    "}"
   ]
  },
  {
   "cell_type": "code",
   "execution_count": 41,
   "metadata": {},
   "outputs": [],
   "source": [
    "input_options['Item 108B: Membrane Type'] = mem_type"
   ]
  },
  {
   "cell_type": "markdown",
   "metadata": {},
   "source": [
    "## 108C - Deck Protection"
   ]
  },
  {
   "cell_type": "code",
   "execution_count": 42,
   "metadata": {},
   "outputs": [
    {
     "data": {
      "text/plain": [
       "['0', '1', '3', '8', '9', 'N']"
      ]
     },
     "execution_count": 42,
     "metadata": {},
     "output_type": "execute_result"
    }
   ],
   "source": [
    "sorted(df_cat['DECK_PROTECTION_108C'].unique())"
   ]
  },
  {
   "cell_type": "code",
   "execution_count": 43,
   "metadata": {},
   "outputs": [],
   "source": [
    "deck_prot = {\n",
    "    'None': 0,\n",
    "    'Epoxy Coated Reinforcing': 1,\n",
    "    'Other Coated Reinforcing': 3,\n",
    "    'Unknown': 8,\n",
    "    'Other': 9,\n",
    "    'Not Applicable': 'N'\n",
    "}"
   ]
  },
  {
   "cell_type": "code",
   "execution_count": 44,
   "metadata": {},
   "outputs": [],
   "source": [
    "input_options['Item 108C: Deck Protection'] = deck_prot"
   ]
  },
  {
   "cell_type": "markdown",
   "metadata": {},
   "source": [
    "## Export Input Dictionary"
   ]
  },
  {
   "cell_type": "code",
   "execution_count": 46,
   "metadata": {},
   "outputs": [
    {
     "data": {
      "text/plain": [
       "['input_options.sav']"
      ]
     },
     "execution_count": 46,
     "metadata": {},
     "output_type": "execute_result"
    }
   ],
   "source": [
    "joblib.dump(input_options, 'input_options.sav')"
   ]
  },
  {
   "cell_type": "markdown",
   "metadata": {},
   "source": [
    "# Test Input"
   ]
  },
  {
   "cell_type": "code",
   "execution_count": 33,
   "metadata": {},
   "outputs": [],
   "source": [
    "t_input = defaults.copy()"
   ]
  },
  {
   "cell_type": "markdown",
   "metadata": {},
   "source": [
    "## Numerical Input"
   ]
  },
  {
   "cell_type": "code",
   "execution_count": 34,
   "metadata": {},
   "outputs": [
    {
     "data": {
      "text/plain": [
       "66.4"
      ]
     },
     "execution_count": 34,
     "metadata": {},
     "output_type": "execute_result"
    }
   ],
   "source": [
    "# generate sample numerical input values\n",
    "np.random.seed(0)\n",
    "num_input = np.round(np.random.uniform(min_rtng, max_rtng, 1), 1)[0]\n",
    "num_input"
   ]
  },
  {
   "cell_type": "code",
   "execution_count": 35,
   "metadata": {},
   "outputs": [],
   "source": [
    "# overide default with numerical input\n",
    "t_input[t_input.index.isin(num_items)] = num_input"
   ]
  },
  {
   "cell_type": "markdown",
   "metadata": {},
   "source": [
    "## Categorical Input"
   ]
  },
  {
   "cell_type": "code",
   "execution_count": 36,
   "metadata": {},
   "outputs": [
    {
     "data": {
      "text/plain": [
       "SUPERSTRUCTURE_COND_059_4    1\n",
       "DECK_STRUCTURE_TYPE_107_6    1\n",
       "STRUCTURE_KIND_043A_7        1\n",
       "SURFACE_TYPE_108A_0          1\n",
       "HISTORY_037_2.0              1\n",
       "FUNCTIONAL_CLASS_026_8.0     1\n",
       "OPEN_CLOSED_POSTED_041_D     1\n",
       "SERVICE_UND_042B_0           1\n",
       "DECK_PROTECTION_108C_1       1\n",
       "MEMBRANE_TYPE_108B_2         1\n",
       "dtype: uint8"
      ]
     },
     "execution_count": 36,
     "metadata": {},
     "output_type": "execute_result"
    }
   ],
   "source": [
    "# generate sample categorical input values\n",
    "np.random.seed(0)\n",
    "cat_input = [np.random.choice(list(df_cat[i].unique())) for i in cat_items]\n",
    "# create categorical input dataframe\n",
    "cat_input = pd.DataFrame(data=[cat_input], columns=cat_items)\n",
    "# one-hot encode categorical data as strings\n",
    "cat_input = pd.get_dummies(cat_input.astype(str))\n",
    "# convert to series\n",
    "cat_input = pd.Series(cat_input.values[0], index=cat_input.columns)\n",
    "cat_input"
   ]
  },
  {
   "cell_type": "code",
   "execution_count": 42,
   "metadata": {},
   "outputs": [],
   "source": [
    "# overide default with categorical input\n",
    "t_input[cat_input.index] = cat_input"
   ]
  },
  {
   "cell_type": "markdown",
   "metadata": {},
   "source": [
    "## Run Model"
   ]
  },
  {
   "cell_type": "code",
   "execution_count": 62,
   "metadata": {},
   "outputs": [
    {
     "data": {
      "text/plain": [
       "MIN_VERT_CLR_010                98.647907\n",
       "DETOUR_KILOS_019                27.702257\n",
       "AGE                             52.727883\n",
       "TRAFFIC_LANES_ON_028A            2.178157\n",
       "TRAFFIC_LANES_UND_028B           0.782184\n",
       "ADT_029                       8298.545455\n",
       "APPR_WIDTH_MT_032                8.782001\n",
       "DEGREES_SKEW_034                13.001220\n",
       "NAV_VERT_CLR_MT_039              0.156681\n",
       "NAV_HORR_CLR_MT_040              0.437157\n",
       "MAIN_UNIT_SPANS_045              2.597926\n",
       "APPR_SPANS_046                   0.342892\n",
       "HORR_CLR_MT_047                  8.366626\n",
       "MAX_SPAN_LEN_MT_048             15.430506\n",
       "STRUCTURE_LEN_MT_049            51.870897\n",
       "LEFT_CURB_MT_050A                0.335937\n",
       "RIGHT_CURB_MT_050B               0.345149\n",
       "ROADWAY_WIDTH_MT_051             8.642099\n",
       "DECK_WIDTH_MT_052                9.885906\n",
       "VERT_CLR_OVER_MT_053            98.916571\n",
       "VERT_CLR_UND_054B                1.377322\n",
       "LAT_UND_MT_055B                  1.128920\n",
       "LEFT_LAT_UND_MT_056              2.551556\n",
       "RECON_AGE                       49.061623\n",
       "PERCENT_ADT_TRUCK_109            4.114598\n",
       "SUFFICIENCY_RATING_feat_yr      66.400000\n",
       "TOLL_020_1.0                     0.000000\n",
       "TOLL_020_2.0                     0.000000\n",
       "TOLL_020_3.0                     1.000000\n",
       "MAINTENANCE_021_1.0              1.000000\n",
       "                                 ...     \n",
       "MEMBRANE_TYPE_108B_3             0.000000\n",
       "MEMBRANE_TYPE_108B_8             0.000000\n",
       "MEMBRANE_TYPE_108B_9             0.000000\n",
       "MEMBRANE_TYPE_108B_N             0.000000\n",
       "DECK_PROTECTION_108C_0           0.000000\n",
       "DECK_PROTECTION_108C_1           1.000000\n",
       "DECK_PROTECTION_108C_3           0.000000\n",
       "DECK_PROTECTION_108C_8           0.000000\n",
       "DECK_PROTECTION_108C_9           0.000000\n",
       "DECK_PROTECTION_108C_N           0.000000\n",
       "DECK_COND_058_3                  0.000000\n",
       "DECK_COND_058_4                  0.000000\n",
       "DECK_COND_058_5                  0.000000\n",
       "DECK_COND_058_6                  1.000000\n",
       "DECK_COND_058_7                  0.000000\n",
       "DECK_COND_058_8                  0.000000\n",
       "DECK_COND_058_9                  0.000000\n",
       "DECK_COND_058_N                  0.000000\n",
       "SUPERSTRUCTURE_COND_059_4        1.000000\n",
       "SUPERSTRUCTURE_COND_059_5        0.000000\n",
       "SUPERSTRUCTURE_COND_059_6        0.000000\n",
       "SUPERSTRUCTURE_COND_059_7        0.000000\n",
       "SUPERSTRUCTURE_COND_059_8        0.000000\n",
       "SUPERSTRUCTURE_COND_059_9        0.000000\n",
       "SUPERSTRUCTURE_COND_059_N        0.000000\n",
       "SUBSTRUCTURE_COND_060_4          0.000000\n",
       "SUBSTRUCTURE_COND_060_5          0.000000\n",
       "SUBSTRUCTURE_COND_060_6          1.000000\n",
       "SUBSTRUCTURE_COND_060_7          0.000000\n",
       "SUBSTRUCTURE_COND_060_8          0.000000\n",
       "Length: 191, dtype: float64"
      ]
     },
     "execution_count": 62,
     "metadata": {},
     "output_type": "execute_result"
    }
   ],
   "source": [
    "t_input"
   ]
  },
  {
   "cell_type": "code",
   "execution_count": 66,
   "metadata": {},
   "outputs": [],
   "source": [
    "# load saved model\n",
    "model = joblib.load('../model_output/model.sav')"
   ]
  },
  {
   "cell_type": "code",
   "execution_count": 68,
   "metadata": {},
   "outputs": [
    {
     "data": {
      "text/plain": [
       "array(['not poor'], dtype=object)"
      ]
     },
     "execution_count": 68,
     "metadata": {},
     "output_type": "execute_result"
    }
   ],
   "source": [
    "model.predict([t_input])"
   ]
  },
  {
   "cell_type": "code",
   "execution_count": 69,
   "metadata": {},
   "outputs": [
    {
     "data": {
      "text/plain": [
       "array(['not poor', 'poor'], dtype=object)"
      ]
     },
     "execution_count": 69,
     "metadata": {},
     "output_type": "execute_result"
    }
   ],
   "source": [
    "model.classes_"
   ]
  },
  {
   "cell_type": "code",
   "execution_count": 70,
   "metadata": {},
   "outputs": [
    {
     "data": {
      "text/plain": [
       "array([[0.93019513, 0.06980487]])"
      ]
     },
     "execution_count": 70,
     "metadata": {},
     "output_type": "execute_result"
    }
   ],
   "source": [
    "model.predict_proba([t_input])"
   ]
  },
  {
   "cell_type": "code",
   "execution_count": null,
   "metadata": {},
   "outputs": [],
   "source": []
  }
 ],
 "metadata": {
  "kernelspec": {
   "display_name": "Python 3",
   "language": "python",
   "name": "python3"
  },
  "language_info": {
   "codemirror_mode": {
    "name": "ipython",
    "version": 3
   },
   "file_extension": ".py",
   "mimetype": "text/x-python",
   "name": "python",
   "nbconvert_exporter": "python",
   "pygments_lexer": "ipython3",
   "version": "3.6.5"
  }
 },
 "nbformat": 4,
 "nbformat_minor": 2
}
