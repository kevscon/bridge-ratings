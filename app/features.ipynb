{
 "cells": [
  {
   "cell_type": "markdown",
   "metadata": {},
   "source": [
    "This notebook is used to help set up default and input options for the bridge rating flask app."
   ]
  },
  {
   "cell_type": "code",
   "execution_count": 1,
   "metadata": {},
   "outputs": [],
   "source": [
    "import numpy as np\n",
    "import pandas as pd\n",
    "import json\n",
    "from sklearn.externals import joblib"
   ]
  },
  {
   "cell_type": "code",
   "execution_count": 2,
   "metadata": {},
   "outputs": [],
   "source": [
    "df_num = pd.read_csv('../data/bridges_num.csv', index_col=0)\n",
    "df_cat = pd.read_csv('../data/bridges_cat.csv', index_col=0)\n",
    "feat_df = pd.read_csv('../data/feat_df.csv', index_col=0)"
   ]
  },
  {
   "cell_type": "code",
   "execution_count": 3,
   "metadata": {},
   "outputs": [],
   "source": [
    "# numerical values reserved for app input\n",
    "num_items = [\n",
    "    'SUFFICIENCY_RATING_feat_yr'\n",
    "]"
   ]
  },
  {
   "cell_type": "code",
   "execution_count": 4,
   "metadata": {},
   "outputs": [],
   "source": [
    "# categorical values reserved for app input\n",
    "cat_items = [\n",
    "    'FUNCTIONAL_CLASS_026', \n",
    "    'HISTORY_037',\n",
    "    'OPEN_CLOSED_POSTED_041',\n",
    "    'SERVICE_UND_042B',\n",
    "    'STRUCTURE_KIND_043A', \n",
    "    'SUPERSTRUCTURE_COND_059',\n",
    "    'DECK_STRUCTURE_TYPE_107', \n",
    "    'SURFACE_TYPE_108A', \n",
    "    'MEMBRANE_TYPE_108B', \n",
    "    'DECK_PROTECTION_108C'\n",
    "]"
   ]
  },
  {
   "cell_type": "markdown",
   "metadata": {},
   "source": [
    "# Default Values"
   ]
  },
  {
   "cell_type": "code",
   "execution_count": 5,
   "metadata": {},
   "outputs": [
    {
     "data": {
      "text/plain": [
       "MIN_VERT_CLR_010              0\n",
       "DETOUR_KILOS_019              0\n",
       "AGE                           0\n",
       "TRAFFIC_LANES_ON_028A         0\n",
       "TRAFFIC_LANES_UND_028B        0\n",
       "ADT_029                       0\n",
       "APPR_WIDTH_MT_032             0\n",
       "DEGREES_SKEW_034              0\n",
       "NAV_VERT_CLR_MT_039           0\n",
       "NAV_HORR_CLR_MT_040           0\n",
       "MAIN_UNIT_SPANS_045           0\n",
       "APPR_SPANS_046                0\n",
       "HORR_CLR_MT_047               0\n",
       "MAX_SPAN_LEN_MT_048           0\n",
       "STRUCTURE_LEN_MT_049          0\n",
       "LEFT_CURB_MT_050A             0\n",
       "RIGHT_CURB_MT_050B            0\n",
       "ROADWAY_WIDTH_MT_051          0\n",
       "DECK_WIDTH_MT_052             0\n",
       "VERT_CLR_OVER_MT_053          0\n",
       "VERT_CLR_UND_054B             0\n",
       "LAT_UND_MT_055B               0\n",
       "LEFT_LAT_UND_MT_056           0\n",
       "RECON_AGE                     0\n",
       "PERCENT_ADT_TRUCK_109         0\n",
       "SUFFICIENCY_RATING_feat_yr    0\n",
       "TOLL_020_1.0                  0\n",
       "TOLL_020_2.0                  0\n",
       "TOLL_020_3.0                  0\n",
       "MAINTENANCE_021_1.0           0\n",
       "                             ..\n",
       "MEMBRANE_TYPE_108B_3          0\n",
       "MEMBRANE_TYPE_108B_8          0\n",
       "MEMBRANE_TYPE_108B_9          0\n",
       "MEMBRANE_TYPE_108B_N          0\n",
       "DECK_PROTECTION_108C_0        0\n",
       "DECK_PROTECTION_108C_1        0\n",
       "DECK_PROTECTION_108C_3        0\n",
       "DECK_PROTECTION_108C_8        0\n",
       "DECK_PROTECTION_108C_9        0\n",
       "DECK_PROTECTION_108C_N        0\n",
       "DECK_COND_058_3               0\n",
       "DECK_COND_058_4               0\n",
       "DECK_COND_058_5               0\n",
       "DECK_COND_058_6               0\n",
       "DECK_COND_058_7               0\n",
       "DECK_COND_058_8               0\n",
       "DECK_COND_058_9               0\n",
       "DECK_COND_058_N               0\n",
       "SUPERSTRUCTURE_COND_059_4     0\n",
       "SUPERSTRUCTURE_COND_059_5     0\n",
       "SUPERSTRUCTURE_COND_059_6     0\n",
       "SUPERSTRUCTURE_COND_059_7     0\n",
       "SUPERSTRUCTURE_COND_059_8     0\n",
       "SUPERSTRUCTURE_COND_059_9     0\n",
       "SUPERSTRUCTURE_COND_059_N     0\n",
       "SUBSTRUCTURE_COND_060_4       0\n",
       "SUBSTRUCTURE_COND_060_5       0\n",
       "SUBSTRUCTURE_COND_060_6       0\n",
       "SUBSTRUCTURE_COND_060_7       0\n",
       "SUBSTRUCTURE_COND_060_8       0\n",
       "Length: 191, dtype: int64"
      ]
     },
     "execution_count": 5,
     "metadata": {},
     "output_type": "execute_result"
    }
   ],
   "source": [
    "# initiate blank series for model input\n",
    "input_series = pd.Series(data=[0]*len(feat_df.columns), index=feat_df.columns)\n",
    "input_series"
   ]
  },
  {
   "cell_type": "code",
   "execution_count": 6,
   "metadata": {},
   "outputs": [],
   "source": [
    "# save as json file\n",
    "# input_series.to_json('input_series.json')"
   ]
  },
  {
   "cell_type": "markdown",
   "metadata": {},
   "source": [
    "## Numerical"
   ]
  },
  {
   "cell_type": "code",
   "execution_count": 7,
   "metadata": {},
   "outputs": [
    {
     "data": {
      "text/plain": [
       "MIN_VERT_CLR_010                98.647907\n",
       "DETOUR_KILOS_019                27.702257\n",
       "AGE                             52.727883\n",
       "TRAFFIC_LANES_ON_028A            2.178157\n",
       "TRAFFIC_LANES_UND_028B           0.782184\n",
       "ADT_029                       8298.545455\n",
       "APPR_WIDTH_MT_032                8.782001\n",
       "DEGREES_SKEW_034                13.001220\n",
       "NAV_VERT_CLR_MT_039              0.156681\n",
       "NAV_HORR_CLR_MT_040              0.437157\n",
       "MAIN_UNIT_SPANS_045              2.597926\n",
       "APPR_SPANS_046                   0.342892\n",
       "HORR_CLR_MT_047                  8.366626\n",
       "MAX_SPAN_LEN_MT_048             15.430506\n",
       "STRUCTURE_LEN_MT_049            51.870897\n",
       "LEFT_CURB_MT_050A                0.335937\n",
       "RIGHT_CURB_MT_050B               0.345149\n",
       "ROADWAY_WIDTH_MT_051             8.642099\n",
       "DECK_WIDTH_MT_052                9.885906\n",
       "VERT_CLR_OVER_MT_053            98.916571\n",
       "VERT_CLR_UND_054B                1.377322\n",
       "LAT_UND_MT_055B                  1.128920\n",
       "LEFT_LAT_UND_MT_056              2.551556\n",
       "RECON_AGE                       49.061623\n",
       "PERCENT_ADT_TRUCK_109            4.114598\n",
       "SUFFICIENCY_RATING_feat_yr      69.718121\n",
       "dtype: float64"
      ]
     },
     "execution_count": 7,
     "metadata": {},
     "output_type": "execute_result"
    }
   ],
   "source": [
    "# use average numerical values for default input\n",
    "num_def = df_num.mean()\n",
    "num_def"
   ]
  },
  {
   "cell_type": "code",
   "execution_count": 8,
   "metadata": {},
   "outputs": [],
   "source": [
    "# save as json file\n",
    "# num_def.to_json('num_def.json')"
   ]
  },
  {
   "cell_type": "markdown",
   "metadata": {},
   "source": [
    "## Categorical"
   ]
  },
  {
   "cell_type": "code",
   "execution_count": 9,
   "metadata": {},
   "outputs": [
    {
     "data": {
      "text/plain": [
       "TOLL_020                   3\n",
       "MAINTENANCE_021            1\n",
       "FUNCTIONAL_CLASS_026       9\n",
       "DESIGN_LOAD_031            6\n",
       "MEDIAN_CODE_033            0\n",
       "STRUCTURE_FLARED_035       0\n",
       "RAILINGS_036A              0\n",
       "TRANSITIONS_036B           0\n",
       "APPR_RAIL_036C             1\n",
       "APPR_RAIL_END_036D         0\n",
       "HISTORY_037                5\n",
       "NAVIGATION_038             0\n",
       "OPEN_CLOSED_POSTED_041     A\n",
       "SERVICE_ON_042A            1\n",
       "SERVICE_UND_042B           5\n",
       "STRUCTURE_KIND_043A        3\n",
       "STRUCTURE_TYPE_043B        2\n",
       "APPR_KIND_044A             0\n",
       "APPR_TYPE_044B             0\n",
       "DECK_STRUCTURE_TYPE_107    1\n",
       "SURFACE_TYPE_108A          6\n",
       "MEMBRANE_TYPE_108B         0\n",
       "DECK_PROTECTION_108C       0\n",
       "DECK_COND_058              6\n",
       "SUPERSTRUCTURE_COND_059    6\n",
       "SUBSTRUCTURE_COND_060      6\n",
       "dtype: object"
      ]
     },
     "execution_count": 9,
     "metadata": {},
     "output_type": "execute_result"
    }
   ],
   "source": [
    "# use most frequent categorical values as default input\n",
    "cat_def = df_cat.mode()\n",
    "# convert to series\n",
    "cat_def = pd.Series(cat_def.values[0], index=cat_def.columns)\n",
    "cat_def"
   ]
  },
  {
   "cell_type": "code",
   "execution_count": 10,
   "metadata": {},
   "outputs": [],
   "source": [
    "# save as json file\n",
    "# cat_def.to_json('cat_def.json')"
   ]
  },
  {
   "cell_type": "markdown",
   "metadata": {},
   "source": [
    "# Input Value Options"
   ]
  },
  {
   "cell_type": "code",
   "execution_count": 11,
   "metadata": {},
   "outputs": [],
   "source": [
    "input_options = {}"
   ]
  },
  {
   "cell_type": "markdown",
   "metadata": {},
   "source": [
    "## Sufficiency Rating"
   ]
  },
  {
   "cell_type": "code",
   "execution_count": 12,
   "metadata": {},
   "outputs": [],
   "source": [
    "suff_rtg = {\n",
    "    'min': df_num['SUFFICIENCY_RATING_feat_yr'].min(),\n",
    "    'max': df_num['SUFFICIENCY_RATING_feat_yr'].max()\n",
    "}"
   ]
  },
  {
   "cell_type": "code",
   "execution_count": 13,
   "metadata": {},
   "outputs": [],
   "source": [
    "input_options['Sufficiency Rating'] = suff_rtg"
   ]
  },
  {
   "cell_type": "markdown",
   "metadata": {},
   "source": [
    "## 26 - Functional Class"
   ]
  },
  {
   "cell_type": "code",
   "execution_count": 14,
   "metadata": {},
   "outputs": [
    {
     "data": {
      "text/plain": [
       "[1.0, 2.0, 6.0, 7.0, 8.0, 9.0, 11.0, 12.0, 14.0, 16.0, 17.0, 19.0]"
      ]
     },
     "execution_count": 14,
     "metadata": {},
     "output_type": "execute_result"
    }
   ],
   "source": [
    "sorted(df_cat['FUNCTIONAL_CLASS_026'].unique())"
   ]
  },
  {
   "cell_type": "code",
   "execution_count": 15,
   "metadata": {},
   "outputs": [],
   "source": [
    "fun_class = {\n",
    "    'Rural Intrst. Arterial': 1.0,\n",
    "    'Rural Other Arterial': 2.0,\n",
    "    'Rural Minor Arterial': 6.0,\n",
    "    'Rural Major Collector': 7.0,\n",
    "    'Rural Minor Collector': 8.0,\n",
    "    'Rural Local': 9.0,\n",
    "    'Urban Intrst. Arterial': 11.0,\n",
    "    'Urban Exprswy. Arterial': 12.0,\n",
    "    'Urban Other Arterial': 14.0,\n",
    "    'Urban Minor Arterial': 16.0,\n",
    "    'Urban Collector': 17.0,\n",
    "    'Urban Local': 19.0\n",
    "}"
   ]
  },
  {
   "cell_type": "code",
   "execution_count": 16,
   "metadata": {},
   "outputs": [],
   "source": [
    "input_options['Item 26: Functional Class'] = fun_class"
   ]
  },
  {
   "cell_type": "markdown",
   "metadata": {},
   "source": [
    "## 37 - History"
   ]
  },
  {
   "cell_type": "code",
   "execution_count": 17,
   "metadata": {},
   "outputs": [
    {
     "data": {
      "text/plain": [
       "[1.0, 2.0, 3.0, 4.0, 5.0]"
      ]
     },
     "execution_count": 17,
     "metadata": {},
     "output_type": "execute_result"
    }
   ],
   "source": [
    "sorted(df_cat['HISTORY_037'].unique())"
   ]
  },
  {
   "cell_type": "code",
   "execution_count": 18,
   "metadata": {},
   "outputs": [],
   "source": [
    "hist = {\n",
    "    'Registered as historic': 1.0,\n",
    "    'Eligible to register': 2.0,\n",
    "    'Possibly eligible': 3.0,\n",
    "    'Significance indeterminable': 4.0,\n",
    "    'Not eligible': 5.0\n",
    "}"
   ]
  },
  {
   "cell_type": "code",
   "execution_count": 19,
   "metadata": {},
   "outputs": [],
   "source": [
    "input_options['Item 37: History'] = hist"
   ]
  },
  {
   "cell_type": "markdown",
   "metadata": {},
   "source": [
    "## 41 - Load Posting"
   ]
  },
  {
   "cell_type": "code",
   "execution_count": 20,
   "metadata": {},
   "outputs": [
    {
     "data": {
      "text/plain": [
       "['A', 'D', 'P', 'R']"
      ]
     },
     "execution_count": 20,
     "metadata": {},
     "output_type": "execute_result"
    }
   ],
   "source": [
    "sorted(df_cat['OPEN_CLOSED_POSTED_041'].unique())"
   ]
  },
  {
   "cell_type": "code",
   "execution_count": 21,
   "metadata": {},
   "outputs": [],
   "source": [
    "post = {\n",
    "    'Open': 'A',\n",
    "    'Open, with shoring': 'D',\n",
    "    'Posted for load': 'P',\n",
    "    'Posted for other': 'R'\n",
    "}"
   ]
  },
  {
   "cell_type": "code",
   "execution_count": 22,
   "metadata": {},
   "outputs": [],
   "source": [
    "input_options['Item 41: Load Posting'] = post"
   ]
  },
  {
   "cell_type": "markdown",
   "metadata": {},
   "source": [
    "## 42B - Service under Bridge"
   ]
  },
  {
   "cell_type": "code",
   "execution_count": 23,
   "metadata": {},
   "outputs": [
    {
     "data": {
      "text/plain": [
       "[0, 1, 2, 3, 4, 5, 6, 7, 8]"
      ]
     },
     "execution_count": 23,
     "metadata": {},
     "output_type": "execute_result"
    }
   ],
   "source": [
    "sorted(df_cat['SERVICE_UND_042B'].unique())"
   ]
  },
  {
   "cell_type": "code",
   "execution_count": 24,
   "metadata": {},
   "outputs": [],
   "source": [
    "serv_und = {\n",
    "    'Other': 0,\n",
    "    'Highway': 1,\n",
    "    'Railroad': 2,\n",
    "    'Pedestrian-bicycle': 3,\n",
    "    'Highway-railroad': 4,\n",
    "    'Waterway': 5,\n",
    "    'Highway-waterway': 6,\n",
    "    'Railroad-waterway': 7,\n",
    "    'Highway-waterway-railroad': 8\n",
    "}"
   ]
  },
  {
   "cell_type": "code",
   "execution_count": 25,
   "metadata": {},
   "outputs": [],
   "source": [
    "input_options['Item 42B: Service under Bridge'] = serv_und"
   ]
  },
  {
   "cell_type": "markdown",
   "metadata": {},
   "source": [
    "## 43A - Structure Type"
   ]
  },
  {
   "cell_type": "code",
   "execution_count": 26,
   "metadata": {},
   "outputs": [
    {
     "data": {
      "text/plain": [
       "[1, 2, 3, 4, 5, 6, 7, 8, 9]"
      ]
     },
     "execution_count": 26,
     "metadata": {},
     "output_type": "execute_result"
    }
   ],
   "source": [
    "sorted(df_cat['STRUCTURE_KIND_043A'].unique())"
   ]
  },
  {
   "cell_type": "code",
   "execution_count": 27,
   "metadata": {},
   "outputs": [],
   "source": [
    "struct_type = {\n",
    "    'Concrete': 1,\n",
    "    'Concrete continuous': 2,\n",
    "    'Steel': 3,\n",
    "    'Steel continuous': 4,\n",
    "    'Prestressed concrete': 5,\n",
    "    'Prestressed concrete continuous': 6,\n",
    "    'Wood or Timber': 7,\n",
    "    'Masonry': 8,\n",
    "    'Aluminum or Iron': 9\n",
    "}"
   ]
  },
  {
   "cell_type": "code",
   "execution_count": 28,
   "metadata": {},
   "outputs": [],
   "source": [
    "input_options['Item 43A: Structure Type'] = struct_type"
   ]
  },
  {
   "cell_type": "markdown",
   "metadata": {},
   "source": [
    "## 59 - Superstructure Condition Rating"
   ]
  },
  {
   "cell_type": "code",
   "execution_count": 29,
   "metadata": {},
   "outputs": [
    {
     "data": {
      "text/plain": [
       "['4', '5', '6', '7', '8', '9', 'N']"
      ]
     },
     "execution_count": 29,
     "metadata": {},
     "output_type": "execute_result"
    }
   ],
   "source": [
    "sorted(df_cat['SUPERSTRUCTURE_COND_059'].unique())"
   ]
  },
  {
   "cell_type": "code",
   "execution_count": 30,
   "metadata": {},
   "outputs": [],
   "source": [
    "sup_rtg = {\n",
    "    '4 - Poor': 4,\n",
    "    '5 - Fair': 5,\n",
    "    '6 - Satisfactory': 6,\n",
    "    '7 - Good': 7,\n",
    "    '8 - Very Good': 8,\n",
    "    '9 - Excellent': 9,\n",
    "    'Not Applicable': 'N'\n",
    "}"
   ]
  },
  {
   "cell_type": "code",
   "execution_count": 31,
   "metadata": {},
   "outputs": [],
   "source": [
    "input_options['Item 59: Superstructure Condition Rating'] = sup_rtg"
   ]
  },
  {
   "cell_type": "markdown",
   "metadata": {},
   "source": [
    "## 107 - Deck Structure Type"
   ]
  },
  {
   "cell_type": "code",
   "execution_count": 32,
   "metadata": {},
   "outputs": [
    {
     "data": {
      "text/plain": [
       "['1', '2', '3', '5', '6', '8', '9', 'N']"
      ]
     },
     "execution_count": 32,
     "metadata": {},
     "output_type": "execute_result"
    }
   ],
   "source": [
    "sorted(df_cat['DECK_STRUCTURE_TYPE_107'].unique())"
   ]
  },
  {
   "cell_type": "code",
   "execution_count": 33,
   "metadata": {},
   "outputs": [],
   "source": [
    "deck_type = {\n",
    "    'Concrete Cast-in-Place': 1,\n",
    "    'Concrete Precast Panels': 2,\n",
    "    'Open Grating': 3,\n",
    "    'Steel plate': 5,\n",
    "    'Corrugated Steel': 6,\n",
    "    'Wood or Timber': 8,\n",
    "    'Other': 9,\n",
    "    'Not applicable': 'N'\n",
    "}"
   ]
  },
  {
   "cell_type": "code",
   "execution_count": 34,
   "metadata": {},
   "outputs": [],
   "source": [
    "input_options['Item 107: Deck Type'] = deck_type"
   ]
  },
  {
   "cell_type": "markdown",
   "metadata": {},
   "source": [
    "## 108A - Surface Type"
   ]
  },
  {
   "cell_type": "code",
   "execution_count": 35,
   "metadata": {},
   "outputs": [
    {
     "data": {
      "text/plain": [
       "['0', '1', '2', '3', '5', '6', '7', '8', '9', 'N']"
      ]
     },
     "execution_count": 35,
     "metadata": {},
     "output_type": "execute_result"
    }
   ],
   "source": [
    "sorted(df_cat['SURFACE_TYPE_108A'].unique())"
   ]
  },
  {
   "cell_type": "code",
   "execution_count": 36,
   "metadata": {},
   "outputs": [],
   "source": [
    "surf_type = {\n",
    "    'None': 0,\n",
    "    'Monolithic Concrete': 1,\n",
    "    'Integral Concrete': 2,\n",
    "    'Latex Concrete': 3,\n",
    "    'Epoxy Overlay': 5,\n",
    "    'Bituminous': 6,\n",
    "    'Wood or Timber': 7,\n",
    "    'Gravel': 8,\n",
    "    'Other': 9,\n",
    "    'Not applicable': 'N'\n",
    "}"
   ]
  },
  {
   "cell_type": "code",
   "execution_count": 37,
   "metadata": {},
   "outputs": [],
   "source": [
    "input_options['Item 108A: Surface Type'] = surf_type"
   ]
  },
  {
   "cell_type": "markdown",
   "metadata": {},
   "source": [
    "## 108B - Membrane Type"
   ]
  },
  {
   "cell_type": "code",
   "execution_count": 38,
   "metadata": {},
   "outputs": [
    {
     "data": {
      "text/plain": [
       "['0', '1', '2', '3', '8', '9', 'N']"
      ]
     },
     "execution_count": 38,
     "metadata": {},
     "output_type": "execute_result"
    }
   ],
   "source": [
    "sorted(df_cat['MEMBRANE_TYPE_108B'].unique())"
   ]
  },
  {
   "cell_type": "code",
   "execution_count": 39,
   "metadata": {},
   "outputs": [],
   "source": [
    "mem_type = {\n",
    "    'None': 0,\n",
    "    'Built-up': 1,\n",
    "    'Preformed Fabric': 2,\n",
    "    'Epoxy': 3,\n",
    "    'Unknown': 8,\n",
    "    'Other': 9,\n",
    "    'Not Applicable': 'N'\n",
    "}"
   ]
  },
  {
   "cell_type": "code",
   "execution_count": 40,
   "metadata": {},
   "outputs": [],
   "source": [
    "input_options['Item 108B: Membrane Type'] = mem_type"
   ]
  },
  {
   "cell_type": "markdown",
   "metadata": {},
   "source": [
    "## 108C - Deck Protection"
   ]
  },
  {
   "cell_type": "code",
   "execution_count": 41,
   "metadata": {},
   "outputs": [
    {
     "data": {
      "text/plain": [
       "['0', '1', '3', '8', '9', 'N']"
      ]
     },
     "execution_count": 41,
     "metadata": {},
     "output_type": "execute_result"
    }
   ],
   "source": [
    "sorted(df_cat['DECK_PROTECTION_108C'].unique())"
   ]
  },
  {
   "cell_type": "code",
   "execution_count": 42,
   "metadata": {},
   "outputs": [],
   "source": [
    "deck_prot = {\n",
    "    'None': 0,\n",
    "    'Epoxy Coated Reinforcing': 1,\n",
    "    'Other Coated Reinforcing': 3,\n",
    "    'Unknown': 8,\n",
    "    'Other': 9,\n",
    "    'Not Applicable': 'N'\n",
    "}"
   ]
  },
  {
   "cell_type": "code",
   "execution_count": 43,
   "metadata": {},
   "outputs": [],
   "source": [
    "input_options['Item 108C: Deck Protection'] = deck_prot"
   ]
  },
  {
   "cell_type": "markdown",
   "metadata": {},
   "source": [
    "## Export Input Dictionary"
   ]
  },
  {
   "cell_type": "code",
   "execution_count": 44,
   "metadata": {},
   "outputs": [],
   "source": [
    "# export input options dictionary\n",
    "# with open('input_options.json', 'w') as outfile:\n",
    "#     json.dump(input_options, outfile)"
   ]
  },
  {
   "cell_type": "markdown",
   "metadata": {},
   "source": [
    "# Test Input"
   ]
  },
  {
   "cell_type": "markdown",
   "metadata": {},
   "source": [
    "## Load"
   ]
  },
  {
   "cell_type": "code",
   "execution_count": 45,
   "metadata": {},
   "outputs": [],
   "source": [
    "# load input options\n",
    "with open('input_options.json', 'r') as f:\n",
    "    input_options = json.load(f)\n",
    "# load blank input series\n",
    "input_series = pd.read_json('input_series.json', typ='series')\n",
    "# load numerical default values\n",
    "num_feat = pd.read_json('num_def.json', typ='series')\n",
    "# load categorical default values\n",
    "cat_feat = pd.read_json('cat_def.json', typ='series')"
   ]
  },
  {
   "cell_type": "markdown",
   "metadata": {},
   "source": [
    "## Categorical Input"
   ]
  },
  {
   "cell_type": "code",
   "execution_count": 46,
   "metadata": {},
   "outputs": [
    {
     "data": {
      "text/plain": [
       "['Rural Local',\n",
       " 'Registered as historic',\n",
       " 'Posted for other',\n",
       " 'Pedestrian-bicycle',\n",
       " 'Masonry',\n",
       " '5 - Fair',\n",
       " 'Steel plate',\n",
       " 'Bituminous',\n",
       " 'Preformed Fabric',\n",
       " 'Other']"
      ]
     },
     "execution_count": 46,
     "metadata": {},
     "output_type": "execute_result"
    }
   ],
   "source": [
    "# generate sample categorical input values\n",
    "np.random.seed(0)\n",
    "cat_input = [np.random.choice(list(input_options[i].keys())) for i in list(input_options.keys())[1:]]\n",
    "cat_input"
   ]
  },
  {
   "cell_type": "markdown",
   "metadata": {},
   "source": [
    "## Numerical Input"
   ]
  },
  {
   "cell_type": "code",
   "execution_count": 47,
   "metadata": {},
   "outputs": [
    {
     "data": {
      "text/plain": [
       "66.4"
      ]
     },
     "execution_count": 47,
     "metadata": {},
     "output_type": "execute_result"
    }
   ],
   "source": [
    "# generate sample numerical input values\n",
    "np.random.seed(0)\n",
    "num_input = np.round(np.random.uniform(\n",
    "    input_options['Sufficiency Rating']['min'], \n",
    "    input_options['Sufficiency Rating']['max'], \n",
    "    1\n",
    "), 1)[0]\n",
    "num_input"
   ]
  },
  {
   "cell_type": "markdown",
   "metadata": {},
   "source": [
    "## Process Input"
   ]
  },
  {
   "cell_type": "markdown",
   "metadata": {},
   "source": [
    "### Categorical"
   ]
  },
  {
   "cell_type": "code",
   "execution_count": 48,
   "metadata": {
    "scrolled": true
   },
   "outputs": [
    {
     "data": {
      "text/plain": [
       "FUNCTIONAL_CLASS_026       9\n",
       "HISTORY_037                1\n",
       "OPEN_CLOSED_POSTED_041     R\n",
       "SERVICE_UND_042B           3\n",
       "STRUCTURE_KIND_043A        8\n",
       "SUPERSTRUCTURE_COND_059    5\n",
       "DECK_STRUCTURE_TYPE_107    5\n",
       "SURFACE_TYPE_108A          6\n",
       "MEMBRANE_TYPE_108B         2\n",
       "DECK_PROTECTION_108C       9\n",
       "dtype: object"
      ]
     },
     "execution_count": 48,
     "metadata": {},
     "output_type": "execute_result"
    }
   ],
   "source": [
    "# convert categorical string input to code value\n",
    "cat_input = pd.Series([input_options[i][j] for i, j in zip(list(input_options.keys())[1:], cat_input)], index=cat_items)\n",
    "cat_input"
   ]
  },
  {
   "cell_type": "code",
   "execution_count": 49,
   "metadata": {},
   "outputs": [
    {
     "data": {
      "text/plain": [
       "TOLL_020                   3\n",
       "MAINTENANCE_021            1\n",
       "FUNCTIONAL_CLASS_026       9\n",
       "DESIGN_LOAD_031            6\n",
       "MEDIAN_CODE_033            0\n",
       "STRUCTURE_FLARED_035       0\n",
       "RAILINGS_036A              0\n",
       "TRANSITIONS_036B           0\n",
       "APPR_RAIL_036C             1\n",
       "APPR_RAIL_END_036D         0\n",
       "HISTORY_037                1\n",
       "NAVIGATION_038             0\n",
       "OPEN_CLOSED_POSTED_041     R\n",
       "SERVICE_ON_042A            1\n",
       "SERVICE_UND_042B           3\n",
       "STRUCTURE_KIND_043A        8\n",
       "STRUCTURE_TYPE_043B        2\n",
       "APPR_KIND_044A             0\n",
       "APPR_TYPE_044B             0\n",
       "DECK_STRUCTURE_TYPE_107    5\n",
       "SURFACE_TYPE_108A          6\n",
       "MEMBRANE_TYPE_108B         2\n",
       "DECK_PROTECTION_108C       9\n",
       "DECK_COND_058              6\n",
       "SUPERSTRUCTURE_COND_059    5\n",
       "SUBSTRUCTURE_COND_060      6\n",
       "dtype: object"
      ]
     },
     "execution_count": 49,
     "metadata": {},
     "output_type": "execute_result"
    }
   ],
   "source": [
    "# override default values with categorical input\n",
    "cat_feat[cat_input.index] = cat_input\n",
    "cat_feat"
   ]
  },
  {
   "cell_type": "code",
   "execution_count": 50,
   "metadata": {},
   "outputs": [
    {
     "data": {
      "text/plain": [
       "TOLL_020_3.0                 1\n",
       "MAINTENANCE_021_1.0          1\n",
       "FUNCTIONAL_CLASS_026_9.0     1\n",
       "DESIGN_LOAD_031_6.0          1\n",
       "MEDIAN_CODE_033_0.0          1\n",
       "STRUCTURE_FLARED_035_0.0     1\n",
       "RAILINGS_036A_0              1\n",
       "TRANSITIONS_036B_0           1\n",
       "APPR_RAIL_036C_1             1\n",
       "APPR_RAIL_END_036D_0         1\n",
       "HISTORY_037_1.0              1\n",
       "NAVIGATION_038_0             1\n",
       "OPEN_CLOSED_POSTED_041_R     1\n",
       "SERVICE_ON_042A_1            1\n",
       "SERVICE_UND_042B_3           1\n",
       "STRUCTURE_KIND_043A_8        1\n",
       "STRUCTURE_TYPE_043B_2        1\n",
       "APPR_KIND_044A_0.0           1\n",
       "APPR_TYPE_044B_0.0           1\n",
       "DECK_STRUCTURE_TYPE_107_5    1\n",
       "SURFACE_TYPE_108A_6          1\n",
       "MEMBRANE_TYPE_108B_2         1\n",
       "DECK_PROTECTION_108C_9       1\n",
       "DECK_COND_058_6              1\n",
       "SUPERSTRUCTURE_COND_059_5    1\n",
       "SUBSTRUCTURE_COND_060_6      1\n",
       "dtype: int64"
      ]
     },
     "execution_count": 50,
     "metadata": {},
     "output_type": "execute_result"
    }
   ],
   "source": [
    "# encode input values\n",
    "cat_feat_enc = pd.Series(1, index=pd.get_dummies(pd.DataFrame(cat_feat).T).columns)\n",
    "cat_feat_enc"
   ]
  },
  {
   "cell_type": "markdown",
   "metadata": {},
   "source": [
    "### Numerical"
   ]
  },
  {
   "cell_type": "code",
   "execution_count": 51,
   "metadata": {
    "scrolled": false
   },
   "outputs": [
    {
     "data": {
      "text/plain": [
       "MIN_VERT_CLR_010                98.647907\n",
       "DETOUR_KILOS_019                27.702257\n",
       "AGE                             52.727883\n",
       "TRAFFIC_LANES_ON_028A            2.178157\n",
       "TRAFFIC_LANES_UND_028B           0.782184\n",
       "ADT_029                       8298.545455\n",
       "APPR_WIDTH_MT_032                8.782001\n",
       "DEGREES_SKEW_034                13.001220\n",
       "NAV_VERT_CLR_MT_039              0.156681\n",
       "NAV_HORR_CLR_MT_040              0.437157\n",
       "MAIN_UNIT_SPANS_045              2.597926\n",
       "APPR_SPANS_046                   0.342892\n",
       "HORR_CLR_MT_047                  8.366626\n",
       "MAX_SPAN_LEN_MT_048             15.430506\n",
       "STRUCTURE_LEN_MT_049            51.870897\n",
       "LEFT_CURB_MT_050A                0.335937\n",
       "RIGHT_CURB_MT_050B               0.345149\n",
       "ROADWAY_WIDTH_MT_051             8.642099\n",
       "DECK_WIDTH_MT_052                9.885906\n",
       "VERT_CLR_OVER_MT_053            98.916571\n",
       "VERT_CLR_UND_054B                1.377322\n",
       "LAT_UND_MT_055B                  1.128920\n",
       "LEFT_LAT_UND_MT_056              2.551556\n",
       "RECON_AGE                       49.061623\n",
       "PERCENT_ADT_TRUCK_109            4.114598\n",
       "SUFFICIENCY_RATING_feat_yr      66.400000\n",
       "dtype: float64"
      ]
     },
     "execution_count": 51,
     "metadata": {},
     "output_type": "execute_result"
    }
   ],
   "source": [
    "# override default with numerical input\n",
    "if num_input:\n",
    "    num_feat['SUFFICIENCY_RATING_feat_yr'] =  num_input\n",
    "num_feat"
   ]
  },
  {
   "cell_type": "markdown",
   "metadata": {},
   "source": [
    "## Run Model"
   ]
  },
  {
   "cell_type": "code",
   "execution_count": 52,
   "metadata": {},
   "outputs": [],
   "source": [
    "# override blank input series\n",
    "input_series[num_feat.index] = num_feat\n",
    "input_series[cat_feat_enc.index] = cat_feat_enc"
   ]
  },
  {
   "cell_type": "code",
   "execution_count": 53,
   "metadata": {},
   "outputs": [
    {
     "data": {
      "text/plain": [
       "MIN_VERT_CLR_010                98.647907\n",
       "DETOUR_KILOS_019                27.702257\n",
       "AGE                             52.727883\n",
       "TRAFFIC_LANES_ON_028A            2.178157\n",
       "TRAFFIC_LANES_UND_028B           0.782184\n",
       "ADT_029                       8298.545455\n",
       "APPR_WIDTH_MT_032                8.782001\n",
       "DEGREES_SKEW_034                13.001220\n",
       "NAV_VERT_CLR_MT_039              0.156681\n",
       "NAV_HORR_CLR_MT_040              0.437157\n",
       "MAIN_UNIT_SPANS_045              2.597926\n",
       "APPR_SPANS_046                   0.342892\n",
       "HORR_CLR_MT_047                  8.366626\n",
       "MAX_SPAN_LEN_MT_048             15.430506\n",
       "STRUCTURE_LEN_MT_049            51.870897\n",
       "LEFT_CURB_MT_050A                0.335937\n",
       "RIGHT_CURB_MT_050B               0.345149\n",
       "ROADWAY_WIDTH_MT_051             8.642099\n",
       "DECK_WIDTH_MT_052                9.885906\n",
       "VERT_CLR_OVER_MT_053            98.916571\n",
       "VERT_CLR_UND_054B                1.377322\n",
       "LAT_UND_MT_055B                  1.128920\n",
       "LEFT_LAT_UND_MT_056              2.551556\n",
       "RECON_AGE                       49.061623\n",
       "PERCENT_ADT_TRUCK_109            4.114598\n",
       "SUFFICIENCY_RATING_feat_yr      66.400000\n",
       "TOLL_020_1.0                     0.000000\n",
       "TOLL_020_2.0                     0.000000\n",
       "TOLL_020_3.0                     1.000000\n",
       "MAINTENANCE_021_1.0              1.000000\n",
       "                                 ...     \n",
       "MEMBRANE_TYPE_108B_3             0.000000\n",
       "MEMBRANE_TYPE_108B_8             0.000000\n",
       "MEMBRANE_TYPE_108B_9             0.000000\n",
       "MEMBRANE_TYPE_108B_N             0.000000\n",
       "DECK_PROTECTION_108C_0           0.000000\n",
       "DECK_PROTECTION_108C_1           0.000000\n",
       "DECK_PROTECTION_108C_3           0.000000\n",
       "DECK_PROTECTION_108C_8           0.000000\n",
       "DECK_PROTECTION_108C_9           1.000000\n",
       "DECK_PROTECTION_108C_N           0.000000\n",
       "DECK_COND_058_3                  0.000000\n",
       "DECK_COND_058_4                  0.000000\n",
       "DECK_COND_058_5                  0.000000\n",
       "DECK_COND_058_6                  1.000000\n",
       "DECK_COND_058_7                  0.000000\n",
       "DECK_COND_058_8                  0.000000\n",
       "DECK_COND_058_9                  0.000000\n",
       "DECK_COND_058_N                  0.000000\n",
       "SUPERSTRUCTURE_COND_059_4        0.000000\n",
       "SUPERSTRUCTURE_COND_059_5        1.000000\n",
       "SUPERSTRUCTURE_COND_059_6        0.000000\n",
       "SUPERSTRUCTURE_COND_059_7        0.000000\n",
       "SUPERSTRUCTURE_COND_059_8        0.000000\n",
       "SUPERSTRUCTURE_COND_059_9        0.000000\n",
       "SUPERSTRUCTURE_COND_059_N        0.000000\n",
       "SUBSTRUCTURE_COND_060_4          0.000000\n",
       "SUBSTRUCTURE_COND_060_5          0.000000\n",
       "SUBSTRUCTURE_COND_060_6          1.000000\n",
       "SUBSTRUCTURE_COND_060_7          0.000000\n",
       "SUBSTRUCTURE_COND_060_8          0.000000\n",
       "Length: 191, dtype: float64"
      ]
     },
     "execution_count": 53,
     "metadata": {},
     "output_type": "execute_result"
    }
   ],
   "source": [
    "input_series"
   ]
  },
  {
   "cell_type": "code",
   "execution_count": 54,
   "metadata": {},
   "outputs": [],
   "source": [
    "# load saved model\n",
    "model = joblib.load('../model_output/model.sav')"
   ]
  },
  {
   "cell_type": "code",
   "execution_count": 60,
   "metadata": {},
   "outputs": [
    {
     "name": "stdout",
     "output_type": "stream",
     "text": [
      "not poor\n"
     ]
    }
   ],
   "source": [
    "print(model.predict([input_series])[0])"
   ]
  },
  {
   "cell_type": "code",
   "execution_count": 56,
   "metadata": {},
   "outputs": [
    {
     "data": {
      "text/plain": [
       "array(['not poor', 'poor'], dtype=object)"
      ]
     },
     "execution_count": 56,
     "metadata": {},
     "output_type": "execute_result"
    }
   ],
   "source": [
    "model.classes_"
   ]
  },
  {
   "cell_type": "code",
   "execution_count": 57,
   "metadata": {},
   "outputs": [
    {
     "data": {
      "text/plain": [
       "array([[0.99563995, 0.00436005]])"
      ]
     },
     "execution_count": 57,
     "metadata": {},
     "output_type": "execute_result"
    }
   ],
   "source": [
    "model.predict_proba([input_series])"
   ]
  },
  {
   "cell_type": "code",
   "execution_count": null,
   "metadata": {},
   "outputs": [],
   "source": []
  }
 ],
 "metadata": {
  "kernelspec": {
   "display_name": "Python 3",
   "language": "python",
   "name": "python3"
  },
  "language_info": {
   "codemirror_mode": {
    "name": "ipython",
    "version": 3
   },
   "file_extension": ".py",
   "mimetype": "text/x-python",
   "name": "python",
   "nbconvert_exporter": "python",
   "pygments_lexer": "ipython3",
   "version": "3.6.5"
  }
 },
 "nbformat": 4,
 "nbformat_minor": 2
}
